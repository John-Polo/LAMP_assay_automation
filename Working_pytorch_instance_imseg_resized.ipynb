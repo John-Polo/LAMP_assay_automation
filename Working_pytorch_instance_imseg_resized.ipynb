{
  "nbformat": 4,
  "nbformat_minor": 0,
  "metadata": {
    "colab": {
      "name": "Working_pytorch_instance_imseg_resized.ipynb",
      "provenance": [],
      "collapsed_sections": [],
      "authorship_tag": "ABX9TyNMTc1v7H/XLhkJfOvQkHht",
      "include_colab_link": true
    },
    "kernelspec": {
      "name": "python3",
      "display_name": "Python 3"
    },
    "language_info": {
      "name": "python"
    },
    "accelerator": "GPU",
    "widgets": {
      "application/vnd.jupyter.widget-state+json": {
        "07f265c5b74d43fc9cbf9de95b09229b": {
          "model_module": "@jupyter-widgets/controls",
          "model_name": "HBoxModel",
          "state": {
            "_view_name": "HBoxView",
            "_dom_classes": [],
            "_model_name": "HBoxModel",
            "_view_module": "@jupyter-widgets/controls",
            "_model_module_version": "1.5.0",
            "_view_count": null,
            "_view_module_version": "1.5.0",
            "box_style": "",
            "layout": "IPY_MODEL_118ab1504cfa4247ac3c9a1985a52e21",
            "_model_module": "@jupyter-widgets/controls",
            "children": [
              "IPY_MODEL_7fe43882e93d48a69ebc1c7393ac1f30",
              "IPY_MODEL_5f38c38105374b049558ae495ba4ae1d"
            ]
          }
        },
        "844d1eedbeff4eea8cef7aea1b7d7e88": {
          "model_module": "@jupyter-widgets/controls",
          "model_name": "HBoxModel",
          "state": {
            "_view_name": "HBoxView",
            "_dom_classes": [],
            "_model_name": "HBoxModel",
            "_view_module": "@jupyter-widgets/controls",
            "_model_module_version": "1.5.0",
            "_view_count": null,
            "_view_module_version": "1.5.0",
            "box_style": "",
            "layout": "IPY_MODEL_e627500da9c347a4b9da096297e2e81a",
            "_model_module": "@jupyter-widgets/controls",
            "children": [
              "IPY_MODEL_bcd8d4950850447ba8cc644da99ba191",
              "IPY_MODEL_26d7141203f9487e8aa23ae895d11886"
            ]
          }
        }
      }
    }
  },
  "cells": [
    {
      "cell_type": "markdown",
      "metadata": {
        "id": "view-in-github",
        "colab_type": "text"
      },
      "source": [
        "<a href=\"https://colab.research.google.com/github/ncsu-landscape-dynamics/LAMP_assay_automation/blob/main/Working_pytorch_instance_imseg_resized.ipynb\" target=\"_parent\"><img src=\"https://colab.research.google.com/assets/colab-badge.svg\" alt=\"Open In Colab\"/></a>"
      ]
    },
    {
      "cell_type": "code",
      "metadata": {
        "colab": {
          "base_uri": "https://localhost:8080/"
        },
        "id": "thyNLvhjnN4e",
        "outputId": "2986f2ef-25d5-4589-b820-555ec3f0c03c"
      },
      "source": [
        "# https://pytorch.org/tutorials/intermediate/torchvision_tutorial.html\n",
        "\n",
        "import os\n",
        "import numpy as np\n",
        "import torch\n",
        "import torch.utils.data\n",
        "from PIL import Image\n",
        "import matplotlib.pyplot as plt\n",
        "import matplotlib.image as mpimg\n",
        "\n",
        "from google.colab import drive\n",
        "drive.mount('/content/drive', force_remount=True)\n",
        "\n",
        "class four_chs(torch.utils.data.Dataset):\n",
        "    def __init__(self, root, transforms=None, target_transform=None):\n",
        "        self.root = root\n",
        "        self.transforms = transforms\n",
        "        self.target_transform = target_transform\n",
        "        # load all image files, sorting them to\n",
        "        # ensure that they are aligned\n",
        "        self.imgs = list(sorted(os.listdir(os.path.join(root, \"imgs_resized\"))))\n",
        "        self.masks = list(sorted(os.listdir(os.path.join(root, \"masks_resized\"))))\n",
        "\n",
        "    def __getitem__(self, idx):\n",
        "        # load images ad masks\n",
        "        img_path = os.path.join(self.root, \"imgs_resized\", self.imgs[idx])\n",
        "        mask_path = os.path.join(self.root, \"masks_resized\", self.masks[idx])\n",
        "        img = Image.open(img_path).convert(\"RGB\")\n",
        "        # note that we haven't converted the mask to RGB,\n",
        "        # because each color corresponds to a different instance\n",
        "        # with 0 being background\n",
        "        mask = Image.open(mask_path)\n",
        "\n",
        "        # Convert from image object to array\n",
        "        mask = np.array(mask)\n",
        "        \n",
        "        obj_ids = np.unique(mask)\n",
        "        # first is background, other values are noise, removed them\n",
        "        obj_ids = obj_ids[-4:]\n",
        "\n",
        "        # split the color-encoded mask into a set\n",
        "        # of binary masks\n",
        "        masks = mask == obj_ids[:, None, None]\n",
        "\n",
        "        # get bounding box coordinates for each mask\n",
        "        num_objs = len(obj_ids)\n",
        "        boxes = []\n",
        "        for i in range(num_objs):\n",
        "            pos = np.where(masks[i])\n",
        "            xmin = np.min(pos[1])\n",
        "            xmax = np.max(pos[1])\n",
        "            ymin = np.min(pos[0])\n",
        "            ymax = np.max(pos[0])\n",
        "            boxes.append([xmin, ymin, xmax, ymax])\n",
        "\n",
        "        boxes = torch.as_tensor(boxes, dtype=torch.float32)\n",
        "        # there is only one class\n",
        "        labels = torch.ones((num_objs,), dtype=torch.int64)\n",
        "        masks = torch.as_tensor(masks, dtype=torch.uint8)\n",
        "\n",
        "        image_id = torch.tensor([idx])\n",
        "        area = (boxes[:, 3] - boxes[:, 1]) * (boxes[:, 2] - boxes[:, 0])\n",
        "        # suppose all instances are not crowd\n",
        "        iscrowd = torch.zeros((num_objs,), dtype=torch.int64)\n",
        "\n",
        "        target = {}\n",
        "        target[\"boxes\"] = boxes\n",
        "        target[\"labels\"] = labels\n",
        "        target[\"masks\"] = masks\n",
        "        target[\"image_id\"] = image_id\n",
        "        target[\"area\"] = area\n",
        "        target[\"iscrowd\"] = iscrowd\n",
        "\n",
        "        if self.transforms is not None:\n",
        "            img, target = self.transforms(img, target)\n",
        "\n",
        "        return img, target\n",
        "\n",
        "    def __len__(self):\n",
        "        return len(self.imgs)"
      ],
      "execution_count": 1,
      "outputs": [
        {
          "output_type": "stream",
          "text": [
            "Mounted at /content/drive\n"
          ],
          "name": "stdout"
        }
      ]
    },
    {
      "cell_type": "code",
      "metadata": {
        "id": "ASZUhOClbBgs",
        "colab": {
          "base_uri": "https://localhost:8080/"
        },
        "outputId": "3bb887f2-9e13-4c5d-da2f-2212cb767b45"
      },
      "source": [
        "#os.chdir('drive/MyDrive/Colab Notebooks')\n",
        "\n",
        "%%shell\n",
        "\n",
        "# Download TorchVision repo to use some files from\n",
        "# references/detection\n",
        "git clone https://github.com/pytorch/vision.git\n",
        "cd vision\n",
        "git checkout v0.3.0\n",
        "\n",
        "cp references/detection/utils.py ../\n",
        "cp references/detection/transforms.py ../\n",
        "cp references/detection/coco_eval.py ../\n",
        "cp references/detection/engine.py ../\n",
        "cp references/detection/coco_utils.py ../"
      ],
      "execution_count": 2,
      "outputs": [
        {
          "output_type": "stream",
          "text": [
            "Cloning into 'vision'...\n",
            "remote: Enumerating objects: 29235, done.\u001b[K\n",
            "remote: Counting objects: 100% (1777/1777), done.\u001b[K\n",
            "remote: Compressing objects: 100% (457/457), done.\u001b[K\n",
            "remote: Total 29235 (delta 1336), reused 1699 (delta 1287), pack-reused 27458\u001b[K\n",
            "Receiving objects: 100% (29235/29235), 37.31 MiB | 30.74 MiB/s, done.\n",
            "Resolving deltas: 100% (21951/21951), done.\n",
            "Note: checking out 'v0.3.0'.\n",
            "\n",
            "You are in 'detached HEAD' state. You can look around, make experimental\n",
            "changes and commit them, and you can discard any commits you make in this\n",
            "state without impacting any branches by performing another checkout.\n",
            "\n",
            "If you want to create a new branch to retain commits you create, you may\n",
            "do so (now or later) by using -b with the checkout command again. Example:\n",
            "\n",
            "  git checkout -b <new-branch-name>\n",
            "\n",
            "HEAD is now at be376084 version check against PyTorch's CUDA version\n"
          ],
          "name": "stdout"
        },
        {
          "output_type": "execute_result",
          "data": {
            "text/plain": [
              ""
            ]
          },
          "metadata": {
            "tags": []
          },
          "execution_count": 2
        }
      ]
    },
    {
      "cell_type": "code",
      "metadata": {
        "id": "1tX1QjxcShEu"
      },
      "source": [
        "dataset0 = four_chs(root=\"/content/drive/MyDrive/APHIS Farm Bill (2020Milestones)/Protocols/For John/images/New set for John/collection/four_chambers\")"
      ],
      "execution_count": null,
      "outputs": []
    },
    {
      "cell_type": "code",
      "metadata": {
        "id": "uC00k1lQyZ7v",
        "colab": {
          "base_uri": "https://localhost:8080/"
        },
        "outputId": "8e578069-176f-4920-9dc0-c87bc36bc474"
      },
      "source": [
        "dataset0[0]"
      ],
      "execution_count": null,
      "outputs": [
        {
          "output_type": "execute_result",
          "data": {
            "text/plain": [
              "(<PIL.Image.Image image mode=RGB size=747x1328 at 0x7FE03DD8AD90>,\n",
              " {'area': tensor([34928., 12769., 12769., 12769.]),\n",
              "  'boxes': tensor([[394., 502., 512., 798.],\n",
              "          [399., 687., 512., 800.],\n",
              "          [399., 687., 512., 800.],\n",
              "          [399., 687., 512., 800.]]),\n",
              "  'image_id': tensor([0]),\n",
              "  'iscrowd': tensor([0, 0, 0, 0]),\n",
              "  'labels': tensor([1, 1, 1, 1]),\n",
              "  'masks': tensor([[[0, 0, 0,  ..., 0, 0, 0],\n",
              "           [0, 0, 0,  ..., 0, 0, 0],\n",
              "           [0, 0, 0,  ..., 0, 0, 0],\n",
              "           ...,\n",
              "           [0, 0, 0,  ..., 0, 0, 0],\n",
              "           [0, 0, 0,  ..., 0, 0, 0],\n",
              "           [0, 0, 0,  ..., 0, 0, 0]],\n",
              "  \n",
              "          [[0, 0, 0,  ..., 0, 0, 0],\n",
              "           [0, 0, 0,  ..., 0, 0, 0],\n",
              "           [0, 0, 0,  ..., 0, 0, 0],\n",
              "           ...,\n",
              "           [0, 0, 0,  ..., 0, 0, 0],\n",
              "           [0, 0, 0,  ..., 0, 0, 0],\n",
              "           [0, 0, 0,  ..., 0, 0, 0]],\n",
              "  \n",
              "          [[0, 0, 0,  ..., 0, 0, 0],\n",
              "           [0, 0, 0,  ..., 0, 0, 0],\n",
              "           [0, 0, 0,  ..., 0, 0, 0],\n",
              "           ...,\n",
              "           [0, 0, 0,  ..., 0, 0, 0],\n",
              "           [0, 0, 0,  ..., 0, 0, 0],\n",
              "           [0, 0, 0,  ..., 0, 0, 0]],\n",
              "  \n",
              "          [[0, 0, 0,  ..., 0, 0, 0],\n",
              "           [0, 0, 0,  ..., 0, 0, 0],\n",
              "           [0, 0, 0,  ..., 0, 0, 0],\n",
              "           ...,\n",
              "           [0, 0, 0,  ..., 0, 0, 0],\n",
              "           [0, 0, 0,  ..., 0, 0, 0],\n",
              "           [0, 0, 0,  ..., 0, 0, 0]]], dtype=torch.uint8)})"
            ]
          },
          "metadata": {
            "tags": []
          },
          "execution_count": 17
        }
      ]
    },
    {
      "cell_type": "code",
      "metadata": {
        "id": "9npNTUA7xmRe",
        "colab": {
          "base_uri": "https://localhost:8080/",
          "height": 74,
          "referenced_widgets": [
            "07f265c5b74d43fc9cbf9de95b09229b"
          ]
        },
        "outputId": "6e7e5765-5e84-4c55-baef-c998e77d266d"
      },
      "source": [
        "import torchvision\n",
        "from torchvision.models.detection.faster_rcnn import FastRCNNPredictor\n",
        " \n",
        "# load a model pre-trained pre-trained on COCO\n",
        "model = torchvision.models.detection.fasterrcnn_resnet50_fpn(pretrained=True)\n",
        " \n",
        "# replace the classifier with a new one, that has\n",
        "# num_classes which is user-defined\n",
        "num_classes = 2  # 1 class (person) + background\n",
        "# get number of input features for the classifier\n",
        "in_features = model.roi_heads.box_predictor.cls_score.in_features\n",
        "# replace the pre-trained head with a new one\n",
        "model.roi_heads.box_predictor = FastRCNNPredictor(in_features, num_classes) "
      ],
      "execution_count": 3,
      "outputs": [
        {
          "output_type": "stream",
          "text": [
            "Downloading: \"https://download.pytorch.org/models/fasterrcnn_resnet50_fpn_coco-258fb6c6.pth\" to /root/.cache/torch/hub/checkpoints/fasterrcnn_resnet50_fpn_coco-258fb6c6.pth\n"
          ],
          "name": "stderr"
        },
        {
          "output_type": "display_data",
          "data": {
            "application/vnd.jupyter.widget-view+json": {
              "model_id": "07f265c5b74d43fc9cbf9de95b09229b",
              "version_minor": 0,
              "version_major": 2
            },
            "text/plain": [
              "HBox(children=(FloatProgress(value=0.0, max=167502836.0), HTML(value='')))"
            ]
          },
          "metadata": {
            "tags": []
          }
        },
        {
          "output_type": "stream",
          "text": [
            "\n"
          ],
          "name": "stdout"
        }
      ]
    },
    {
      "cell_type": "code",
      "metadata": {
        "id": "iBUwqXo4MpAw"
      },
      "source": [
        "import torchvision\n",
        "from torchvision.models.detection.faster_rcnn import FastRCNNPredictor\n",
        "from torchvision.models.detection.mask_rcnn import MaskRCNNPredictor\n",
        "\n",
        "\n",
        "def get_model_instance_segmentation(num_classes):\n",
        "    # load an instance segmentation model pre-trained pre-trained on COCO\n",
        "    model = torchvision.models.detection.maskrcnn_resnet50_fpn(pretrained=True)\n",
        "\n",
        "    # get number of input features for the classifier\n",
        "    in_features = model.roi_heads.box_predictor.cls_score.in_features\n",
        "    # replace the pre-trained head with a new one\n",
        "    model.roi_heads.box_predictor = FastRCNNPredictor(in_features, num_classes)\n",
        "\n",
        "    # now get the number of input features for the mask classifier\n",
        "    in_features_mask = model.roi_heads.mask_predictor.conv5_mask.in_channels\n",
        "    hidden_layer = 256\n",
        "    # and replace the mask predictor with a new one\n",
        "    model.roi_heads.mask_predictor = MaskRCNNPredictor(in_features_mask,\n",
        "                                                       hidden_layer,\n",
        "                                                       num_classes)\n",
        "\n",
        "    return model"
      ],
      "execution_count": 4,
      "outputs": []
    },
    {
      "cell_type": "code",
      "metadata": {
        "id": "TP1ebz8PUi7J"
      },
      "source": [
        "from engine import train_one_epoch, evaluate\n",
        "import utils\n",
        "import transforms as T\n",
        "\n",
        "\n",
        "def get_transform(train):\n",
        "    transforms = []\n",
        "    # converts the image, a PIL image, into a PyTorch Tensor\n",
        "    transforms.append(T.ToTensor())\n",
        "    if train:\n",
        "        # during training, randomly flip the training images\n",
        "        # and ground-truth for data augmentation\n",
        "        transforms.append(T.RandomHorizontalFlip(0.5))\n",
        "    return T.Compose(transforms)"
      ],
      "execution_count": 5,
      "outputs": []
    },
    {
      "cell_type": "code",
      "metadata": {
        "id": "lcMjjCY4_zOf",
        "colab": {
          "base_uri": "https://localhost:8080/"
        },
        "outputId": "54259d5f-6441-436f-c1b1-7cce151ee40c"
      },
      "source": [
        "model = torchvision.models.detection.fasterrcnn_resnet50_fpn(pretrained=True)\n",
        "dataset = four_chs(root = '/content/drive/MyDrive/APHIS Farm Bill (2020Milestones)/Protocols/For John/images/New set for John/collection/four_chambers', transforms = get_transform(train=True))    \n",
        "data_loader = torch.utils.data.DataLoader(\n",
        " dataset, batch_size=1, shuffle=True, num_workers=2,\n",
        " collate_fn=utils.collate_fn)\n",
        "# For Training\n",
        "images,targets = next(iter(data_loader))\n",
        "images = list(image for image in images)\n",
        "targets = [{k: v for k, v in t.items()} for t in targets]\n",
        "output = model(images,targets)   # Returns losses and detections\n",
        "# For inference\n",
        "model.eval()\n",
        "x = [torch.rand(3, 300, 400), torch.rand(3, 500, 400)]\n",
        "predictions = model(x)          "
      ],
      "execution_count": 6,
      "outputs": [
        {
          "output_type": "stream",
          "text": [
            "/usr/local/lib/python3.7/dist-packages/torch/nn/functional.py:718: UserWarning: Named tensors and all their associated APIs are an experimental feature and subject to change. Please do not use them for anything important until they are released as stable. (Triggered internally at  /pytorch/c10/core/TensorImpl.h:1156.)\n",
            "  return torch.max_pool2d(input, kernel_size, stride, padding, dilation, ceil_mode)\n"
          ],
          "name": "stderr"
        }
      ]
    },
    {
      "cell_type": "code",
      "metadata": {
        "id": "T4BoIh1gz6xk"
      },
      "source": [
        "# use our dataset and defined transformations\n",
        "dataset = four_chs(root = '/content/drive/MyDrive/APHIS Farm Bill (2020Milestones)/Protocols/For John/images/New set for John/collection/four_chambers', transforms = get_transform(train=True))\n",
        "dataset_test = four_chs(root = '/content/drive/MyDrive/APHIS Farm Bill (2020Milestones)/Protocols/For John/images/New set for John/collection/four_chambers', transforms = get_transform(train=False))\n",
        "\n",
        "# split the dataset in train and test set\n",
        "torch.manual_seed(1)\n",
        "indices = torch.randperm(len(dataset)).tolist()\n",
        "dataset = torch.utils.data.Subset(dataset, indices[:-4])\n",
        "dataset_test = torch.utils.data.Subset(dataset_test, indices[-4:])\n",
        "\n",
        "# define training and validation data loaders\n",
        "data_loader = torch.utils.data.DataLoader(\n",
        "    dataset, batch_size=1, shuffle=True, num_workers=2,\n",
        "    collate_fn=utils.collate_fn)\n",
        "\n",
        "data_loader_test = torch.utils.data.DataLoader(\n",
        "    dataset_test, batch_size=1, shuffle=False, num_workers=2,\n",
        "    collate_fn=utils.collate_fn)"
      ],
      "execution_count": 7,
      "outputs": []
    },
    {
      "cell_type": "code",
      "metadata": {
        "id": "6kwig7t_rjcT",
        "colab": {
          "base_uri": "https://localhost:8080/",
          "height": 74,
          "referenced_widgets": [
            "844d1eedbeff4eea8cef7aea1b7d7e88"
          ]
        },
        "outputId": "4b297df5-f82e-4fcc-d896-767be5501193"
      },
      "source": [
        "device = torch.device('cuda') if torch.cuda.is_available() else torch.device('cpu')\n",
        "\n",
        "# our dataset has five classes\n",
        "num_classes = 2\n",
        "\n",
        "# get the model using our helper function\n",
        "model = get_model_instance_segmentation(num_classes)\n",
        "# move model to the right device\n",
        "model.to(device)\n",
        "\n",
        "# construct an optimizer\n",
        "params = [p for p in model.parameters() if p.requires_grad]\n",
        "optimizer = torch.optim.SGD(params, lr=0.005,\n",
        "                            momentum=0.9, weight_decay=0.0005)\n",
        "\n",
        "# and a learning rate scheduler which decreases the learning rate by\n",
        "# 10x every 3 epochs\n",
        "lr_scheduler = torch.optim.lr_scheduler.StepLR(optimizer,\n",
        "                                               step_size=3,\n",
        "                                               gamma=0.1)"
      ],
      "execution_count": 8,
      "outputs": [
        {
          "output_type": "stream",
          "text": [
            "Downloading: \"https://download.pytorch.org/models/maskrcnn_resnet50_fpn_coco-bf2d0c1e.pth\" to /root/.cache/torch/hub/checkpoints/maskrcnn_resnet50_fpn_coco-bf2d0c1e.pth\n"
          ],
          "name": "stderr"
        },
        {
          "output_type": "display_data",
          "data": {
            "application/vnd.jupyter.widget-view+json": {
              "model_id": "844d1eedbeff4eea8cef7aea1b7d7e88",
              "version_minor": 0,
              "version_major": 2
            },
            "text/plain": [
              "HBox(children=(FloatProgress(value=0.0, max=178090079.0), HTML(value='')))"
            ]
          },
          "metadata": {
            "tags": []
          }
        },
        {
          "output_type": "stream",
          "text": [
            "\n"
          ],
          "name": "stdout"
        }
      ]
    },
    {
      "cell_type": "code",
      "metadata": {
        "colab": {
          "base_uri": "https://localhost:8080/"
        },
        "id": "nJRofw-Lrsc2",
        "outputId": "f3228d26-2134-4cf5-d8fc-a9d60624eb03"
      },
      "source": [
        "# let's train it for 10 epochs\n",
        "num_epochs = 10\n",
        "\n",
        "for epoch in range(num_epochs):\n",
        "    # train for one epoch, printing every 10 iterations\n",
        "    train_one_epoch(model, optimizer, data_loader, device, epoch, print_freq=10)\n",
        "    # update the learning rate\n",
        "    lr_scheduler.step()\n",
        "    # evaluate on the test dataset\n",
        "    evaluate(model, data_loader_test, device=device)"
      ],
      "execution_count": 9,
      "outputs": [
        {
          "output_type": "stream",
          "text": [
            "Epoch: [0]  [ 0/20]  eta: 0:00:37  lr: 0.000268  loss: 0.8027 (0.8027)  loss_classifier: 0.4291 (0.4291)  loss_box_reg: 0.1490 (0.1490)  loss_mask: 0.1836 (0.1836)  loss_objectness: 0.0214 (0.0214)  loss_rpn_box_reg: 0.0196 (0.0196)  time: 1.8699  data: 1.1682  max mem: 1392\n",
            "Epoch: [0]  [10/20]  eta: 0:00:06  lr: 0.002897  loss: 0.7684 (0.8032)  loss_classifier: 0.2704 (0.2903)  loss_box_reg: 0.1490 (0.1652)  loss_mask: 0.2035 (0.3132)  loss_objectness: 0.0214 (0.0209)  loss_rpn_box_reg: 0.0107 (0.0137)  time: 0.6607  data: 0.2994  max mem: 1666\n",
            "Epoch: [0]  [19/20]  eta: 0:00:00  lr: 0.005000  loss: 0.7045 (0.8871)  loss_classifier: 0.1690 (0.2222)  loss_box_reg: 0.1305 (0.1472)  loss_mask: 0.2964 (0.4796)  loss_objectness: 0.0258 (0.0275)  loss_rpn_box_reg: 0.0099 (0.0105)  time: 0.5776  data: 0.2339  max mem: 1666\n",
            "Epoch: [0] Total time: 0:00:11 (0.5818 s / it)\n",
            "creating index...\n",
            "index created!\n",
            "Test:  [0/4]  eta: 0:00:01  model_time: 0.1974 (0.1974)  evaluator_time: 0.0020 (0.0020)  time: 0.4847  data: 0.2798  max mem: 1666\n",
            "Test:  [3/4]  eta: 0:00:00  model_time: 0.1267 (0.1449)  evaluator_time: 0.0011 (0.0013)  time: 0.2247  data: 0.0736  max mem: 1666\n",
            "Test: Total time: 0:00:00 (0.2435 s / it)\n",
            "Averaged stats: model_time: 0.1267 (0.1449)  evaluator_time: 0.0011 (0.0013)\n",
            "Accumulating evaluation results...\n",
            "DONE (t=0.00s).\n",
            "Accumulating evaluation results...\n",
            "DONE (t=0.00s).\n",
            "IoU metric: bbox\n",
            " Average Precision  (AP) @[ IoU=0.50:0.95 | area=   all | maxDets=100 ] = 0.000\n",
            " Average Precision  (AP) @[ IoU=0.50      | area=   all | maxDets=100 ] = 0.000\n",
            " Average Precision  (AP) @[ IoU=0.75      | area=   all | maxDets=100 ] = 0.000\n",
            " Average Precision  (AP) @[ IoU=0.50:0.95 | area= small | maxDets=100 ] = -1.000\n",
            " Average Precision  (AP) @[ IoU=0.50:0.95 | area=medium | maxDets=100 ] = -1.000\n",
            " Average Precision  (AP) @[ IoU=0.50:0.95 | area= large | maxDets=100 ] = 0.000\n",
            " Average Recall     (AR) @[ IoU=0.50:0.95 | area=   all | maxDets=  1 ] = 0.000\n",
            " Average Recall     (AR) @[ IoU=0.50:0.95 | area=   all | maxDets= 10 ] = 0.000\n",
            " Average Recall     (AR) @[ IoU=0.50:0.95 | area=   all | maxDets=100 ] = 0.000\n",
            " Average Recall     (AR) @[ IoU=0.50:0.95 | area= small | maxDets=100 ] = -1.000\n",
            " Average Recall     (AR) @[ IoU=0.50:0.95 | area=medium | maxDets=100 ] = -1.000\n",
            " Average Recall     (AR) @[ IoU=0.50:0.95 | area= large | maxDets=100 ] = 0.000\n",
            "IoU metric: segm\n",
            " Average Precision  (AP) @[ IoU=0.50:0.95 | area=   all | maxDets=100 ] = 0.000\n",
            " Average Precision  (AP) @[ IoU=0.50      | area=   all | maxDets=100 ] = 0.000\n",
            " Average Precision  (AP) @[ IoU=0.75      | area=   all | maxDets=100 ] = 0.000\n",
            " Average Precision  (AP) @[ IoU=0.50:0.95 | area= small | maxDets=100 ] = -1.000\n",
            " Average Precision  (AP) @[ IoU=0.50:0.95 | area=medium | maxDets=100 ] = -1.000\n",
            " Average Precision  (AP) @[ IoU=0.50:0.95 | area= large | maxDets=100 ] = 0.000\n",
            " Average Recall     (AR) @[ IoU=0.50:0.95 | area=   all | maxDets=  1 ] = 0.000\n",
            " Average Recall     (AR) @[ IoU=0.50:0.95 | area=   all | maxDets= 10 ] = 0.000\n",
            " Average Recall     (AR) @[ IoU=0.50:0.95 | area=   all | maxDets=100 ] = 0.000\n",
            " Average Recall     (AR) @[ IoU=0.50:0.95 | area= small | maxDets=100 ] = -1.000\n",
            " Average Recall     (AR) @[ IoU=0.50:0.95 | area=medium | maxDets=100 ] = -1.000\n",
            " Average Recall     (AR) @[ IoU=0.50:0.95 | area= large | maxDets=100 ] = 0.000\n",
            "Epoch: [1]  [ 0/20]  eta: 0:00:12  lr: 0.005000  loss: 0.7972 (0.7972)  loss_classifier: 0.1084 (0.1084)  loss_box_reg: 0.0503 (0.0503)  loss_mask: 0.5793 (0.5793)  loss_objectness: 0.0542 (0.0542)  loss_rpn_box_reg: 0.0050 (0.0050)  time: 0.6472  data: 0.2949  max mem: 1666\n",
            "Epoch: [1]  [10/20]  eta: 0:00:03  lr: 0.005000  loss: 0.6594 (0.7167)  loss_classifier: 0.1307 (0.1267)  loss_box_reg: 0.0853 (0.0899)  loss_mask: 0.3901 (0.4679)  loss_objectness: 0.0220 (0.0281)  loss_rpn_box_reg: 0.0038 (0.0041)  time: 0.3601  data: 0.0329  max mem: 1666\n",
            "Epoch: [1]  [19/20]  eta: 0:00:00  lr: 0.005000  loss: 0.5954 (0.7127)  loss_classifier: 0.1334 (0.1357)  loss_box_reg: 0.1072 (0.1107)  loss_mask: 0.3148 (0.4418)  loss_objectness: 0.0155 (0.0210)  loss_rpn_box_reg: 0.0026 (0.0035)  time: 0.3484  data: 0.0208  max mem: 1666\n",
            "Epoch: [1] Total time: 0:00:07 (0.3522 s / it)\n",
            "creating index...\n",
            "index created!\n",
            "Test:  [0/4]  eta: 0:00:02  model_time: 0.2769 (0.2769)  evaluator_time: 0.0994 (0.0994)  time: 0.6717  data: 0.2901  max mem: 1666\n",
            "Test:  [3/4]  eta: 0:00:00  model_time: 0.2769 (0.2827)  evaluator_time: 0.0994 (0.1389)  time: 0.5087  data: 0.0767  max mem: 1666\n",
            "Test: Total time: 0:00:02 (0.5322 s / it)\n",
            "Averaged stats: model_time: 0.2769 (0.2827)  evaluator_time: 0.0994 (0.1389)\n",
            "Accumulating evaluation results...\n",
            "DONE (t=0.00s).\n",
            "Accumulating evaluation results...\n",
            "DONE (t=0.00s).\n",
            "IoU metric: bbox\n",
            " Average Precision  (AP) @[ IoU=0.50:0.95 | area=   all | maxDets=100 ] = 0.046\n",
            " Average Precision  (AP) @[ IoU=0.50      | area=   all | maxDets=100 ] = 0.134\n",
            " Average Precision  (AP) @[ IoU=0.75      | area=   all | maxDets=100 ] = 0.019\n",
            " Average Precision  (AP) @[ IoU=0.50:0.95 | area= small | maxDets=100 ] = -1.000\n",
            " Average Precision  (AP) @[ IoU=0.50:0.95 | area=medium | maxDets=100 ] = -1.000\n",
            " Average Precision  (AP) @[ IoU=0.50:0.95 | area= large | maxDets=100 ] = 0.046\n",
            " Average Recall     (AR) @[ IoU=0.50:0.95 | area=   all | maxDets=  1 ] = 0.000\n",
            " Average Recall     (AR) @[ IoU=0.50:0.95 | area=   all | maxDets= 10 ] = 0.169\n",
            " Average Recall     (AR) @[ IoU=0.50:0.95 | area=   all | maxDets=100 ] = 0.225\n",
            " Average Recall     (AR) @[ IoU=0.50:0.95 | area= small | maxDets=100 ] = -1.000\n",
            " Average Recall     (AR) @[ IoU=0.50:0.95 | area=medium | maxDets=100 ] = -1.000\n",
            " Average Recall     (AR) @[ IoU=0.50:0.95 | area= large | maxDets=100 ] = 0.225\n",
            "IoU metric: segm\n",
            " Average Precision  (AP) @[ IoU=0.50:0.95 | area=   all | maxDets=100 ] = 0.000\n",
            " Average Precision  (AP) @[ IoU=0.50      | area=   all | maxDets=100 ] = 0.000\n",
            " Average Precision  (AP) @[ IoU=0.75      | area=   all | maxDets=100 ] = 0.000\n",
            " Average Precision  (AP) @[ IoU=0.50:0.95 | area= small | maxDets=100 ] = -1.000\n",
            " Average Precision  (AP) @[ IoU=0.50:0.95 | area=medium | maxDets=100 ] = -1.000\n",
            " Average Precision  (AP) @[ IoU=0.50:0.95 | area= large | maxDets=100 ] = 0.000\n",
            " Average Recall     (AR) @[ IoU=0.50:0.95 | area=   all | maxDets=  1 ] = 0.000\n",
            " Average Recall     (AR) @[ IoU=0.50:0.95 | area=   all | maxDets= 10 ] = 0.000\n",
            " Average Recall     (AR) @[ IoU=0.50:0.95 | area=   all | maxDets=100 ] = 0.000\n",
            " Average Recall     (AR) @[ IoU=0.50:0.95 | area= small | maxDets=100 ] = -1.000\n",
            " Average Recall     (AR) @[ IoU=0.50:0.95 | area=medium | maxDets=100 ] = -1.000\n",
            " Average Recall     (AR) @[ IoU=0.50:0.95 | area= large | maxDets=100 ] = 0.000\n",
            "Epoch: [2]  [ 0/20]  eta: 0:00:12  lr: 0.005000  loss: 0.6165 (0.6165)  loss_classifier: 0.1535 (0.1535)  loss_box_reg: 0.2013 (0.2013)  loss_mask: 0.2562 (0.2562)  loss_objectness: 0.0035 (0.0035)  loss_rpn_box_reg: 0.0019 (0.0019)  time: 0.6461  data: 0.2790  max mem: 1666\n",
            "Epoch: [2]  [10/20]  eta: 0:00:03  lr: 0.005000  loss: 0.5763 (0.6163)  loss_classifier: 0.1518 (0.1505)  loss_box_reg: 0.1763 (0.1733)  loss_mask: 0.2450 (0.2854)  loss_objectness: 0.0035 (0.0044)  loss_rpn_box_reg: 0.0021 (0.0028)  time: 0.3714  data: 0.0321  max mem: 1666\n",
            "Epoch: [2]  [19/20]  eta: 0:00:00  lr: 0.005000  loss: 0.5763 (0.6393)  loss_classifier: 0.1392 (0.1410)  loss_box_reg: 0.1573 (0.1640)  loss_mask: 0.2454 (0.3263)  loss_objectness: 0.0035 (0.0058)  loss_rpn_box_reg: 0.0019 (0.0023)  time: 0.3585  data: 0.0204  max mem: 1666\n",
            "Epoch: [2] Total time: 0:00:07 (0.3625 s / it)\n",
            "creating index...\n",
            "index created!\n",
            "Test:  [0/4]  eta: 0:00:03  model_time: 0.3507 (0.3507)  evaluator_time: 0.1384 (0.1384)  time: 0.7758  data: 0.2814  max mem: 1666\n",
            "Test:  [3/4]  eta: 0:00:00  model_time: 0.3507 (0.3163)  evaluator_time: 0.1349 (0.1327)  time: 0.5327  data: 0.0746  max mem: 1666\n",
            "Test: Total time: 0:00:02 (0.5565 s / it)\n",
            "Averaged stats: model_time: 0.3507 (0.3163)  evaluator_time: 0.1349 (0.1327)\n",
            "Accumulating evaluation results...\n",
            "DONE (t=0.00s).\n",
            "Accumulating evaluation results...\n",
            "DONE (t=0.00s).\n",
            "IoU metric: bbox\n",
            " Average Precision  (AP) @[ IoU=0.50:0.95 | area=   all | maxDets=100 ] = 0.132\n",
            " Average Precision  (AP) @[ IoU=0.50      | area=   all | maxDets=100 ] = 0.188\n",
            " Average Precision  (AP) @[ IoU=0.75      | area=   all | maxDets=100 ] = 0.145\n",
            " Average Precision  (AP) @[ IoU=0.50:0.95 | area= small | maxDets=100 ] = -1.000\n",
            " Average Precision  (AP) @[ IoU=0.50:0.95 | area=medium | maxDets=100 ] = -1.000\n",
            " Average Precision  (AP) @[ IoU=0.50:0.95 | area= large | maxDets=100 ] = 0.132\n",
            " Average Recall     (AR) @[ IoU=0.50:0.95 | area=   all | maxDets=  1 ] = 0.000\n",
            " Average Recall     (AR) @[ IoU=0.50:0.95 | area=   all | maxDets= 10 ] = 0.362\n",
            " Average Recall     (AR) @[ IoU=0.50:0.95 | area=   all | maxDets=100 ] = 0.375\n",
            " Average Recall     (AR) @[ IoU=0.50:0.95 | area= small | maxDets=100 ] = -1.000\n",
            " Average Recall     (AR) @[ IoU=0.50:0.95 | area=medium | maxDets=100 ] = -1.000\n",
            " Average Recall     (AR) @[ IoU=0.50:0.95 | area= large | maxDets=100 ] = 0.375\n",
            "IoU metric: segm\n",
            " Average Precision  (AP) @[ IoU=0.50:0.95 | area=   all | maxDets=100 ] = 0.000\n",
            " Average Precision  (AP) @[ IoU=0.50      | area=   all | maxDets=100 ] = 0.000\n",
            " Average Precision  (AP) @[ IoU=0.75      | area=   all | maxDets=100 ] = 0.000\n",
            " Average Precision  (AP) @[ IoU=0.50:0.95 | area= small | maxDets=100 ] = -1.000\n",
            " Average Precision  (AP) @[ IoU=0.50:0.95 | area=medium | maxDets=100 ] = -1.000\n",
            " Average Precision  (AP) @[ IoU=0.50:0.95 | area= large | maxDets=100 ] = 0.000\n",
            " Average Recall     (AR) @[ IoU=0.50:0.95 | area=   all | maxDets=  1 ] = 0.000\n",
            " Average Recall     (AR) @[ IoU=0.50:0.95 | area=   all | maxDets= 10 ] = 0.000\n",
            " Average Recall     (AR) @[ IoU=0.50:0.95 | area=   all | maxDets=100 ] = 0.000\n",
            " Average Recall     (AR) @[ IoU=0.50:0.95 | area= small | maxDets=100 ] = -1.000\n",
            " Average Recall     (AR) @[ IoU=0.50:0.95 | area=medium | maxDets=100 ] = -1.000\n",
            " Average Recall     (AR) @[ IoU=0.50:0.95 | area= large | maxDets=100 ] = 0.000\n",
            "Epoch: [3]  [ 0/20]  eta: 0:00:13  lr: 0.000500  loss: 0.5374 (0.5374)  loss_classifier: 0.1610 (0.1610)  loss_box_reg: 0.1145 (0.1145)  loss_mask: 0.2484 (0.2484)  loss_objectness: 0.0095 (0.0095)  loss_rpn_box_reg: 0.0040 (0.0040)  time: 0.6541  data: 0.3082  max mem: 1666\n",
            "Epoch: [3]  [10/20]  eta: 0:00:03  lr: 0.000500  loss: 0.4974 (0.5540)  loss_classifier: 0.1080 (0.1142)  loss_box_reg: 0.1341 (0.1389)  loss_mask: 0.2519 (0.2952)  loss_objectness: 0.0016 (0.0041)  loss_rpn_box_reg: 0.0015 (0.0016)  time: 0.3752  data: 0.0345  max mem: 1666\n",
            "Epoch: [3]  [19/20]  eta: 0:00:00  lr: 0.000500  loss: 0.4948 (0.5767)  loss_classifier: 0.0950 (0.1030)  loss_box_reg: 0.1303 (0.1300)  loss_mask: 0.2484 (0.3379)  loss_objectness: 0.0013 (0.0043)  loss_rpn_box_reg: 0.0013 (0.0015)  time: 0.3613  data: 0.0217  max mem: 1666\n",
            "Epoch: [3] Total time: 0:00:07 (0.3654 s / it)\n",
            "creating index...\n",
            "index created!\n",
            "Test:  [0/4]  eta: 0:00:02  model_time: 0.3144 (0.3144)  evaluator_time: 0.1016 (0.1016)  time: 0.7167  data: 0.2857  max mem: 1666\n",
            "Test:  [3/4]  eta: 0:00:00  model_time: 0.2822 (0.2644)  evaluator_time: 0.0893 (0.0925)  time: 0.4430  data: 0.0757  max mem: 1666\n",
            "Test: Total time: 0:00:01 (0.4660 s / it)\n",
            "Averaged stats: model_time: 0.2822 (0.2644)  evaluator_time: 0.0893 (0.0925)\n",
            "Accumulating evaluation results...\n",
            "DONE (t=0.00s).\n",
            "Accumulating evaluation results...\n",
            "DONE (t=0.00s).\n",
            "IoU metric: bbox\n",
            " Average Precision  (AP) @[ IoU=0.50:0.95 | area=   all | maxDets=100 ] = 0.167\n",
            " Average Precision  (AP) @[ IoU=0.50      | area=   all | maxDets=100 ] = 0.298\n",
            " Average Precision  (AP) @[ IoU=0.75      | area=   all | maxDets=100 ] = 0.173\n",
            " Average Precision  (AP) @[ IoU=0.50:0.95 | area= small | maxDets=100 ] = -1.000\n",
            " Average Precision  (AP) @[ IoU=0.50:0.95 | area=medium | maxDets=100 ] = -1.000\n",
            " Average Precision  (AP) @[ IoU=0.50:0.95 | area= large | maxDets=100 ] = 0.167\n",
            " Average Recall     (AR) @[ IoU=0.50:0.95 | area=   all | maxDets=  1 ] = 0.094\n",
            " Average Recall     (AR) @[ IoU=0.50:0.95 | area=   all | maxDets= 10 ] = 0.369\n",
            " Average Recall     (AR) @[ IoU=0.50:0.95 | area=   all | maxDets=100 ] = 0.394\n",
            " Average Recall     (AR) @[ IoU=0.50:0.95 | area= small | maxDets=100 ] = -1.000\n",
            " Average Recall     (AR) @[ IoU=0.50:0.95 | area=medium | maxDets=100 ] = -1.000\n",
            " Average Recall     (AR) @[ IoU=0.50:0.95 | area= large | maxDets=100 ] = 0.394\n",
            "IoU metric: segm\n",
            " Average Precision  (AP) @[ IoU=0.50:0.95 | area=   all | maxDets=100 ] = 0.000\n",
            " Average Precision  (AP) @[ IoU=0.50      | area=   all | maxDets=100 ] = 0.000\n",
            " Average Precision  (AP) @[ IoU=0.75      | area=   all | maxDets=100 ] = 0.000\n",
            " Average Precision  (AP) @[ IoU=0.50:0.95 | area= small | maxDets=100 ] = -1.000\n",
            " Average Precision  (AP) @[ IoU=0.50:0.95 | area=medium | maxDets=100 ] = -1.000\n",
            " Average Precision  (AP) @[ IoU=0.50:0.95 | area= large | maxDets=100 ] = 0.000\n",
            " Average Recall     (AR) @[ IoU=0.50:0.95 | area=   all | maxDets=  1 ] = 0.000\n",
            " Average Recall     (AR) @[ IoU=0.50:0.95 | area=   all | maxDets= 10 ] = 0.000\n",
            " Average Recall     (AR) @[ IoU=0.50:0.95 | area=   all | maxDets=100 ] = 0.000\n",
            " Average Recall     (AR) @[ IoU=0.50:0.95 | area= small | maxDets=100 ] = -1.000\n",
            " Average Recall     (AR) @[ IoU=0.50:0.95 | area=medium | maxDets=100 ] = -1.000\n",
            " Average Recall     (AR) @[ IoU=0.50:0.95 | area= large | maxDets=100 ] = 0.000\n",
            "Epoch: [4]  [ 0/20]  eta: 0:00:13  lr: 0.000500  loss: 0.3936 (0.3936)  loss_classifier: 0.0802 (0.0802)  loss_box_reg: 0.1121 (0.1121)  loss_mask: 0.1865 (0.1865)  loss_objectness: 0.0136 (0.0136)  loss_rpn_box_reg: 0.0010 (0.0010)  time: 0.6822  data: 0.2986  max mem: 1666\n",
            "Epoch: [4]  [10/20]  eta: 0:00:03  lr: 0.000500  loss: 0.4542 (0.5574)  loss_classifier: 0.0895 (0.0911)  loss_box_reg: 0.1213 (0.1239)  loss_mask: 0.2197 (0.3352)  loss_objectness: 0.0014 (0.0055)  loss_rpn_box_reg: 0.0013 (0.0018)  time: 0.3792  data: 0.0334  max mem: 1666\n",
            "Epoch: [4]  [19/20]  eta: 0:00:00  lr: 0.000500  loss: 0.4371 (0.5563)  loss_classifier: 0.0895 (0.0920)  loss_box_reg: 0.1213 (0.1233)  loss_mask: 0.2197 (0.3350)  loss_objectness: 0.0015 (0.0044)  loss_rpn_box_reg: 0.0013 (0.0017)  time: 0.3662  data: 0.0213  max mem: 1666\n",
            "Epoch: [4] Total time: 0:00:07 (0.3703 s / it)\n",
            "creating index...\n",
            "index created!\n",
            "Test:  [0/4]  eta: 0:00:02  model_time: 0.3314 (0.3314)  evaluator_time: 0.1119 (0.1119)  time: 0.7373  data: 0.2861  max mem: 1666\n",
            "Test:  [3/4]  eta: 0:00:00  model_time: 0.2848 (0.2963)  evaluator_time: 0.0909 (0.0968)  time: 0.4780  data: 0.0759  max mem: 1666\n",
            "Test: Total time: 0:00:02 (0.5015 s / it)\n",
            "Averaged stats: model_time: 0.2848 (0.2963)  evaluator_time: 0.0909 (0.0968)\n",
            "Accumulating evaluation results...\n",
            "DONE (t=0.00s).\n",
            "Accumulating evaluation results...\n",
            "DONE (t=0.00s).\n",
            "IoU metric: bbox\n",
            " Average Precision  (AP) @[ IoU=0.50:0.95 | area=   all | maxDets=100 ] = 0.192\n",
            " Average Precision  (AP) @[ IoU=0.50      | area=   all | maxDets=100 ] = 0.307\n",
            " Average Precision  (AP) @[ IoU=0.75      | area=   all | maxDets=100 ] = 0.237\n",
            " Average Precision  (AP) @[ IoU=0.50:0.95 | area= small | maxDets=100 ] = -1.000\n",
            " Average Precision  (AP) @[ IoU=0.50:0.95 | area=medium | maxDets=100 ] = -1.000\n",
            " Average Precision  (AP) @[ IoU=0.50:0.95 | area= large | maxDets=100 ] = 0.192\n",
            " Average Recall     (AR) @[ IoU=0.50:0.95 | area=   all | maxDets=  1 ] = 0.144\n",
            " Average Recall     (AR) @[ IoU=0.50:0.95 | area=   all | maxDets= 10 ] = 0.356\n",
            " Average Recall     (AR) @[ IoU=0.50:0.95 | area=   all | maxDets=100 ] = 0.381\n",
            " Average Recall     (AR) @[ IoU=0.50:0.95 | area= small | maxDets=100 ] = -1.000\n",
            " Average Recall     (AR) @[ IoU=0.50:0.95 | area=medium | maxDets=100 ] = -1.000\n",
            " Average Recall     (AR) @[ IoU=0.50:0.95 | area= large | maxDets=100 ] = 0.381\n",
            "IoU metric: segm\n",
            " Average Precision  (AP) @[ IoU=0.50:0.95 | area=   all | maxDets=100 ] = 0.000\n",
            " Average Precision  (AP) @[ IoU=0.50      | area=   all | maxDets=100 ] = 0.000\n",
            " Average Precision  (AP) @[ IoU=0.75      | area=   all | maxDets=100 ] = 0.000\n",
            " Average Precision  (AP) @[ IoU=0.50:0.95 | area= small | maxDets=100 ] = -1.000\n",
            " Average Precision  (AP) @[ IoU=0.50:0.95 | area=medium | maxDets=100 ] = -1.000\n",
            " Average Precision  (AP) @[ IoU=0.50:0.95 | area= large | maxDets=100 ] = 0.000\n",
            " Average Recall     (AR) @[ IoU=0.50:0.95 | area=   all | maxDets=  1 ] = 0.000\n",
            " Average Recall     (AR) @[ IoU=0.50:0.95 | area=   all | maxDets= 10 ] = 0.000\n",
            " Average Recall     (AR) @[ IoU=0.50:0.95 | area=   all | maxDets=100 ] = 0.000\n",
            " Average Recall     (AR) @[ IoU=0.50:0.95 | area= small | maxDets=100 ] = -1.000\n",
            " Average Recall     (AR) @[ IoU=0.50:0.95 | area=medium | maxDets=100 ] = -1.000\n",
            " Average Recall     (AR) @[ IoU=0.50:0.95 | area= large | maxDets=100 ] = 0.000\n",
            "Epoch: [5]  [ 0/20]  eta: 0:00:12  lr: 0.000500  loss: 0.7758 (0.7758)  loss_classifier: 0.0928 (0.0928)  loss_box_reg: 0.1181 (0.1181)  loss_mask: 0.5598 (0.5598)  loss_objectness: 0.0041 (0.0041)  loss_rpn_box_reg: 0.0010 (0.0010)  time: 0.6403  data: 0.2743  max mem: 1666\n",
            "Epoch: [5]  [10/20]  eta: 0:00:03  lr: 0.000500  loss: 0.4309 (0.5013)  loss_classifier: 0.0863 (0.0945)  loss_box_reg: 0.1147 (0.1177)  loss_mask: 0.2204 (0.2819)  loss_objectness: 0.0014 (0.0055)  loss_rpn_box_reg: 0.0010 (0.0017)  time: 0.3792  data: 0.0315  max mem: 1666\n",
            "Epoch: [5]  [19/20]  eta: 0:00:00  lr: 0.000500  loss: 0.4233 (0.5200)  loss_classifier: 0.0837 (0.0880)  loss_box_reg: 0.1097 (0.1116)  loss_mask: 0.2168 (0.3154)  loss_objectness: 0.0006 (0.0034)  loss_rpn_box_reg: 0.0012 (0.0016)  time: 0.3672  data: 0.0200  max mem: 1666\n",
            "Epoch: [5] Total time: 0:00:07 (0.3716 s / it)\n",
            "creating index...\n",
            "index created!\n",
            "Test:  [0/4]  eta: 0:00:02  model_time: 0.2904 (0.2904)  evaluator_time: 0.0748 (0.0748)  time: 0.6669  data: 0.2886  max mem: 1666\n",
            "Test:  [3/4]  eta: 0:00:00  model_time: 0.2535 (0.2490)  evaluator_time: 0.0709 (0.0797)  time: 0.4145  data: 0.0764  max mem: 1666\n",
            "Test: Total time: 0:00:01 (0.4364 s / it)\n",
            "Averaged stats: model_time: 0.2535 (0.2490)  evaluator_time: 0.0709 (0.0797)\n",
            "Accumulating evaluation results...\n",
            "DONE (t=0.00s).\n",
            "Accumulating evaluation results...\n",
            "DONE (t=0.00s).\n",
            "IoU metric: bbox\n",
            " Average Precision  (AP) @[ IoU=0.50:0.95 | area=   all | maxDets=100 ] = 0.242\n",
            " Average Precision  (AP) @[ IoU=0.50      | area=   all | maxDets=100 ] = 0.352\n",
            " Average Precision  (AP) @[ IoU=0.75      | area=   all | maxDets=100 ] = 0.301\n",
            " Average Precision  (AP) @[ IoU=0.50:0.95 | area= small | maxDets=100 ] = -1.000\n",
            " Average Precision  (AP) @[ IoU=0.50:0.95 | area=medium | maxDets=100 ] = -1.000\n",
            " Average Precision  (AP) @[ IoU=0.50:0.95 | area= large | maxDets=100 ] = 0.243\n",
            " Average Recall     (AR) @[ IoU=0.50:0.95 | area=   all | maxDets=  1 ] = 0.156\n",
            " Average Recall     (AR) @[ IoU=0.50:0.95 | area=   all | maxDets= 10 ] = 0.412\n",
            " Average Recall     (AR) @[ IoU=0.50:0.95 | area=   all | maxDets=100 ] = 0.425\n",
            " Average Recall     (AR) @[ IoU=0.50:0.95 | area= small | maxDets=100 ] = -1.000\n",
            " Average Recall     (AR) @[ IoU=0.50:0.95 | area=medium | maxDets=100 ] = -1.000\n",
            " Average Recall     (AR) @[ IoU=0.50:0.95 | area= large | maxDets=100 ] = 0.425\n",
            "IoU metric: segm\n",
            " Average Precision  (AP) @[ IoU=0.50:0.95 | area=   all | maxDets=100 ] = 0.000\n",
            " Average Precision  (AP) @[ IoU=0.50      | area=   all | maxDets=100 ] = 0.000\n",
            " Average Precision  (AP) @[ IoU=0.75      | area=   all | maxDets=100 ] = 0.000\n",
            " Average Precision  (AP) @[ IoU=0.50:0.95 | area= small | maxDets=100 ] = -1.000\n",
            " Average Precision  (AP) @[ IoU=0.50:0.95 | area=medium | maxDets=100 ] = -1.000\n",
            " Average Precision  (AP) @[ IoU=0.50:0.95 | area= large | maxDets=100 ] = 0.000\n",
            " Average Recall     (AR) @[ IoU=0.50:0.95 | area=   all | maxDets=  1 ] = 0.000\n",
            " Average Recall     (AR) @[ IoU=0.50:0.95 | area=   all | maxDets= 10 ] = 0.000\n",
            " Average Recall     (AR) @[ IoU=0.50:0.95 | area=   all | maxDets=100 ] = 0.000\n",
            " Average Recall     (AR) @[ IoU=0.50:0.95 | area= small | maxDets=100 ] = -1.000\n",
            " Average Recall     (AR) @[ IoU=0.50:0.95 | area=medium | maxDets=100 ] = -1.000\n",
            " Average Recall     (AR) @[ IoU=0.50:0.95 | area= large | maxDets=100 ] = 0.000\n",
            "Epoch: [6]  [ 0/20]  eta: 0:00:12  lr: 0.000050  loss: 0.8076 (0.8076)  loss_classifier: 0.0687 (0.0687)  loss_box_reg: 0.1015 (0.1015)  loss_mask: 0.6343 (0.6343)  loss_objectness: 0.0019 (0.0019)  loss_rpn_box_reg: 0.0012 (0.0012)  time: 0.6277  data: 0.2755  max mem: 1666\n",
            "Epoch: [6]  [10/20]  eta: 0:00:03  lr: 0.000050  loss: 0.4005 (0.4864)  loss_classifier: 0.0779 (0.0854)  loss_box_reg: 0.1057 (0.1101)  loss_mask: 0.2123 (0.2862)  loss_objectness: 0.0010 (0.0032)  loss_rpn_box_reg: 0.0010 (0.0015)  time: 0.3790  data: 0.0313  max mem: 1666\n",
            "Epoch: [6]  [19/20]  eta: 0:00:00  lr: 0.000050  loss: 0.4017 (0.5070)  loss_classifier: 0.0779 (0.0811)  loss_box_reg: 0.1050 (0.1070)  loss_mask: 0.2125 (0.3151)  loss_objectness: 0.0007 (0.0024)  loss_rpn_box_reg: 0.0010 (0.0013)  time: 0.3672  data: 0.0201  max mem: 1666\n",
            "Epoch: [6] Total time: 0:00:07 (0.3716 s / it)\n",
            "creating index...\n",
            "index created!\n",
            "Test:  [0/4]  eta: 0:00:02  model_time: 0.3015 (0.3015)  evaluator_time: 0.0881 (0.0881)  time: 0.7050  data: 0.3064  max mem: 1666\n",
            "Test:  [3/4]  eta: 0:00:00  model_time: 0.2562 (0.2549)  evaluator_time: 0.0745 (0.0884)  time: 0.4328  data: 0.0810  max mem: 1666\n",
            "Test: Total time: 0:00:01 (0.4556 s / it)\n",
            "Averaged stats: model_time: 0.2562 (0.2549)  evaluator_time: 0.0745 (0.0884)\n",
            "Accumulating evaluation results...\n",
            "DONE (t=0.00s).\n",
            "Accumulating evaluation results...\n",
            "DONE (t=0.00s).\n",
            "IoU metric: bbox\n",
            " Average Precision  (AP) @[ IoU=0.50:0.95 | area=   all | maxDets=100 ] = 0.226\n",
            " Average Precision  (AP) @[ IoU=0.50      | area=   all | maxDets=100 ] = 0.342\n",
            " Average Precision  (AP) @[ IoU=0.75      | area=   all | maxDets=100 ] = 0.282\n",
            " Average Precision  (AP) @[ IoU=0.50:0.95 | area= small | maxDets=100 ] = -1.000\n",
            " Average Precision  (AP) @[ IoU=0.50:0.95 | area=medium | maxDets=100 ] = -1.000\n",
            " Average Precision  (AP) @[ IoU=0.50:0.95 | area= large | maxDets=100 ] = 0.226\n",
            " Average Recall     (AR) @[ IoU=0.50:0.95 | area=   all | maxDets=  1 ] = 0.150\n",
            " Average Recall     (AR) @[ IoU=0.50:0.95 | area=   all | maxDets= 10 ] = 0.400\n",
            " Average Recall     (AR) @[ IoU=0.50:0.95 | area=   all | maxDets=100 ] = 0.431\n",
            " Average Recall     (AR) @[ IoU=0.50:0.95 | area= small | maxDets=100 ] = -1.000\n",
            " Average Recall     (AR) @[ IoU=0.50:0.95 | area=medium | maxDets=100 ] = -1.000\n",
            " Average Recall     (AR) @[ IoU=0.50:0.95 | area= large | maxDets=100 ] = 0.431\n",
            "IoU metric: segm\n",
            " Average Precision  (AP) @[ IoU=0.50:0.95 | area=   all | maxDets=100 ] = 0.000\n",
            " Average Precision  (AP) @[ IoU=0.50      | area=   all | maxDets=100 ] = 0.000\n",
            " Average Precision  (AP) @[ IoU=0.75      | area=   all | maxDets=100 ] = 0.000\n",
            " Average Precision  (AP) @[ IoU=0.50:0.95 | area= small | maxDets=100 ] = -1.000\n",
            " Average Precision  (AP) @[ IoU=0.50:0.95 | area=medium | maxDets=100 ] = -1.000\n",
            " Average Precision  (AP) @[ IoU=0.50:0.95 | area= large | maxDets=100 ] = 0.000\n",
            " Average Recall     (AR) @[ IoU=0.50:0.95 | area=   all | maxDets=  1 ] = 0.000\n",
            " Average Recall     (AR) @[ IoU=0.50:0.95 | area=   all | maxDets= 10 ] = 0.000\n",
            " Average Recall     (AR) @[ IoU=0.50:0.95 | area=   all | maxDets=100 ] = 0.000\n",
            " Average Recall     (AR) @[ IoU=0.50:0.95 | area= small | maxDets=100 ] = -1.000\n",
            " Average Recall     (AR) @[ IoU=0.50:0.95 | area=medium | maxDets=100 ] = -1.000\n",
            " Average Recall     (AR) @[ IoU=0.50:0.95 | area= large | maxDets=100 ] = 0.000\n",
            "Epoch: [7]  [ 0/20]  eta: 0:00:13  lr: 0.000050  loss: 0.3885 (0.3885)  loss_classifier: 0.0711 (0.0711)  loss_box_reg: 0.1035 (0.1035)  loss_mask: 0.2117 (0.2117)  loss_objectness: 0.0003 (0.0003)  loss_rpn_box_reg: 0.0018 (0.0018)  time: 0.6657  data: 0.3172  max mem: 1666\n",
            "Epoch: [7]  [10/20]  eta: 0:00:03  lr: 0.000050  loss: 0.3929 (0.4947)  loss_classifier: 0.0744 (0.0775)  loss_box_reg: 0.1058 (0.1036)  loss_mask: 0.2039 (0.3090)  loss_objectness: 0.0007 (0.0034)  loss_rpn_box_reg: 0.0011 (0.0012)  time: 0.3794  data: 0.0345  max mem: 1666\n",
            "Epoch: [7]  [19/20]  eta: 0:00:00  lr: 0.000050  loss: 0.4031 (0.5110)  loss_classifier: 0.0744 (0.0789)  loss_box_reg: 0.1035 (0.1033)  loss_mask: 0.2099 (0.3224)  loss_objectness: 0.0015 (0.0052)  loss_rpn_box_reg: 0.0010 (0.0013)  time: 0.3663  data: 0.0219  max mem: 1666\n",
            "Epoch: [7] Total time: 0:00:07 (0.3708 s / it)\n",
            "creating index...\n",
            "index created!\n",
            "Test:  [0/4]  eta: 0:00:02  model_time: 0.3015 (0.3015)  evaluator_time: 0.0777 (0.0777)  time: 0.6716  data: 0.2868  max mem: 1666\n",
            "Test:  [3/4]  eta: 0:00:00  model_time: 0.2514 (0.2502)  evaluator_time: 0.0768 (0.0814)  time: 0.4153  data: 0.0761  max mem: 1666\n",
            "Test: Total time: 0:00:01 (0.4371 s / it)\n",
            "Averaged stats: model_time: 0.2514 (0.2502)  evaluator_time: 0.0768 (0.0814)\n",
            "Accumulating evaluation results...\n",
            "DONE (t=0.00s).\n",
            "Accumulating evaluation results...\n",
            "DONE (t=0.00s).\n",
            "IoU metric: bbox\n",
            " Average Precision  (AP) @[ IoU=0.50:0.95 | area=   all | maxDets=100 ] = 0.232\n",
            " Average Precision  (AP) @[ IoU=0.50      | area=   all | maxDets=100 ] = 0.332\n",
            " Average Precision  (AP) @[ IoU=0.75      | area=   all | maxDets=100 ] = 0.298\n",
            " Average Precision  (AP) @[ IoU=0.50:0.95 | area= small | maxDets=100 ] = -1.000\n",
            " Average Precision  (AP) @[ IoU=0.50:0.95 | area=medium | maxDets=100 ] = -1.000\n",
            " Average Precision  (AP) @[ IoU=0.50:0.95 | area= large | maxDets=100 ] = 0.232\n",
            " Average Recall     (AR) @[ IoU=0.50:0.95 | area=   all | maxDets=  1 ] = 0.144\n",
            " Average Recall     (AR) @[ IoU=0.50:0.95 | area=   all | maxDets= 10 ] = 0.400\n",
            " Average Recall     (AR) @[ IoU=0.50:0.95 | area=   all | maxDets=100 ] = 0.412\n",
            " Average Recall     (AR) @[ IoU=0.50:0.95 | area= small | maxDets=100 ] = -1.000\n",
            " Average Recall     (AR) @[ IoU=0.50:0.95 | area=medium | maxDets=100 ] = -1.000\n",
            " Average Recall     (AR) @[ IoU=0.50:0.95 | area= large | maxDets=100 ] = 0.412\n",
            "IoU metric: segm\n",
            " Average Precision  (AP) @[ IoU=0.50:0.95 | area=   all | maxDets=100 ] = 0.000\n",
            " Average Precision  (AP) @[ IoU=0.50      | area=   all | maxDets=100 ] = 0.000\n",
            " Average Precision  (AP) @[ IoU=0.75      | area=   all | maxDets=100 ] = 0.000\n",
            " Average Precision  (AP) @[ IoU=0.50:0.95 | area= small | maxDets=100 ] = -1.000\n",
            " Average Precision  (AP) @[ IoU=0.50:0.95 | area=medium | maxDets=100 ] = -1.000\n",
            " Average Precision  (AP) @[ IoU=0.50:0.95 | area= large | maxDets=100 ] = 0.000\n",
            " Average Recall     (AR) @[ IoU=0.50:0.95 | area=   all | maxDets=  1 ] = 0.000\n",
            " Average Recall     (AR) @[ IoU=0.50:0.95 | area=   all | maxDets= 10 ] = 0.000\n",
            " Average Recall     (AR) @[ IoU=0.50:0.95 | area=   all | maxDets=100 ] = 0.000\n",
            " Average Recall     (AR) @[ IoU=0.50:0.95 | area= small | maxDets=100 ] = -1.000\n",
            " Average Recall     (AR) @[ IoU=0.50:0.95 | area=medium | maxDets=100 ] = -1.000\n",
            " Average Recall     (AR) @[ IoU=0.50:0.95 | area= large | maxDets=100 ] = 0.000\n",
            "Epoch: [8]  [ 0/20]  eta: 0:00:13  lr: 0.000050  loss: 0.3343 (0.3343)  loss_classifier: 0.0732 (0.0732)  loss_box_reg: 0.0884 (0.0884)  loss_mask: 0.1715 (0.1715)  loss_objectness: 0.0004 (0.0004)  loss_rpn_box_reg: 0.0008 (0.0008)  time: 0.6805  data: 0.2917  max mem: 1666\n",
            "Epoch: [8]  [10/20]  eta: 0:00:03  lr: 0.000050  loss: 0.3984 (0.5252)  loss_classifier: 0.0732 (0.0779)  loss_box_reg: 0.0884 (0.0962)  loss_mask: 0.2122 (0.3467)  loss_objectness: 0.0004 (0.0032)  loss_rpn_box_reg: 0.0010 (0.0013)  time: 0.3769  data: 0.0326  max mem: 1666\n",
            "Epoch: [8]  [19/20]  eta: 0:00:00  lr: 0.000050  loss: 0.3968 (0.4959)  loss_classifier: 0.0732 (0.0770)  loss_box_reg: 0.0939 (0.0974)  loss_mask: 0.2098 (0.3173)  loss_objectness: 0.0004 (0.0028)  loss_rpn_box_reg: 0.0010 (0.0013)  time: 0.3634  data: 0.0212  max mem: 1666\n",
            "Epoch: [8] Total time: 0:00:07 (0.3682 s / it)\n",
            "creating index...\n",
            "index created!\n",
            "Test:  [0/4]  eta: 0:00:02  model_time: 0.2863 (0.2863)  evaluator_time: 0.0760 (0.0760)  time: 0.6676  data: 0.2995  max mem: 1666\n",
            "Test:  [3/4]  eta: 0:00:00  model_time: 0.2463 (0.2411)  evaluator_time: 0.0750 (0.0784)  time: 0.4063  data: 0.0792  max mem: 1666\n",
            "Test: Total time: 0:00:01 (0.4282 s / it)\n",
            "Averaged stats: model_time: 0.2463 (0.2411)  evaluator_time: 0.0750 (0.0784)\n",
            "Accumulating evaluation results...\n",
            "DONE (t=0.00s).\n",
            "Accumulating evaluation results...\n",
            "DONE (t=0.00s).\n",
            "IoU metric: bbox\n",
            " Average Precision  (AP) @[ IoU=0.50:0.95 | area=   all | maxDets=100 ] = 0.215\n",
            " Average Precision  (AP) @[ IoU=0.50      | area=   all | maxDets=100 ] = 0.309\n",
            " Average Precision  (AP) @[ IoU=0.75      | area=   all | maxDets=100 ] = 0.275\n",
            " Average Precision  (AP) @[ IoU=0.50:0.95 | area= small | maxDets=100 ] = -1.000\n",
            " Average Precision  (AP) @[ IoU=0.50:0.95 | area=medium | maxDets=100 ] = -1.000\n",
            " Average Precision  (AP) @[ IoU=0.50:0.95 | area= large | maxDets=100 ] = 0.216\n",
            " Average Recall     (AR) @[ IoU=0.50:0.95 | area=   all | maxDets=  1 ] = 0.144\n",
            " Average Recall     (AR) @[ IoU=0.50:0.95 | area=   all | maxDets= 10 ] = 0.406\n",
            " Average Recall     (AR) @[ IoU=0.50:0.95 | area=   all | maxDets=100 ] = 0.419\n",
            " Average Recall     (AR) @[ IoU=0.50:0.95 | area= small | maxDets=100 ] = -1.000\n",
            " Average Recall     (AR) @[ IoU=0.50:0.95 | area=medium | maxDets=100 ] = -1.000\n",
            " Average Recall     (AR) @[ IoU=0.50:0.95 | area= large | maxDets=100 ] = 0.419\n",
            "IoU metric: segm\n",
            " Average Precision  (AP) @[ IoU=0.50:0.95 | area=   all | maxDets=100 ] = 0.000\n",
            " Average Precision  (AP) @[ IoU=0.50      | area=   all | maxDets=100 ] = 0.000\n",
            " Average Precision  (AP) @[ IoU=0.75      | area=   all | maxDets=100 ] = 0.000\n",
            " Average Precision  (AP) @[ IoU=0.50:0.95 | area= small | maxDets=100 ] = -1.000\n",
            " Average Precision  (AP) @[ IoU=0.50:0.95 | area=medium | maxDets=100 ] = -1.000\n",
            " Average Precision  (AP) @[ IoU=0.50:0.95 | area= large | maxDets=100 ] = 0.000\n",
            " Average Recall     (AR) @[ IoU=0.50:0.95 | area=   all | maxDets=  1 ] = 0.000\n",
            " Average Recall     (AR) @[ IoU=0.50:0.95 | area=   all | maxDets= 10 ] = 0.000\n",
            " Average Recall     (AR) @[ IoU=0.50:0.95 | area=   all | maxDets=100 ] = 0.000\n",
            " Average Recall     (AR) @[ IoU=0.50:0.95 | area= small | maxDets=100 ] = -1.000\n",
            " Average Recall     (AR) @[ IoU=0.50:0.95 | area=medium | maxDets=100 ] = -1.000\n",
            " Average Recall     (AR) @[ IoU=0.50:0.95 | area= large | maxDets=100 ] = 0.000\n",
            "Epoch: [9]  [ 0/20]  eta: 0:00:13  lr: 0.000005  loss: 0.6834 (0.6834)  loss_classifier: 0.0739 (0.0739)  loss_box_reg: 0.0869 (0.0869)  loss_mask: 0.5217 (0.5217)  loss_objectness: 0.0000 (0.0000)  loss_rpn_box_reg: 0.0009 (0.0009)  time: 0.6548  data: 0.3112  max mem: 1666\n",
            "Epoch: [9]  [10/20]  eta: 0:00:03  lr: 0.000005  loss: 0.4369 (0.5126)  loss_classifier: 0.0802 (0.0820)  loss_box_reg: 0.1067 (0.1034)  loss_mask: 0.2209 (0.3242)  loss_objectness: 0.0007 (0.0014)  loss_rpn_box_reg: 0.0013 (0.0017)  time: 0.3743  data: 0.0342  max mem: 1666\n",
            "Epoch: [9]  [19/20]  eta: 0:00:00  lr: 0.000005  loss: 0.3933 (0.4944)  loss_classifier: 0.0738 (0.0779)  loss_box_reg: 0.1000 (0.1007)  loss_mask: 0.2160 (0.3115)  loss_objectness: 0.0006 (0.0028)  loss_rpn_box_reg: 0.0013 (0.0015)  time: 0.3614  data: 0.0218  max mem: 1666\n",
            "Epoch: [9] Total time: 0:00:07 (0.3655 s / it)\n",
            "creating index...\n",
            "index created!\n",
            "Test:  [0/4]  eta: 0:00:02  model_time: 0.2863 (0.2863)  evaluator_time: 0.0719 (0.0719)  time: 0.6556  data: 0.2900  max mem: 1666\n",
            "Test:  [3/4]  eta: 0:00:00  model_time: 0.2463 (0.2408)  evaluator_time: 0.0719 (0.0780)  time: 0.4034  data: 0.0766  max mem: 1666\n",
            "Test: Total time: 0:00:01 (0.4278 s / it)\n",
            "Averaged stats: model_time: 0.2463 (0.2408)  evaluator_time: 0.0719 (0.0780)\n",
            "Accumulating evaluation results...\n",
            "DONE (t=0.00s).\n",
            "Accumulating evaluation results...\n",
            "DONE (t=0.00s).\n",
            "IoU metric: bbox\n",
            " Average Precision  (AP) @[ IoU=0.50:0.95 | area=   all | maxDets=100 ] = 0.215\n",
            " Average Precision  (AP) @[ IoU=0.50      | area=   all | maxDets=100 ] = 0.309\n",
            " Average Precision  (AP) @[ IoU=0.75      | area=   all | maxDets=100 ] = 0.275\n",
            " Average Precision  (AP) @[ IoU=0.50:0.95 | area= small | maxDets=100 ] = -1.000\n",
            " Average Precision  (AP) @[ IoU=0.50:0.95 | area=medium | maxDets=100 ] = -1.000\n",
            " Average Precision  (AP) @[ IoU=0.50:0.95 | area= large | maxDets=100 ] = 0.215\n",
            " Average Recall     (AR) @[ IoU=0.50:0.95 | area=   all | maxDets=  1 ] = 0.144\n",
            " Average Recall     (AR) @[ IoU=0.50:0.95 | area=   all | maxDets= 10 ] = 0.406\n",
            " Average Recall     (AR) @[ IoU=0.50:0.95 | area=   all | maxDets=100 ] = 0.419\n",
            " Average Recall     (AR) @[ IoU=0.50:0.95 | area= small | maxDets=100 ] = -1.000\n",
            " Average Recall     (AR) @[ IoU=0.50:0.95 | area=medium | maxDets=100 ] = -1.000\n",
            " Average Recall     (AR) @[ IoU=0.50:0.95 | area= large | maxDets=100 ] = 0.419\n",
            "IoU metric: segm\n",
            " Average Precision  (AP) @[ IoU=0.50:0.95 | area=   all | maxDets=100 ] = 0.000\n",
            " Average Precision  (AP) @[ IoU=0.50      | area=   all | maxDets=100 ] = 0.000\n",
            " Average Precision  (AP) @[ IoU=0.75      | area=   all | maxDets=100 ] = 0.000\n",
            " Average Precision  (AP) @[ IoU=0.50:0.95 | area= small | maxDets=100 ] = -1.000\n",
            " Average Precision  (AP) @[ IoU=0.50:0.95 | area=medium | maxDets=100 ] = -1.000\n",
            " Average Precision  (AP) @[ IoU=0.50:0.95 | area= large | maxDets=100 ] = 0.000\n",
            " Average Recall     (AR) @[ IoU=0.50:0.95 | area=   all | maxDets=  1 ] = 0.000\n",
            " Average Recall     (AR) @[ IoU=0.50:0.95 | area=   all | maxDets= 10 ] = 0.000\n",
            " Average Recall     (AR) @[ IoU=0.50:0.95 | area=   all | maxDets=100 ] = 0.000\n",
            " Average Recall     (AR) @[ IoU=0.50:0.95 | area= small | maxDets=100 ] = -1.000\n",
            " Average Recall     (AR) @[ IoU=0.50:0.95 | area=medium | maxDets=100 ] = -1.000\n",
            " Average Recall     (AR) @[ IoU=0.50:0.95 | area= large | maxDets=100 ] = 0.000\n"
          ],
          "name": "stdout"
        }
      ]
    },
    {
      "cell_type": "code",
      "metadata": {
        "id": "0c3fJk2ArkzC"
      },
      "source": [
        "# pick one image from the test set\n",
        "img, _ = dataset_test[0]\n",
        "# put the model in evaluation mode\n",
        "model.eval()\n",
        "with torch.no_grad():\n",
        "    prediction = model([img.to(device)])"
      ],
      "execution_count": 10,
      "outputs": []
    },
    {
      "cell_type": "code",
      "metadata": {
        "colab": {
          "base_uri": "https://localhost:8080/",
          "height": 269
        },
        "id": "A5gNHfqMrKiz",
        "outputId": "ec2f7523-7288-45e9-8dd2-aa32b5698413"
      },
      "source": [
        "img1 = Image.fromarray(img.mul(255).permute(1, 2, 0).byte().numpy())\n",
        "\n",
        "plt.imshow(img1)\n",
        "ax = plt.gca()\n",
        "ax.grid(True, color='r', linestyle='--')\n",
        "plt.draw()\n",
        "plt.show()"
      ],
      "execution_count": 22,
      "outputs": [
        {
          "output_type": "display_data",
          "data": {
            "image/png": "[encoded data removed]",
            "text/plain": [
              "<Figure size 432x288 with 1 Axes>"
            ]
          },
          "metadata": {
            "tags": [],
            "needs_background": "light"
          }
        }
      ]
    },
    {
      "cell_type": "code",
      "metadata": {
        "colab": {
          "base_uri": "https://localhost:8080/",
          "height": 269
        },
        "id": "U6KczHdhrS6K",
        "outputId": "bc2aaec5-8792-4eb9-d69c-fd19893b9b77"
      },
      "source": [
        "pred1 = Image.fromarray(prediction[0]['masks'][0, 0].mul(255).byte().cpu().numpy())\n",
        "\n",
        "plt.imshow(pred1)\n",
        "ax = plt.gca()\n",
        "ax.grid(True, color='w', linestyle='--')\n",
        "plt.draw()\n",
        "plt.show()"
      ],
      "execution_count": 21,
      "outputs": [
        {
          "output_type": "display_data",
          "data": {
            "image/png": "[encoded data removed]",
            "text/plain": [
              "<Figure size 432x288 with 1 Axes>"
            ]
          },
          "metadata": {
            "tags": [],
            "needs_background": "light"
          }
        }
      ]
    },
    {
      "cell_type": "code",
      "metadata": {
        "id": "VIZbKdhewfIN"
      },
      "source": [
        ""
      ],
      "execution_count": null,
      "outputs": []
    }
  ]
}