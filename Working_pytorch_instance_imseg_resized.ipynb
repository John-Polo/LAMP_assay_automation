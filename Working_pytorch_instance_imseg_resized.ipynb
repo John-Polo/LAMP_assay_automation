{
  "nbformat": 4,
  "nbformat_minor": 0,
  "metadata": {
    "colab": {
      "name": "Working_pytorch_instance_imseg_resized.ipynb",
      "provenance": [],
      "collapsed_sections": [],
      "authorship_tag": "ABX9TyN0MW5QVbIPEVadbVo5yEB2",
      "include_colab_link": true
    },
    "kernelspec": {
      "name": "python3",
      "display_name": "Python 3"
    },
    "language_info": {
      "name": "python"
    },
    "accelerator": "GPU",
    "widgets": {
      "application/vnd.jupyter.widget-state+json": {
        "17da9dfd88e44f38941f040cdacc229b": {
          "model_module": "@jupyter-widgets/controls",
          "model_name": "HBoxModel",
          "state": {
            "_view_name": "HBoxView",
            "_dom_classes": [],
            "_model_name": "HBoxModel",
            "_view_module": "@jupyter-widgets/controls",
            "_model_module_version": "1.5.0",
            "_view_count": null,
            "_view_module_version": "1.5.0",
            "box_style": "",
            "layout": "IPY_MODEL_48134cc8c20648caa9b6027f90595de8",
            "_model_module": "@jupyter-widgets/controls",
            "children": [
              "IPY_MODEL_17c807e08d70485786790b91291c3566",
              "IPY_MODEL_af1f16cadf9146bf90d8ae2baf19bdb9"
            ]
          }
        },
        "e5559dffee8e4a189be9af37bdcd761a": {
          "model_module": "@jupyter-widgets/controls",
          "model_name": "HBoxModel",
          "state": {
            "_view_name": "HBoxView",
            "_dom_classes": [],
            "_model_name": "HBoxModel",
            "_view_module": "@jupyter-widgets/controls",
            "_model_module_version": "1.5.0",
            "_view_count": null,
            "_view_module_version": "1.5.0",
            "box_style": "",
            "layout": "IPY_MODEL_d3ec581d54444879b961478a39dc15f6",
            "_model_module": "@jupyter-widgets/controls",
            "children": [
              "IPY_MODEL_439ec5b3290c44808bc6be647f6dbeab",
              "IPY_MODEL_1306396416544da5ade225f4f4977c1d"
            ]
          }
        }
      }
    }
  },
  "cells": [
    {
      "cell_type": "markdown",
      "metadata": {
        "id": "view-in-github",
        "colab_type": "text"
      },
      "source": [
        "<a href=\"https://colab.research.google.com/github/ncsu-landscape-dynamics/LAMP_assay_automation/blob/main/Working_pytorch_instance_imseg_resized.ipynb\" target=\"_parent\"><img src=\"https://colab.research.google.com/assets/colab-badge.svg\" alt=\"Open In Colab\"/></a>"
      ]
    },
    {
      "cell_type": "code",
      "metadata": {
        "colab": {
          "base_uri": "https://localhost:8080/"
        },
        "id": "thyNLvhjnN4e",
        "outputId": "4c601d92-8604-4689-e51b-37d5a082ef98"
      },
      "source": [
        "# https://pytorch.org/tutorials/intermediate/torchvision_tutorial.html\n",
        "\n",
        "import os\n",
        "import numpy as np\n",
        "import torch\n",
        "import torch.utils.data\n",
        "from PIL import Image\n",
        "import matplotlib.pyplot as plt\n",
        "import matplotlib.image as mpimg\n",
        "\n",
        "from google.colab import drive\n",
        "drive.mount('/content/drive', force_remount=True)\n",
        "\n",
        "class four_chs(torch.utils.data.Dataset):\n",
        "    def __init__(self, root, transforms=None, target_transform=None):\n",
        "        self.root = root\n",
        "        self.transforms = transforms\n",
        "        self.target_transform = target_transform\n",
        "        # load all image files, sorting them to\n",
        "        # ensure that they are aligned\n",
        "        self.imgs = list(sorted(os.listdir(os.path.join(root, \"imgs_resized\"))))\n",
        "        self.masks = list(sorted(os.listdir(os.path.join(root, \"masks_resized\"))))\n",
        "\n",
        "    def __getitem__(self, idx):\n",
        "        # load images ad masks\n",
        "        img_path = os.path.join(self.root, \"imgs_resized\", self.imgs[idx])\n",
        "        mask_path = os.path.join(self.root, \"masks_resized\", self.masks[idx])\n",
        "        img = Image.open(img_path).convert(\"RGB\")\n",
        "        # note that we haven't converted the mask to RGB,\n",
        "        # because each color corresponds to a different instance\n",
        "        # with 0 being background\n",
        "        mask = Image.open(mask_path)\n",
        "\n",
        "        # Convert from image object to array\n",
        "        mask = np.array(mask)\n",
        "        \n",
        "        obj_ids = np.unique(mask)\n",
        "        # first is background, other values are noise, removed them\n",
        "        obj_ids = obj_ids[-4:]\n",
        "\n",
        "        # split the color-encoded mask into a set\n",
        "        # of binary masks\n",
        "        masks = mask == obj_ids[:, None, None]\n",
        "\n",
        "        # get bounding box coordinates for each mask\n",
        "        num_objs = len(obj_ids)\n",
        "        boxes = []\n",
        "        for i in range(num_objs):\n",
        "            pos = np.where(masks[i])\n",
        "            xmin = np.min(pos[1])\n",
        "            xmax = np.max(pos[1])\n",
        "            ymin = np.min(pos[0])\n",
        "            ymax = np.max(pos[0])\n",
        "            boxes.append([xmin, ymin, xmax, ymax])\n",
        "\n",
        "        boxes = torch.as_tensor(boxes, dtype=torch.float32)\n",
        "        # there is only one class\n",
        "        labels = torch.ones((num_objs,), dtype=torch.int64)\n",
        "        masks = torch.as_tensor(masks, dtype=torch.uint8)\n",
        "\n",
        "        image_id = torch.tensor([idx])\n",
        "        area = (boxes[:, 3] - boxes[:, 1]) * (boxes[:, 2] - boxes[:, 0])\n",
        "        # suppose all instances are not crowd\n",
        "        iscrowd = torch.zeros((num_objs,), dtype=torch.int64)\n",
        "\n",
        "        target = {}\n",
        "        target[\"boxes\"] = boxes\n",
        "        target[\"labels\"] = labels\n",
        "        target[\"masks\"] = masks\n",
        "        target[\"image_id\"] = image_id\n",
        "        target[\"area\"] = area\n",
        "        target[\"iscrowd\"] = iscrowd\n",
        "\n",
        "        if self.transforms is not None:\n",
        "            img, target = self.transforms(img, target)\n",
        "\n",
        "        return img, target\n",
        "\n",
        "    def __len__(self):\n",
        "        return len(self.imgs)"
      ],
      "execution_count": 1,
      "outputs": [
        {
          "output_type": "stream",
          "text": [
            "Mounted at /content/drive\n"
          ],
          "name": "stdout"
        }
      ]
    },
    {
      "cell_type": "code",
      "metadata": {
        "id": "ASZUhOClbBgs",
        "colab": {
          "base_uri": "https://localhost:8080/"
        },
        "outputId": "932dea3e-64ed-4da0-b25c-229c4ef9c0b3"
      },
      "source": [
        "#os.chdir('drive/MyDrive/Colab Notebooks')\n",
        "\n",
        "%%shell\n",
        "\n",
        "# Download TorchVision repo to use some files from\n",
        "# references/detection\n",
        "git clone https://github.com/pytorch/vision.git\n",
        "cd vision\n",
        "git checkout v0.3.0\n",
        "\n",
        "cp references/detection/utils.py ../\n",
        "cp references/detection/transforms.py ../\n",
        "cp references/detection/coco_eval.py ../\n",
        "cp references/detection/engine.py ../\n",
        "cp references/detection/coco_utils.py ../"
      ],
      "execution_count": 2,
      "outputs": [
        {
          "output_type": "stream",
          "text": [
            "Cloning into 'vision'...\n",
            "remote: Enumerating objects: 29238, done.\u001b[K\n",
            "remote: Counting objects: 100% (1780/1780), done.\u001b[K\n",
            "remote: Compressing objects: 100% (458/458), done.\u001b[K\n",
            "remote: Total 29238 (delta 1338), reused 1701 (delta 1289), pack-reused 27458\u001b[K\n",
            "Receiving objects: 100% (29238/29238), 37.31 MiB | 28.36 MiB/s, done.\n",
            "Resolving deltas: 100% (21953/21953), done.\n",
            "Note: checking out 'v0.3.0'.\n",
            "\n",
            "You are in 'detached HEAD' state. You can look around, make experimental\n",
            "changes and commit them, and you can discard any commits you make in this\n",
            "state without impacting any branches by performing another checkout.\n",
            "\n",
            "If you want to create a new branch to retain commits you create, you may\n",
            "do so (now or later) by using -b with the checkout command again. Example:\n",
            "\n",
            "  git checkout -b <new-branch-name>\n",
            "\n",
            "HEAD is now at be376084 version check against PyTorch's CUDA version\n"
          ],
          "name": "stdout"
        },
        {
          "output_type": "execute_result",
          "data": {
            "text/plain": [
              ""
            ]
          },
          "metadata": {
            "tags": []
          },
          "execution_count": 2
        }
      ]
    },
    {
      "cell_type": "code",
      "metadata": {
        "id": "1tX1QjxcShEu"
      },
      "source": [
        "# testing\n",
        "#dataset0 = four_chs(root=\"/content/drive/MyDrive/APHIS Farm Bill (2020Milestones)/Protocols/For John/images/New set for John/collection/four_chambers\")"
      ],
      "execution_count": 3,
      "outputs": []
    },
    {
      "cell_type": "code",
      "metadata": {
        "id": "uC00k1lQyZ7v",
        "colab": {
          "base_uri": "https://localhost:8080/"
        },
        "outputId": "24ddf283-ee5d-4898-9166-7fb78239b360"
      },
      "source": [
        "# testing\n",
        "#dataset0[0]"
      ],
      "execution_count": 4,
      "outputs": [
        {
          "output_type": "execute_result",
          "data": {
            "text/plain": [
              "(<PIL.Image.Image image mode=RGB size=747x1328 at 0x7F5F109CFE50>,\n",
              " {'area': tensor([34928., 12769., 12769., 12769.]),\n",
              "  'boxes': tensor([[394., 502., 512., 798.],\n",
              "          [399., 687., 512., 800.],\n",
              "          [399., 687., 512., 800.],\n",
              "          [399., 687., 512., 800.]]),\n",
              "  'image_id': tensor([0]),\n",
              "  'iscrowd': tensor([0, 0, 0, 0]),\n",
              "  'labels': tensor([1, 1, 1, 1]),\n",
              "  'masks': tensor([[[0, 0, 0,  ..., 0, 0, 0],\n",
              "           [0, 0, 0,  ..., 0, 0, 0],\n",
              "           [0, 0, 0,  ..., 0, 0, 0],\n",
              "           ...,\n",
              "           [0, 0, 0,  ..., 0, 0, 0],\n",
              "           [0, 0, 0,  ..., 0, 0, 0],\n",
              "           [0, 0, 0,  ..., 0, 0, 0]],\n",
              "  \n",
              "          [[0, 0, 0,  ..., 0, 0, 0],\n",
              "           [0, 0, 0,  ..., 0, 0, 0],\n",
              "           [0, 0, 0,  ..., 0, 0, 0],\n",
              "           ...,\n",
              "           [0, 0, 0,  ..., 0, 0, 0],\n",
              "           [0, 0, 0,  ..., 0, 0, 0],\n",
              "           [0, 0, 0,  ..., 0, 0, 0]],\n",
              "  \n",
              "          [[0, 0, 0,  ..., 0, 0, 0],\n",
              "           [0, 0, 0,  ..., 0, 0, 0],\n",
              "           [0, 0, 0,  ..., 0, 0, 0],\n",
              "           ...,\n",
              "           [0, 0, 0,  ..., 0, 0, 0],\n",
              "           [0, 0, 0,  ..., 0, 0, 0],\n",
              "           [0, 0, 0,  ..., 0, 0, 0]],\n",
              "  \n",
              "          [[0, 0, 0,  ..., 0, 0, 0],\n",
              "           [0, 0, 0,  ..., 0, 0, 0],\n",
              "           [0, 0, 0,  ..., 0, 0, 0],\n",
              "           ...,\n",
              "           [0, 0, 0,  ..., 0, 0, 0],\n",
              "           [0, 0, 0,  ..., 0, 0, 0],\n",
              "           [0, 0, 0,  ..., 0, 0, 0]]], dtype=torch.uint8)})"
            ]
          },
          "metadata": {
            "tags": []
          },
          "execution_count": 4
        }
      ]
    },
    {
      "cell_type": "code",
      "metadata": {
        "id": "9npNTUA7xmRe",
        "colab": {
          "base_uri": "https://localhost:8080/",
          "height": 74,
          "referenced_widgets": [
            "17da9dfd88e44f38941f040cdacc229b"
          ]
        },
        "outputId": "721ef696-e091-4f51-f9e6-8c4aa035f60d"
      },
      "source": [
        "import torchvision\n",
        "from torchvision.models.detection.faster_rcnn import FastRCNNPredictor\n",
        " \n",
        "# load a model pre-trained pre-trained on COCO\n",
        "model = torchvision.models.detection.fasterrcnn_resnet50_fpn(pretrained=True)\n",
        " \n",
        "# replace the classifier with a new one, that has\n",
        "# num_classes which is user-defined\n",
        "num_classes = 2  # 1 class (person) + background\n",
        "# get number of input features for the classifier\n",
        "in_features = model.roi_heads.box_predictor.cls_score.in_features\n",
        "# replace the pre-trained head with a new one\n",
        "model.roi_heads.box_predictor = FastRCNNPredictor(in_features, num_classes) "
      ],
      "execution_count": 5,
      "outputs": [
        {
          "output_type": "stream",
          "text": [
            "Downloading: \"https://download.pytorch.org/models/fasterrcnn_resnet50_fpn_coco-258fb6c6.pth\" to /root/.cache/torch/hub/checkpoints/fasterrcnn_resnet50_fpn_coco-258fb6c6.pth\n"
          ],
          "name": "stderr"
        },
        {
          "output_type": "display_data",
          "data": {
            "application/vnd.jupyter.widget-view+json": {
              "model_id": "17da9dfd88e44f38941f040cdacc229b",
              "version_minor": 0,
              "version_major": 2
            },
            "text/plain": [
              "HBox(children=(FloatProgress(value=0.0, max=167502836.0), HTML(value='')))"
            ]
          },
          "metadata": {
            "tags": []
          }
        },
        {
          "output_type": "stream",
          "text": [
            "\n"
          ],
          "name": "stdout"
        }
      ]
    },
    {
      "cell_type": "code",
      "metadata": {
        "id": "iBUwqXo4MpAw"
      },
      "source": [
        "import torchvision\n",
        "from torchvision.models.detection.faster_rcnn import FastRCNNPredictor\n",
        "from torchvision.models.detection.mask_rcnn import MaskRCNNPredictor\n",
        "\n",
        "\n",
        "def get_model_instance_segmentation(num_classes):\n",
        "    # load an instance segmentation model pre-trained pre-trained on COCO\n",
        "    model = torchvision.models.detection.maskrcnn_resnet50_fpn(pretrained=True)\n",
        "\n",
        "    # get number of input features for the classifier\n",
        "    in_features = model.roi_heads.box_predictor.cls_score.in_features\n",
        "    # replace the pre-trained head with a new one\n",
        "    model.roi_heads.box_predictor = FastRCNNPredictor(in_features, num_classes)\n",
        "\n",
        "    # now get the number of input features for the mask classifier\n",
        "    in_features_mask = model.roi_heads.mask_predictor.conv5_mask.in_channels\n",
        "    hidden_layer = 256\n",
        "    # and replace the mask predictor with a new one\n",
        "    model.roi_heads.mask_predictor = MaskRCNNPredictor(in_features_mask,\n",
        "                                                       hidden_layer,\n",
        "                                                       num_classes)\n",
        "\n",
        "    return model"
      ],
      "execution_count": 6,
      "outputs": []
    },
    {
      "cell_type": "code",
      "metadata": {
        "id": "TP1ebz8PUi7J"
      },
      "source": [
        "from engine import train_one_epoch, evaluate\n",
        "import utils\n",
        "import transforms as T\n",
        "\n",
        "\n",
        "def get_transform(train):\n",
        "    transforms = []\n",
        "    # converts the image, a PIL image, into a PyTorch Tensor\n",
        "    transforms.append(T.ToTensor())\n",
        "    if train:\n",
        "        # during training, randomly flip the training images\n",
        "        # and ground-truth for data augmentation\n",
        "        transforms.append(T.RandomHorizontalFlip(0.5))\n",
        "    return T.Compose(transforms)"
      ],
      "execution_count": 7,
      "outputs": []
    },
    {
      "cell_type": "code",
      "metadata": {
        "id": "lcMjjCY4_zOf",
        "colab": {
          "base_uri": "https://localhost:8080/"
        },
        "outputId": "83a84838-1fb4-4d26-e614-b124236debea"
      },
      "source": [
        "model = torchvision.models.detection.fasterrcnn_resnet50_fpn(pretrained=True)\n",
        "dataset = four_chs(root = '/content/drive/MyDrive/APHIS Farm Bill (2020Milestones)/Protocols/For John/images/New set for John/collection/four_chambers', transforms = get_transform(train=True))    \n",
        "data_loader = torch.utils.data.DataLoader(\n",
        " dataset, batch_size=1, shuffle=True, num_workers=2,\n",
        " collate_fn=utils.collate_fn)\n",
        "# For Training\n",
        "images,targets = next(iter(data_loader))\n",
        "images = list(image for image in images)\n",
        "targets = [{k: v for k, v in t.items()} for t in targets]\n",
        "output = model(images,targets)   # Returns losses and detections\n",
        "# For inference\n",
        "model.eval()\n",
        "x = [torch.rand(3, 300, 400), torch.rand(3, 500, 400)]\n",
        "predictions = model(x)          "
      ],
      "execution_count": 8,
      "outputs": [
        {
          "output_type": "stream",
          "text": [
            "/usr/local/lib/python3.7/dist-packages/torch/nn/functional.py:718: UserWarning: Named tensors and all their associated APIs are an experimental feature and subject to change. Please do not use them for anything important until they are released as stable. (Triggered internally at  /pytorch/c10/core/TensorImpl.h:1156.)\n",
            "  return torch.max_pool2d(input, kernel_size, stride, padding, dilation, ceil_mode)\n"
          ],
          "name": "stderr"
        }
      ]
    },
    {
      "cell_type": "code",
      "metadata": {
        "id": "T4BoIh1gz6xk"
      },
      "source": [
        "# use our dataset and defined transformations\n",
        "dataset = four_chs(root = '/content/drive/MyDrive/APHIS Farm Bill (2020Milestones)/Protocols/For John/images/New set for John/collection/four_chambers', transforms = get_transform(train=True))\n",
        "dataset_test = four_chs(root = '/content/drive/MyDrive/APHIS Farm Bill (2020Milestones)/Protocols/For John/images/New set for John/collection/four_chambers', transforms = get_transform(train=False))\n",
        "\n",
        "# split the dataset in train and test set\n",
        "torch.manual_seed(1)\n",
        "indices = torch.randperm(len(dataset)).tolist()\n",
        "dataset = torch.utils.data.Subset(dataset, indices[:-4])\n",
        "dataset_test = torch.utils.data.Subset(dataset_test, indices[-4:])\n",
        "\n",
        "# define training and validation data loaders\n",
        "data_loader = torch.utils.data.DataLoader(\n",
        "    dataset, batch_size=1, shuffle=True, num_workers=2,\n",
        "    collate_fn=utils.collate_fn)\n",
        "\n",
        "data_loader_test = torch.utils.data.DataLoader(\n",
        "    dataset_test, batch_size=1, shuffle=False, num_workers=2,\n",
        "    collate_fn=utils.collate_fn)"
      ],
      "execution_count": 9,
      "outputs": []
    },
    {
      "cell_type": "code",
      "metadata": {
        "id": "6kwig7t_rjcT",
        "colab": {
          "base_uri": "https://localhost:8080/",
          "height": 74,
          "referenced_widgets": [
            "e5559dffee8e4a189be9af37bdcd761a"
          ]
        },
        "outputId": "01eecbf3-b575-41eb-d75b-8a99defb5c3c"
      },
      "source": [
        "device = torch.device('cuda') if torch.cuda.is_available() else torch.device('cpu')\n",
        "\n",
        "# our dataset has five classes\n",
        "num_classes = 2\n",
        "\n",
        "# get the model using our helper function\n",
        "model = get_model_instance_segmentation(num_classes)\n",
        "# move model to the right device\n",
        "model.to(device)\n",
        "\n",
        "# construct an optimizer\n",
        "params = [p for p in model.parameters() if p.requires_grad]\n",
        "optimizer = torch.optim.SGD(params, lr=0.005,\n",
        "                            momentum=0.9, weight_decay=0.0005)\n",
        "\n",
        "# and a learning rate scheduler which decreases the learning rate by\n",
        "# 10x every 3 epochs\n",
        "lr_scheduler = torch.optim.lr_scheduler.StepLR(optimizer,\n",
        "                                               step_size=3,\n",
        "                                               gamma=0.1)"
      ],
      "execution_count": 10,
      "outputs": [
        {
          "output_type": "stream",
          "text": [
            "Downloading: \"https://download.pytorch.org/models/maskrcnn_resnet50_fpn_coco-bf2d0c1e.pth\" to /root/.cache/torch/hub/checkpoints/maskrcnn_resnet50_fpn_coco-bf2d0c1e.pth\n"
          ],
          "name": "stderr"
        },
        {
          "output_type": "display_data",
          "data": {
            "application/vnd.jupyter.widget-view+json": {
              "model_id": "e5559dffee8e4a189be9af37bdcd761a",
              "version_minor": 0,
              "version_major": 2
            },
            "text/plain": [
              "HBox(children=(FloatProgress(value=0.0, max=178090079.0), HTML(value='')))"
            ]
          },
          "metadata": {
            "tags": []
          }
        },
        {
          "output_type": "stream",
          "text": [
            "\n"
          ],
          "name": "stdout"
        }
      ]
    },
    {
      "cell_type": "code",
      "metadata": {
        "colab": {
          "base_uri": "https://localhost:8080/"
        },
        "id": "nJRofw-Lrsc2",
        "outputId": "2bc43e92-c39a-45a1-8cd3-3ea618294fac"
      },
      "source": [
        "# let's train it for 10 epochs\n",
        "num_epochs = 10\n",
        "\n",
        "for epoch in range(num_epochs):\n",
        "    # train for one epoch, printing every 10 iterations\n",
        "    train_one_epoch(model, optimizer, data_loader, device, epoch, print_freq=10)\n",
        "    # update the learning rate\n",
        "    lr_scheduler.step()\n",
        "    # evaluate on the test dataset\n",
        "    evaluate(model, data_loader_test, device=device)"
      ],
      "execution_count": 11,
      "outputs": [
        {
          "output_type": "stream",
          "text": [
            "Epoch: [0]  [ 0/20]  eta: 0:00:35  lr: 0.000268  loss: 0.8027 (0.8027)  loss_classifier: 0.4291 (0.4291)  loss_box_reg: 0.1490 (0.1490)  loss_mask: 0.1836 (0.1836)  loss_objectness: 0.0214 (0.0214)  loss_rpn_box_reg: 0.0196 (0.0196)  time: 1.7873  data: 1.0807  max mem: 1392\n",
            "Epoch: [0]  [10/20]  eta: 0:00:12  lr: 0.002897  loss: 0.7661 (0.8027)  loss_classifier: 0.2700 (0.2901)  loss_box_reg: 0.1490 (0.1651)  loss_mask: 0.2035 (0.3131)  loss_objectness: 0.0214 (0.0208)  loss_rpn_box_reg: 0.0107 (0.0137)  time: 1.2744  data: 0.9201  max mem: 1666\n",
            "Epoch: [0]  [19/20]  eta: 0:00:00  lr: 0.005000  loss: 0.6931 (0.8853)  loss_classifier: 0.1692 (0.2214)  loss_box_reg: 0.1305 (0.1471)  loss_mask: 0.2961 (0.4764)  loss_objectness: 0.0276 (0.0299)  loss_rpn_box_reg: 0.0099 (0.0105)  time: 0.8869  data: 0.5559  max mem: 1666\n",
            "Epoch: [0] Total time: 0:00:17 (0.8905 s / it)\n",
            "creating index...\n",
            "index created!\n",
            "Test:  [0/4]  eta: 0:00:01  model_time: 0.1794 (0.1794)  evaluator_time: 0.0020 (0.0020)  time: 0.4519  data: 0.2581  max mem: 1666\n",
            "Test:  [3/4]  eta: 0:00:00  model_time: 0.1181 (0.1391)  evaluator_time: 0.0012 (0.0013)  time: 0.2150  data: 0.0682  max mem: 1666\n",
            "Test: Total time: 0:00:00 (0.2329 s / it)\n",
            "Averaged stats: model_time: 0.1181 (0.1391)  evaluator_time: 0.0012 (0.0013)\n",
            "Accumulating evaluation results...\n",
            "DONE (t=0.00s).\n",
            "Accumulating evaluation results...\n",
            "DONE (t=0.00s).\n",
            "IoU metric: bbox\n",
            " Average Precision  (AP) @[ IoU=0.50:0.95 | area=   all | maxDets=100 ] = 0.000\n",
            " Average Precision  (AP) @[ IoU=0.50      | area=   all | maxDets=100 ] = 0.000\n",
            " Average Precision  (AP) @[ IoU=0.75      | area=   all | maxDets=100 ] = 0.000\n",
            " Average Precision  (AP) @[ IoU=0.50:0.95 | area= small | maxDets=100 ] = -1.000\n",
            " Average Precision  (AP) @[ IoU=0.50:0.95 | area=medium | maxDets=100 ] = -1.000\n",
            " Average Precision  (AP) @[ IoU=0.50:0.95 | area= large | maxDets=100 ] = 0.000\n",
            " Average Recall     (AR) @[ IoU=0.50:0.95 | area=   all | maxDets=  1 ] = 0.000\n",
            " Average Recall     (AR) @[ IoU=0.50:0.95 | area=   all | maxDets= 10 ] = 0.000\n",
            " Average Recall     (AR) @[ IoU=0.50:0.95 | area=   all | maxDets=100 ] = 0.000\n",
            " Average Recall     (AR) @[ IoU=0.50:0.95 | area= small | maxDets=100 ] = -1.000\n",
            " Average Recall     (AR) @[ IoU=0.50:0.95 | area=medium | maxDets=100 ] = -1.000\n",
            " Average Recall     (AR) @[ IoU=0.50:0.95 | area= large | maxDets=100 ] = 0.000\n",
            "IoU metric: segm\n",
            " Average Precision  (AP) @[ IoU=0.50:0.95 | area=   all | maxDets=100 ] = 0.000\n",
            " Average Precision  (AP) @[ IoU=0.50      | area=   all | maxDets=100 ] = 0.000\n",
            " Average Precision  (AP) @[ IoU=0.75      | area=   all | maxDets=100 ] = 0.000\n",
            " Average Precision  (AP) @[ IoU=0.50:0.95 | area= small | maxDets=100 ] = -1.000\n",
            " Average Precision  (AP) @[ IoU=0.50:0.95 | area=medium | maxDets=100 ] = -1.000\n",
            " Average Precision  (AP) @[ IoU=0.50:0.95 | area= large | maxDets=100 ] = 0.000\n",
            " Average Recall     (AR) @[ IoU=0.50:0.95 | area=   all | maxDets=  1 ] = 0.000\n",
            " Average Recall     (AR) @[ IoU=0.50:0.95 | area=   all | maxDets= 10 ] = 0.000\n",
            " Average Recall     (AR) @[ IoU=0.50:0.95 | area=   all | maxDets=100 ] = 0.000\n",
            " Average Recall     (AR) @[ IoU=0.50:0.95 | area= small | maxDets=100 ] = -1.000\n",
            " Average Recall     (AR) @[ IoU=0.50:0.95 | area=medium | maxDets=100 ] = -1.000\n",
            " Average Recall     (AR) @[ IoU=0.50:0.95 | area= large | maxDets=100 ] = 0.000\n",
            "Epoch: [1]  [ 0/20]  eta: 0:00:12  lr: 0.005000  loss: 0.7812 (0.7812)  loss_classifier: 0.1251 (0.1251)  loss_box_reg: 0.0602 (0.0602)  loss_mask: 0.5271 (0.5271)  loss_objectness: 0.0629 (0.0629)  loss_rpn_box_reg: 0.0058 (0.0058)  time: 0.6223  data: 0.3003  max mem: 1666\n",
            "Epoch: [1]  [10/20]  eta: 0:00:03  lr: 0.005000  loss: 0.5829 (0.6486)  loss_classifier: 0.1272 (0.1303)  loss_box_reg: 0.0684 (0.0729)  loss_mask: 0.3418 (0.4158)  loss_objectness: 0.0231 (0.0264)  loss_rpn_box_reg: 0.0029 (0.0032)  time: 0.3381  data: 0.0335  max mem: 1666\n",
            "Epoch: [1]  [19/20]  eta: 0:00:00  lr: 0.005000  loss: 0.6232 (0.6920)  loss_classifier: 0.1340 (0.1459)  loss_box_reg: 0.0810 (0.0958)  loss_mask: 0.3162 (0.4189)  loss_objectness: 0.0231 (0.0283)  loss_rpn_box_reg: 0.0025 (0.0031)  time: 0.3266  data: 0.0212  max mem: 1666\n",
            "Epoch: [1] Total time: 0:00:06 (0.3304 s / it)\n",
            "creating index...\n",
            "index created!\n",
            "Test:  [0/4]  eta: 0:00:01  model_time: 0.1951 (0.1951)  evaluator_time: 0.0109 (0.0109)  time: 0.4749  data: 0.2602  max mem: 1666\n",
            "Test:  [3/4]  eta: 0:00:00  model_time: 0.1497 (0.1592)  evaluator_time: 0.0109 (0.0178)  time: 0.2520  data: 0.0691  max mem: 1666\n",
            "Test: Total time: 0:00:01 (0.2708 s / it)\n",
            "Averaged stats: model_time: 0.1497 (0.1592)  evaluator_time: 0.0109 (0.0178)\n",
            "Accumulating evaluation results...\n",
            "DONE (t=0.00s).\n",
            "Accumulating evaluation results...\n",
            "DONE (t=0.00s).\n",
            "IoU metric: bbox\n",
            " Average Precision  (AP) @[ IoU=0.50:0.95 | area=   all | maxDets=100 ] = 0.037\n",
            " Average Precision  (AP) @[ IoU=0.50      | area=   all | maxDets=100 ] = 0.126\n",
            " Average Precision  (AP) @[ IoU=0.75      | area=   all | maxDets=100 ] = 0.023\n",
            " Average Precision  (AP) @[ IoU=0.50:0.95 | area= small | maxDets=100 ] = -1.000\n",
            " Average Precision  (AP) @[ IoU=0.50:0.95 | area=medium | maxDets=100 ] = -1.000\n",
            " Average Precision  (AP) @[ IoU=0.50:0.95 | area= large | maxDets=100 ] = 0.037\n",
            " Average Recall     (AR) @[ IoU=0.50:0.95 | area=   all | maxDets=  1 ] = 0.013\n",
            " Average Recall     (AR) @[ IoU=0.50:0.95 | area=   all | maxDets= 10 ] = 0.113\n",
            " Average Recall     (AR) @[ IoU=0.50:0.95 | area=   all | maxDets=100 ] = 0.113\n",
            " Average Recall     (AR) @[ IoU=0.50:0.95 | area= small | maxDets=100 ] = -1.000\n",
            " Average Recall     (AR) @[ IoU=0.50:0.95 | area=medium | maxDets=100 ] = -1.000\n",
            " Average Recall     (AR) @[ IoU=0.50:0.95 | area= large | maxDets=100 ] = 0.113\n",
            "IoU metric: segm\n",
            " Average Precision  (AP) @[ IoU=0.50:0.95 | area=   all | maxDets=100 ] = 0.000\n",
            " Average Precision  (AP) @[ IoU=0.50      | area=   all | maxDets=100 ] = 0.000\n",
            " Average Precision  (AP) @[ IoU=0.75      | area=   all | maxDets=100 ] = 0.000\n",
            " Average Precision  (AP) @[ IoU=0.50:0.95 | area= small | maxDets=100 ] = -1.000\n",
            " Average Precision  (AP) @[ IoU=0.50:0.95 | area=medium | maxDets=100 ] = -1.000\n",
            " Average Precision  (AP) @[ IoU=0.50:0.95 | area= large | maxDets=100 ] = 0.000\n",
            " Average Recall     (AR) @[ IoU=0.50:0.95 | area=   all | maxDets=  1 ] = 0.000\n",
            " Average Recall     (AR) @[ IoU=0.50:0.95 | area=   all | maxDets= 10 ] = 0.000\n",
            " Average Recall     (AR) @[ IoU=0.50:0.95 | area=   all | maxDets=100 ] = 0.000\n",
            " Average Recall     (AR) @[ IoU=0.50:0.95 | area= small | maxDets=100 ] = -1.000\n",
            " Average Recall     (AR) @[ IoU=0.50:0.95 | area=medium | maxDets=100 ] = -1.000\n",
            " Average Recall     (AR) @[ IoU=0.50:0.95 | area= large | maxDets=100 ] = 0.000\n",
            "Epoch: [2]  [ 0/20]  eta: 0:00:12  lr: 0.005000  loss: 0.6757 (0.6757)  loss_classifier: 0.1712 (0.1712)  loss_box_reg: 0.1457 (0.1457)  loss_mask: 0.3143 (0.3143)  loss_objectness: 0.0423 (0.0423)  loss_rpn_box_reg: 0.0021 (0.0021)  time: 0.6271  data: 0.2683  max mem: 1666\n",
            "Epoch: [2]  [10/20]  eta: 0:00:03  lr: 0.005000  loss: 0.5310 (0.6313)  loss_classifier: 0.1370 (0.1413)  loss_box_reg: 0.1183 (0.1299)  loss_mask: 0.2521 (0.3353)  loss_objectness: 0.0198 (0.0220)  loss_rpn_box_reg: 0.0028 (0.0027)  time: 0.3442  data: 0.0303  max mem: 1666\n",
            "Epoch: [2]  [19/20]  eta: 0:00:00  lr: 0.005000  loss: 0.5310 (0.6340)  loss_classifier: 0.1266 (0.1291)  loss_box_reg: 0.1266 (0.1311)  loss_mask: 0.2336 (0.3537)  loss_objectness: 0.0145 (0.0174)  loss_rpn_box_reg: 0.0021 (0.0026)  time: 0.3310  data: 0.0193  max mem: 1666\n",
            "Epoch: [2] Total time: 0:00:06 (0.3347 s / it)\n",
            "creating index...\n",
            "index created!\n",
            "Test:  [0/4]  eta: 0:00:03  model_time: 0.3244 (0.3244)  evaluator_time: 0.1542 (0.1542)  time: 0.7628  data: 0.2788  max mem: 1666\n",
            "Test:  [3/4]  eta: 0:00:00  model_time: 0.1945 (0.2456)  evaluator_time: 0.1140 (0.1216)  time: 0.4483  data: 0.0737  max mem: 1666\n",
            "Test: Total time: 0:00:01 (0.4700 s / it)\n",
            "Averaged stats: model_time: 0.1945 (0.2456)  evaluator_time: 0.1140 (0.1216)\n",
            "Accumulating evaluation results...\n",
            "DONE (t=0.00s).\n",
            "Accumulating evaluation results...\n",
            "DONE (t=0.00s).\n",
            "IoU metric: bbox\n",
            " Average Precision  (AP) @[ IoU=0.50:0.95 | area=   all | maxDets=100 ] = 0.080\n",
            " Average Precision  (AP) @[ IoU=0.50      | area=   all | maxDets=100 ] = 0.155\n",
            " Average Precision  (AP) @[ IoU=0.75      | area=   all | maxDets=100 ] = 0.074\n",
            " Average Precision  (AP) @[ IoU=0.50:0.95 | area= small | maxDets=100 ] = -1.000\n",
            " Average Precision  (AP) @[ IoU=0.50:0.95 | area=medium | maxDets=100 ] = -1.000\n",
            " Average Precision  (AP) @[ IoU=0.50:0.95 | area= large | maxDets=100 ] = 0.080\n",
            " Average Recall     (AR) @[ IoU=0.50:0.95 | area=   all | maxDets=  1 ] = 0.000\n",
            " Average Recall     (AR) @[ IoU=0.50:0.95 | area=   all | maxDets= 10 ] = 0.225\n",
            " Average Recall     (AR) @[ IoU=0.50:0.95 | area=   all | maxDets=100 ] = 0.306\n",
            " Average Recall     (AR) @[ IoU=0.50:0.95 | area= small | maxDets=100 ] = -1.000\n",
            " Average Recall     (AR) @[ IoU=0.50:0.95 | area=medium | maxDets=100 ] = -1.000\n",
            " Average Recall     (AR) @[ IoU=0.50:0.95 | area= large | maxDets=100 ] = 0.306\n",
            "IoU metric: segm\n",
            " Average Precision  (AP) @[ IoU=0.50:0.95 | area=   all | maxDets=100 ] = 0.000\n",
            " Average Precision  (AP) @[ IoU=0.50      | area=   all | maxDets=100 ] = 0.000\n",
            " Average Precision  (AP) @[ IoU=0.75      | area=   all | maxDets=100 ] = 0.000\n",
            " Average Precision  (AP) @[ IoU=0.50:0.95 | area= small | maxDets=100 ] = -1.000\n",
            " Average Precision  (AP) @[ IoU=0.50:0.95 | area=medium | maxDets=100 ] = -1.000\n",
            " Average Precision  (AP) @[ IoU=0.50:0.95 | area= large | maxDets=100 ] = 0.000\n",
            " Average Recall     (AR) @[ IoU=0.50:0.95 | area=   all | maxDets=  1 ] = 0.000\n",
            " Average Recall     (AR) @[ IoU=0.50:0.95 | area=   all | maxDets= 10 ] = 0.000\n",
            " Average Recall     (AR) @[ IoU=0.50:0.95 | area=   all | maxDets=100 ] = 0.000\n",
            " Average Recall     (AR) @[ IoU=0.50:0.95 | area= small | maxDets=100 ] = -1.000\n",
            " Average Recall     (AR) @[ IoU=0.50:0.95 | area=medium | maxDets=100 ] = -1.000\n",
            " Average Recall     (AR) @[ IoU=0.50:0.95 | area= large | maxDets=100 ] = 0.000\n",
            "Epoch: [3]  [ 0/20]  eta: 0:00:12  lr: 0.000500  loss: 0.5236 (0.5236)  loss_classifier: 0.0971 (0.0971)  loss_box_reg: 0.0590 (0.0590)  loss_mask: 0.3229 (0.3229)  loss_objectness: 0.0374 (0.0374)  loss_rpn_box_reg: 0.0072 (0.0072)  time: 0.6101  data: 0.2938  max mem: 1666\n",
            "Epoch: [3]  [10/20]  eta: 0:00:03  lr: 0.000500  loss: 0.5157 (0.5585)  loss_classifier: 0.1021 (0.1070)  loss_box_reg: 0.1309 (0.1286)  loss_mask: 0.2409 (0.3082)  loss_objectness: 0.0089 (0.0123)  loss_rpn_box_reg: 0.0020 (0.0024)  time: 0.3459  data: 0.0328  max mem: 1666\n",
            "Epoch: [3]  [19/20]  eta: 0:00:00  lr: 0.000500  loss: 0.4968 (0.5975)  loss_classifier: 0.0996 (0.1027)  loss_box_reg: 0.1302 (0.1305)  loss_mask: 0.2323 (0.3530)  loss_objectness: 0.0077 (0.0094)  loss_rpn_box_reg: 0.0014 (0.0020)  time: 0.3335  data: 0.0207  max mem: 1666\n",
            "Epoch: [3] Total time: 0:00:06 (0.3379 s / it)\n",
            "creating index...\n",
            "index created!\n",
            "Test:  [0/4]  eta: 0:00:02  model_time: 0.3492 (0.3492)  evaluator_time: 0.1148 (0.1148)  time: 0.7385  data: 0.2692  max mem: 1666\n",
            "Test:  [3/4]  eta: 0:00:00  model_time: 0.1767 (0.2473)  evaluator_time: 0.0859 (0.0954)  time: 0.4210  data: 0.0713  max mem: 1666\n",
            "Test: Total time: 0:00:01 (0.4417 s / it)\n",
            "Averaged stats: model_time: 0.1767 (0.2473)  evaluator_time: 0.0859 (0.0954)\n",
            "Accumulating evaluation results...\n",
            "DONE (t=0.00s).\n",
            "Accumulating evaluation results...\n",
            "DONE (t=0.00s).\n",
            "IoU metric: bbox\n",
            " Average Precision  (AP) @[ IoU=0.50:0.95 | area=   all | maxDets=100 ] = 0.099\n",
            " Average Precision  (AP) @[ IoU=0.50      | area=   all | maxDets=100 ] = 0.177\n",
            " Average Precision  (AP) @[ IoU=0.75      | area=   all | maxDets=100 ] = 0.107\n",
            " Average Precision  (AP) @[ IoU=0.50:0.95 | area= small | maxDets=100 ] = -1.000\n",
            " Average Precision  (AP) @[ IoU=0.50:0.95 | area=medium | maxDets=100 ] = -1.000\n",
            " Average Precision  (AP) @[ IoU=0.50:0.95 | area= large | maxDets=100 ] = 0.101\n",
            " Average Recall     (AR) @[ IoU=0.50:0.95 | area=   all | maxDets=  1 ] = 0.100\n",
            " Average Recall     (AR) @[ IoU=0.50:0.95 | area=   all | maxDets= 10 ] = 0.381\n",
            " Average Recall     (AR) @[ IoU=0.50:0.95 | area=   all | maxDets=100 ] = 0.388\n",
            " Average Recall     (AR) @[ IoU=0.50:0.95 | area= small | maxDets=100 ] = -1.000\n",
            " Average Recall     (AR) @[ IoU=0.50:0.95 | area=medium | maxDets=100 ] = -1.000\n",
            " Average Recall     (AR) @[ IoU=0.50:0.95 | area= large | maxDets=100 ] = 0.388\n",
            "IoU metric: segm\n",
            " Average Precision  (AP) @[ IoU=0.50:0.95 | area=   all | maxDets=100 ] = 0.000\n",
            " Average Precision  (AP) @[ IoU=0.50      | area=   all | maxDets=100 ] = 0.000\n",
            " Average Precision  (AP) @[ IoU=0.75      | area=   all | maxDets=100 ] = 0.000\n",
            " Average Precision  (AP) @[ IoU=0.50:0.95 | area= small | maxDets=100 ] = -1.000\n",
            " Average Precision  (AP) @[ IoU=0.50:0.95 | area=medium | maxDets=100 ] = -1.000\n",
            " Average Precision  (AP) @[ IoU=0.50:0.95 | area= large | maxDets=100 ] = 0.000\n",
            " Average Recall     (AR) @[ IoU=0.50:0.95 | area=   all | maxDets=  1 ] = 0.000\n",
            " Average Recall     (AR) @[ IoU=0.50:0.95 | area=   all | maxDets= 10 ] = 0.000\n",
            " Average Recall     (AR) @[ IoU=0.50:0.95 | area=   all | maxDets=100 ] = 0.000\n",
            " Average Recall     (AR) @[ IoU=0.50:0.95 | area= small | maxDets=100 ] = -1.000\n",
            " Average Recall     (AR) @[ IoU=0.50:0.95 | area=medium | maxDets=100 ] = -1.000\n",
            " Average Recall     (AR) @[ IoU=0.50:0.95 | area= large | maxDets=100 ] = 0.000\n",
            "Epoch: [4]  [ 0/20]  eta: 0:00:11  lr: 0.000500  loss: 0.3679 (0.3679)  loss_classifier: 0.0797 (0.0797)  loss_box_reg: 0.0890 (0.0890)  loss_mask: 0.1772 (0.1772)  loss_objectness: 0.0205 (0.0205)  loss_rpn_box_reg: 0.0015 (0.0015)  time: 0.5848  data: 0.2681  max mem: 1666\n",
            "Epoch: [4]  [10/20]  eta: 0:00:03  lr: 0.000500  loss: 0.4826 (0.5501)  loss_classifier: 0.1007 (0.1009)  loss_box_reg: 0.1245 (0.1266)  loss_mask: 0.2114 (0.3106)  loss_objectness: 0.0061 (0.0103)  loss_rpn_box_reg: 0.0013 (0.0017)  time: 0.3436  data: 0.0301  max mem: 1666\n",
            "Epoch: [4]  [19/20]  eta: 0:00:00  lr: 0.000500  loss: 0.4812 (0.5612)  loss_classifier: 0.0968 (0.1002)  loss_box_reg: 0.1331 (0.1308)  loss_mask: 0.2114 (0.3193)  loss_objectness: 0.0061 (0.0092)  loss_rpn_box_reg: 0.0013 (0.0016)  time: 0.3330  data: 0.0192  max mem: 1666\n",
            "Epoch: [4] Total time: 0:00:06 (0.3373 s / it)\n",
            "creating index...\n",
            "index created!\n",
            "Test:  [0/4]  eta: 0:00:03  model_time: 0.3577 (0.3577)  evaluator_time: 0.1231 (0.1231)  time: 0.7581  data: 0.2720  max mem: 1666\n",
            "Test:  [3/4]  eta: 0:00:00  model_time: 0.1842 (0.2597)  evaluator_time: 0.0967 (0.1080)  time: 0.4473  data: 0.0721  max mem: 1666\n",
            "Test: Total time: 0:00:01 (0.4679 s / it)\n",
            "Averaged stats: model_time: 0.1842 (0.2597)  evaluator_time: 0.0967 (0.1080)\n",
            "Accumulating evaluation results...\n",
            "DONE (t=0.01s).\n",
            "Accumulating evaluation results...\n",
            "DONE (t=0.00s).\n",
            "IoU metric: bbox\n",
            " Average Precision  (AP) @[ IoU=0.50:0.95 | area=   all | maxDets=100 ] = 0.133\n",
            " Average Precision  (AP) @[ IoU=0.50      | area=   all | maxDets=100 ] = 0.214\n",
            " Average Precision  (AP) @[ IoU=0.75      | area=   all | maxDets=100 ] = 0.152\n",
            " Average Precision  (AP) @[ IoU=0.50:0.95 | area= small | maxDets=100 ] = -1.000\n",
            " Average Precision  (AP) @[ IoU=0.50:0.95 | area=medium | maxDets=100 ] = -1.000\n",
            " Average Precision  (AP) @[ IoU=0.50:0.95 | area= large | maxDets=100 ] = 0.133\n",
            " Average Recall     (AR) @[ IoU=0.50:0.95 | area=   all | maxDets=  1 ] = 0.100\n",
            " Average Recall     (AR) @[ IoU=0.50:0.95 | area=   all | maxDets= 10 ] = 0.375\n",
            " Average Recall     (AR) @[ IoU=0.50:0.95 | area=   all | maxDets=100 ] = 0.412\n",
            " Average Recall     (AR) @[ IoU=0.50:0.95 | area= small | maxDets=100 ] = -1.000\n",
            " Average Recall     (AR) @[ IoU=0.50:0.95 | area=medium | maxDets=100 ] = -1.000\n",
            " Average Recall     (AR) @[ IoU=0.50:0.95 | area= large | maxDets=100 ] = 0.412\n",
            "IoU metric: segm\n",
            " Average Precision  (AP) @[ IoU=0.50:0.95 | area=   all | maxDets=100 ] = 0.000\n",
            " Average Precision  (AP) @[ IoU=0.50      | area=   all | maxDets=100 ] = 0.000\n",
            " Average Precision  (AP) @[ IoU=0.75      | area=   all | maxDets=100 ] = 0.000\n",
            " Average Precision  (AP) @[ IoU=0.50:0.95 | area= small | maxDets=100 ] = -1.000\n",
            " Average Precision  (AP) @[ IoU=0.50:0.95 | area=medium | maxDets=100 ] = -1.000\n",
            " Average Precision  (AP) @[ IoU=0.50:0.95 | area= large | maxDets=100 ] = 0.000\n",
            " Average Recall     (AR) @[ IoU=0.50:0.95 | area=   all | maxDets=  1 ] = 0.000\n",
            " Average Recall     (AR) @[ IoU=0.50:0.95 | area=   all | maxDets= 10 ] = 0.000\n",
            " Average Recall     (AR) @[ IoU=0.50:0.95 | area=   all | maxDets=100 ] = 0.000\n",
            " Average Recall     (AR) @[ IoU=0.50:0.95 | area= small | maxDets=100 ] = -1.000\n",
            " Average Recall     (AR) @[ IoU=0.50:0.95 | area=medium | maxDets=100 ] = -1.000\n",
            " Average Recall     (AR) @[ IoU=0.50:0.95 | area= large | maxDets=100 ] = 0.000\n",
            "Epoch: [5]  [ 0/20]  eta: 0:00:12  lr: 0.000500  loss: 0.9135 (0.9135)  loss_classifier: 0.1184 (0.1184)  loss_box_reg: 0.1476 (0.1476)  loss_mask: 0.6340 (0.6340)  loss_objectness: 0.0125 (0.0125)  loss_rpn_box_reg: 0.0009 (0.0009)  time: 0.6290  data: 0.2870  max mem: 1666\n",
            "Epoch: [5]  [10/20]  eta: 0:00:03  lr: 0.000500  loss: 0.4255 (0.5044)  loss_classifier: 0.0851 (0.0923)  loss_box_reg: 0.1131 (0.1190)  loss_mask: 0.2036 (0.2842)  loss_objectness: 0.0046 (0.0075)  loss_rpn_box_reg: 0.0010 (0.0014)  time: 0.3505  data: 0.0330  max mem: 1666\n",
            "Epoch: [5]  [19/20]  eta: 0:00:00  lr: 0.000500  loss: 0.4201 (0.5251)  loss_classifier: 0.0860 (0.0909)  loss_box_reg: 0.1131 (0.1170)  loss_mask: 0.2003 (0.3100)  loss_objectness: 0.0036 (0.0059)  loss_rpn_box_reg: 0.0011 (0.0013)  time: 0.3370  data: 0.0212  max mem: 1666\n",
            "Epoch: [5] Total time: 0:00:06 (0.3410 s / it)\n",
            "creating index...\n",
            "index created!\n",
            "Test:  [0/4]  eta: 0:00:02  model_time: 0.3339 (0.3339)  evaluator_time: 0.1001 (0.1001)  time: 0.7249  data: 0.2856  max mem: 1666\n",
            "Test:  [3/4]  eta: 0:00:00  model_time: 0.1688 (0.2380)  evaluator_time: 0.0841 (0.0917)  time: 0.4113  data: 0.0748  max mem: 1666\n",
            "Test: Total time: 0:00:01 (0.4325 s / it)\n",
            "Averaged stats: model_time: 0.1688 (0.2380)  evaluator_time: 0.0841 (0.0917)\n",
            "Accumulating evaluation results...\n",
            "DONE (t=0.00s).\n",
            "Accumulating evaluation results...\n",
            "DONE (t=0.00s).\n",
            "IoU metric: bbox\n",
            " Average Precision  (AP) @[ IoU=0.50:0.95 | area=   all | maxDets=100 ] = 0.195\n",
            " Average Precision  (AP) @[ IoU=0.50      | area=   all | maxDets=100 ] = 0.270\n",
            " Average Precision  (AP) @[ IoU=0.75      | area=   all | maxDets=100 ] = 0.256\n",
            " Average Precision  (AP) @[ IoU=0.50:0.95 | area= small | maxDets=100 ] = -1.000\n",
            " Average Precision  (AP) @[ IoU=0.50:0.95 | area=medium | maxDets=100 ] = -1.000\n",
            " Average Precision  (AP) @[ IoU=0.50:0.95 | area= large | maxDets=100 ] = 0.195\n",
            " Average Recall     (AR) @[ IoU=0.50:0.95 | area=   all | maxDets=  1 ] = 0.150\n",
            " Average Recall     (AR) @[ IoU=0.50:0.95 | area=   all | maxDets= 10 ] = 0.394\n",
            " Average Recall     (AR) @[ IoU=0.50:0.95 | area=   all | maxDets=100 ] = 0.394\n",
            " Average Recall     (AR) @[ IoU=0.50:0.95 | area= small | maxDets=100 ] = -1.000\n",
            " Average Recall     (AR) @[ IoU=0.50:0.95 | area=medium | maxDets=100 ] = -1.000\n",
            " Average Recall     (AR) @[ IoU=0.50:0.95 | area= large | maxDets=100 ] = 0.394\n",
            "IoU metric: segm\n",
            " Average Precision  (AP) @[ IoU=0.50:0.95 | area=   all | maxDets=100 ] = 0.000\n",
            " Average Precision  (AP) @[ IoU=0.50      | area=   all | maxDets=100 ] = 0.000\n",
            " Average Precision  (AP) @[ IoU=0.75      | area=   all | maxDets=100 ] = 0.000\n",
            " Average Precision  (AP) @[ IoU=0.50:0.95 | area= small | maxDets=100 ] = -1.000\n",
            " Average Precision  (AP) @[ IoU=0.50:0.95 | area=medium | maxDets=100 ] = -1.000\n",
            " Average Precision  (AP) @[ IoU=0.50:0.95 | area= large | maxDets=100 ] = 0.000\n",
            " Average Recall     (AR) @[ IoU=0.50:0.95 | area=   all | maxDets=  1 ] = 0.000\n",
            " Average Recall     (AR) @[ IoU=0.50:0.95 | area=   all | maxDets= 10 ] = 0.000\n",
            " Average Recall     (AR) @[ IoU=0.50:0.95 | area=   all | maxDets=100 ] = 0.000\n",
            " Average Recall     (AR) @[ IoU=0.50:0.95 | area= small | maxDets=100 ] = -1.000\n",
            " Average Recall     (AR) @[ IoU=0.50:0.95 | area=medium | maxDets=100 ] = -1.000\n",
            " Average Recall     (AR) @[ IoU=0.50:0.95 | area= large | maxDets=100 ] = 0.000\n",
            "Epoch: [6]  [ 0/20]  eta: 0:00:12  lr: 0.000050  loss: 0.7273 (0.7273)  loss_classifier: 0.0797 (0.0797)  loss_box_reg: 0.1051 (0.1051)  loss_mask: 0.5362 (0.5362)  loss_objectness: 0.0051 (0.0051)  loss_rpn_box_reg: 0.0012 (0.0012)  time: 0.6243  data: 0.2657  max mem: 1666\n",
            "Epoch: [6]  [10/20]  eta: 0:00:03  lr: 0.000050  loss: 0.4038 (0.4747)  loss_classifier: 0.0905 (0.0907)  loss_box_reg: 0.1175 (0.1178)  loss_mask: 0.1861 (0.2583)  loss_objectness: 0.0052 (0.0067)  loss_rpn_box_reg: 0.0010 (0.0013)  time: 0.3499  data: 0.0300  max mem: 1666\n",
            "Epoch: [6]  [19/20]  eta: 0:00:00  lr: 0.000050  loss: 0.3995 (0.4941)  loss_classifier: 0.0797 (0.0858)  loss_box_reg: 0.1096 (0.1141)  loss_mask: 0.1827 (0.2868)  loss_objectness: 0.0052 (0.0061)  loss_rpn_box_reg: 0.0010 (0.0012)  time: 0.3372  data: 0.0195  max mem: 1666\n",
            "Epoch: [6] Total time: 0:00:06 (0.3411 s / it)\n",
            "creating index...\n",
            "index created!\n",
            "Test:  [0/4]  eta: 0:00:02  model_time: 0.3263 (0.3263)  evaluator_time: 0.1139 (0.1139)  time: 0.7201  data: 0.2693  max mem: 1666\n",
            "Test:  [3/4]  eta: 0:00:00  model_time: 0.1851 (0.2484)  evaluator_time: 0.0818 (0.0969)  time: 0.4252  data: 0.0715  max mem: 1666\n",
            "Test: Total time: 0:00:01 (0.4469 s / it)\n",
            "Averaged stats: model_time: 0.1851 (0.2484)  evaluator_time: 0.0818 (0.0969)\n",
            "Accumulating evaluation results...\n",
            "DONE (t=0.00s).\n",
            "Accumulating evaluation results...\n",
            "DONE (t=0.00s).\n",
            "IoU metric: bbox\n",
            " Average Precision  (AP) @[ IoU=0.50:0.95 | area=   all | maxDets=100 ] = 0.196\n",
            " Average Precision  (AP) @[ IoU=0.50      | area=   all | maxDets=100 ] = 0.272\n",
            " Average Precision  (AP) @[ IoU=0.75      | area=   all | maxDets=100 ] = 0.258\n",
            " Average Precision  (AP) @[ IoU=0.50:0.95 | area= small | maxDets=100 ] = -1.000\n",
            " Average Precision  (AP) @[ IoU=0.50:0.95 | area=medium | maxDets=100 ] = -1.000\n",
            " Average Precision  (AP) @[ IoU=0.50:0.95 | area= large | maxDets=100 ] = 0.196\n",
            " Average Recall     (AR) @[ IoU=0.50:0.95 | area=   all | maxDets=  1 ] = 0.150\n",
            " Average Recall     (AR) @[ IoU=0.50:0.95 | area=   all | maxDets= 10 ] = 0.394\n",
            " Average Recall     (AR) @[ IoU=0.50:0.95 | area=   all | maxDets=100 ] = 0.394\n",
            " Average Recall     (AR) @[ IoU=0.50:0.95 | area= small | maxDets=100 ] = -1.000\n",
            " Average Recall     (AR) @[ IoU=0.50:0.95 | area=medium | maxDets=100 ] = -1.000\n",
            " Average Recall     (AR) @[ IoU=0.50:0.95 | area= large | maxDets=100 ] = 0.394\n",
            "IoU metric: segm\n",
            " Average Precision  (AP) @[ IoU=0.50:0.95 | area=   all | maxDets=100 ] = 0.000\n",
            " Average Precision  (AP) @[ IoU=0.50      | area=   all | maxDets=100 ] = 0.000\n",
            " Average Precision  (AP) @[ IoU=0.75      | area=   all | maxDets=100 ] = 0.000\n",
            " Average Precision  (AP) @[ IoU=0.50:0.95 | area= small | maxDets=100 ] = -1.000\n",
            " Average Precision  (AP) @[ IoU=0.50:0.95 | area=medium | maxDets=100 ] = -1.000\n",
            " Average Precision  (AP) @[ IoU=0.50:0.95 | area= large | maxDets=100 ] = 0.000\n",
            " Average Recall     (AR) @[ IoU=0.50:0.95 | area=   all | maxDets=  1 ] = 0.000\n",
            " Average Recall     (AR) @[ IoU=0.50:0.95 | area=   all | maxDets= 10 ] = 0.000\n",
            " Average Recall     (AR) @[ IoU=0.50:0.95 | area=   all | maxDets=100 ] = 0.000\n",
            " Average Recall     (AR) @[ IoU=0.50:0.95 | area= small | maxDets=100 ] = -1.000\n",
            " Average Recall     (AR) @[ IoU=0.50:0.95 | area=medium | maxDets=100 ] = -1.000\n",
            " Average Recall     (AR) @[ IoU=0.50:0.95 | area= large | maxDets=100 ] = 0.000\n",
            "Epoch: [7]  [ 0/20]  eta: 0:00:12  lr: 0.000050  loss: 0.3828 (0.3828)  loss_classifier: 0.0719 (0.0719)  loss_box_reg: 0.1269 (0.1269)  loss_mask: 0.1679 (0.1679)  loss_objectness: 0.0141 (0.0141)  loss_rpn_box_reg: 0.0020 (0.0020)  time: 0.6447  data: 0.3155  max mem: 1666\n",
            "Epoch: [7]  [10/20]  eta: 0:00:03  lr: 0.000050  loss: 0.3848 (0.4841)  loss_classifier: 0.0823 (0.0820)  loss_box_reg: 0.1072 (0.1111)  loss_mask: 0.1795 (0.2851)  loss_objectness: 0.0030 (0.0047)  loss_rpn_box_reg: 0.0011 (0.0011)  time: 0.3528  data: 0.0342  max mem: 1666\n",
            "Epoch: [7]  [19/20]  eta: 0:00:00  lr: 0.000050  loss: 0.3902 (0.5083)  loss_classifier: 0.0826 (0.0852)  loss_box_reg: 0.1095 (0.1129)  loss_mask: 0.1813 (0.3039)  loss_objectness: 0.0030 (0.0052)  loss_rpn_box_reg: 0.0010 (0.0011)  time: 0.3396  data: 0.0215  max mem: 1666\n",
            "Epoch: [7] Total time: 0:00:06 (0.3438 s / it)\n",
            "creating index...\n",
            "index created!\n",
            "Test:  [0/4]  eta: 0:00:03  model_time: 0.3469 (0.3469)  evaluator_time: 0.1138 (0.1138)  time: 0.7526  data: 0.2866  max mem: 1666\n",
            "Test:  [3/4]  eta: 0:00:00  model_time: 0.1720 (0.2476)  evaluator_time: 0.0763 (0.0945)  time: 0.4240  data: 0.0749  max mem: 1666\n",
            "Test: Total time: 0:00:01 (0.4451 s / it)\n",
            "Averaged stats: model_time: 0.1720 (0.2476)  evaluator_time: 0.0763 (0.0945)\n",
            "Accumulating evaluation results...\n",
            "DONE (t=0.01s).\n",
            "Accumulating evaluation results...\n",
            "DONE (t=0.00s).\n",
            "IoU metric: bbox\n",
            " Average Precision  (AP) @[ IoU=0.50:0.95 | area=   all | maxDets=100 ] = 0.198\n",
            " Average Precision  (AP) @[ IoU=0.50      | area=   all | maxDets=100 ] = 0.276\n",
            " Average Precision  (AP) @[ IoU=0.75      | area=   all | maxDets=100 ] = 0.261\n",
            " Average Precision  (AP) @[ IoU=0.50:0.95 | area= small | maxDets=100 ] = -1.000\n",
            " Average Precision  (AP) @[ IoU=0.50:0.95 | area=medium | maxDets=100 ] = -1.000\n",
            " Average Precision  (AP) @[ IoU=0.50:0.95 | area= large | maxDets=100 ] = 0.198\n",
            " Average Recall     (AR) @[ IoU=0.50:0.95 | area=   all | maxDets=  1 ] = 0.150\n",
            " Average Recall     (AR) @[ IoU=0.50:0.95 | area=   all | maxDets= 10 ] = 0.394\n",
            " Average Recall     (AR) @[ IoU=0.50:0.95 | area=   all | maxDets=100 ] = 0.394\n",
            " Average Recall     (AR) @[ IoU=0.50:0.95 | area= small | maxDets=100 ] = -1.000\n",
            " Average Recall     (AR) @[ IoU=0.50:0.95 | area=medium | maxDets=100 ] = -1.000\n",
            " Average Recall     (AR) @[ IoU=0.50:0.95 | area= large | maxDets=100 ] = 0.394\n",
            "IoU metric: segm\n",
            " Average Precision  (AP) @[ IoU=0.50:0.95 | area=   all | maxDets=100 ] = 0.000\n",
            " Average Precision  (AP) @[ IoU=0.50      | area=   all | maxDets=100 ] = 0.000\n",
            " Average Precision  (AP) @[ IoU=0.75      | area=   all | maxDets=100 ] = 0.000\n",
            " Average Precision  (AP) @[ IoU=0.50:0.95 | area= small | maxDets=100 ] = -1.000\n",
            " Average Precision  (AP) @[ IoU=0.50:0.95 | area=medium | maxDets=100 ] = -1.000\n",
            " Average Precision  (AP) @[ IoU=0.50:0.95 | area= large | maxDets=100 ] = 0.000\n",
            " Average Recall     (AR) @[ IoU=0.50:0.95 | area=   all | maxDets=  1 ] = 0.000\n",
            " Average Recall     (AR) @[ IoU=0.50:0.95 | area=   all | maxDets= 10 ] = 0.000\n",
            " Average Recall     (AR) @[ IoU=0.50:0.95 | area=   all | maxDets=100 ] = 0.000\n",
            " Average Recall     (AR) @[ IoU=0.50:0.95 | area= small | maxDets=100 ] = -1.000\n",
            " Average Recall     (AR) @[ IoU=0.50:0.95 | area=medium | maxDets=100 ] = -1.000\n",
            " Average Recall     (AR) @[ IoU=0.50:0.95 | area= large | maxDets=100 ] = 0.000\n",
            "Epoch: [8]  [ 0/20]  eta: 0:00:12  lr: 0.000050  loss: 0.3436 (0.3436)  loss_classifier: 0.0751 (0.0751)  loss_box_reg: 0.1007 (0.1007)  loss_mask: 0.1619 (0.1619)  loss_objectness: 0.0049 (0.0049)  loss_rpn_box_reg: 0.0010 (0.0010)  time: 0.6228  data: 0.2693  max mem: 1666\n",
            "Epoch: [8]  [10/20]  eta: 0:00:03  lr: 0.000050  loss: 0.4009 (0.5391)  loss_classifier: 0.0826 (0.0866)  loss_box_reg: 0.1069 (0.1081)  loss_mask: 0.1999 (0.3369)  loss_objectness: 0.0049 (0.0063)  loss_rpn_box_reg: 0.0010 (0.0012)  time: 0.3527  data: 0.0308  max mem: 1666\n",
            "Epoch: [8]  [19/20]  eta: 0:00:00  lr: 0.000050  loss: 0.3886 (0.4946)  loss_classifier: 0.0806 (0.0847)  loss_box_reg: 0.1078 (0.1097)  loss_mask: 0.1819 (0.2935)  loss_objectness: 0.0049 (0.0056)  loss_rpn_box_reg: 0.0010 (0.0012)  time: 0.3401  data: 0.0197  max mem: 1666\n",
            "Epoch: [8] Total time: 0:00:06 (0.3440 s / it)\n",
            "creating index...\n",
            "index created!\n",
            "Test:  [0/4]  eta: 0:00:02  model_time: 0.3429 (0.3429)  evaluator_time: 0.1157 (0.1157)  time: 0.7497  data: 0.2859  max mem: 1666\n",
            "Test:  [3/4]  eta: 0:00:00  model_time: 0.1777 (0.2504)  evaluator_time: 0.0796 (0.0965)  time: 0.4301  data: 0.0758  max mem: 1666\n",
            "Test: Total time: 0:00:01 (0.4513 s / it)\n",
            "Averaged stats: model_time: 0.1777 (0.2504)  evaluator_time: 0.0796 (0.0965)\n",
            "Accumulating evaluation results...\n",
            "DONE (t=0.00s).\n",
            "Accumulating evaluation results...\n",
            "DONE (t=0.00s).\n",
            "IoU metric: bbox\n",
            " Average Precision  (AP) @[ IoU=0.50:0.95 | area=   all | maxDets=100 ] = 0.195\n",
            " Average Precision  (AP) @[ IoU=0.50      | area=   all | maxDets=100 ] = 0.261\n",
            " Average Precision  (AP) @[ IoU=0.75      | area=   all | maxDets=100 ] = 0.261\n",
            " Average Precision  (AP) @[ IoU=0.50:0.95 | area= small | maxDets=100 ] = -1.000\n",
            " Average Precision  (AP) @[ IoU=0.50:0.95 | area=medium | maxDets=100 ] = -1.000\n",
            " Average Precision  (AP) @[ IoU=0.50:0.95 | area= large | maxDets=100 ] = 0.195\n",
            " Average Recall     (AR) @[ IoU=0.50:0.95 | area=   all | maxDets=  1 ] = 0.150\n",
            " Average Recall     (AR) @[ IoU=0.50:0.95 | area=   all | maxDets= 10 ] = 0.381\n",
            " Average Recall     (AR) @[ IoU=0.50:0.95 | area=   all | maxDets=100 ] = 0.381\n",
            " Average Recall     (AR) @[ IoU=0.50:0.95 | area= small | maxDets=100 ] = -1.000\n",
            " Average Recall     (AR) @[ IoU=0.50:0.95 | area=medium | maxDets=100 ] = -1.000\n",
            " Average Recall     (AR) @[ IoU=0.50:0.95 | area= large | maxDets=100 ] = 0.381\n",
            "IoU metric: segm\n",
            " Average Precision  (AP) @[ IoU=0.50:0.95 | area=   all | maxDets=100 ] = 0.000\n",
            " Average Precision  (AP) @[ IoU=0.50      | area=   all | maxDets=100 ] = 0.000\n",
            " Average Precision  (AP) @[ IoU=0.75      | area=   all | maxDets=100 ] = 0.000\n",
            " Average Precision  (AP) @[ IoU=0.50:0.95 | area= small | maxDets=100 ] = -1.000\n",
            " Average Precision  (AP) @[ IoU=0.50:0.95 | area=medium | maxDets=100 ] = -1.000\n",
            " Average Precision  (AP) @[ IoU=0.50:0.95 | area= large | maxDets=100 ] = 0.000\n",
            " Average Recall     (AR) @[ IoU=0.50:0.95 | area=   all | maxDets=  1 ] = 0.000\n",
            " Average Recall     (AR) @[ IoU=0.50:0.95 | area=   all | maxDets= 10 ] = 0.000\n",
            " Average Recall     (AR) @[ IoU=0.50:0.95 | area=   all | maxDets=100 ] = 0.000\n",
            " Average Recall     (AR) @[ IoU=0.50:0.95 | area= small | maxDets=100 ] = -1.000\n",
            " Average Recall     (AR) @[ IoU=0.50:0.95 | area=medium | maxDets=100 ] = -1.000\n",
            " Average Recall     (AR) @[ IoU=0.50:0.95 | area= large | maxDets=100 ] = 0.000\n",
            "Epoch: [9]  [ 0/20]  eta: 0:00:12  lr: 0.000005  loss: 0.7755 (0.7755)  loss_classifier: 0.0732 (0.0732)  loss_box_reg: 0.1053 (0.1053)  loss_mask: 0.5857 (0.5857)  loss_objectness: 0.0103 (0.0103)  loss_rpn_box_reg: 0.0009 (0.0009)  time: 0.6493  data: 0.3183  max mem: 1666\n",
            "Epoch: [9]  [10/20]  eta: 0:00:03  lr: 0.000005  loss: 0.3849 (0.4929)  loss_classifier: 0.0872 (0.0867)  loss_box_reg: 0.1053 (0.1078)  loss_mask: 0.2050 (0.2920)  loss_objectness: 0.0031 (0.0050)  loss_rpn_box_reg: 0.0011 (0.0014)  time: 0.3561  data: 0.0349  max mem: 1666\n",
            "Epoch: [9]  [19/20]  eta: 0:00:00  lr: 0.000005  loss: 0.3832 (0.4727)  loss_classifier: 0.0831 (0.0842)  loss_box_reg: 0.1053 (0.1098)  loss_mask: 0.1788 (0.2733)  loss_objectness: 0.0024 (0.0040)  loss_rpn_box_reg: 0.0011 (0.0013)  time: 0.3431  data: 0.0219  max mem: 1666\n",
            "Epoch: [9] Total time: 0:00:06 (0.3471 s / it)\n",
            "creating index...\n",
            "index created!\n",
            "Test:  [0/4]  eta: 0:00:02  model_time: 0.3457 (0.3457)  evaluator_time: 0.1138 (0.1138)  time: 0.7334  data: 0.2647  max mem: 1666\n",
            "Test:  [3/4]  eta: 0:00:00  model_time: 0.1722 (0.2488)  evaluator_time: 0.0756 (0.0941)  time: 0.4211  data: 0.0702  max mem: 1666\n",
            "Test: Total time: 0:00:01 (0.4427 s / it)\n",
            "Averaged stats: model_time: 0.1722 (0.2488)  evaluator_time: 0.0756 (0.0941)\n",
            "Accumulating evaluation results...\n",
            "DONE (t=0.00s).\n",
            "Accumulating evaluation results...\n",
            "DONE (t=0.00s).\n",
            "IoU metric: bbox\n",
            " Average Precision  (AP) @[ IoU=0.50:0.95 | area=   all | maxDets=100 ] = 0.193\n",
            " Average Precision  (AP) @[ IoU=0.50      | area=   all | maxDets=100 ] = 0.261\n",
            " Average Precision  (AP) @[ IoU=0.75      | area=   all | maxDets=100 ] = 0.238\n",
            " Average Precision  (AP) @[ IoU=0.50:0.95 | area= small | maxDets=100 ] = -1.000\n",
            " Average Precision  (AP) @[ IoU=0.50:0.95 | area=medium | maxDets=100 ] = -1.000\n",
            " Average Precision  (AP) @[ IoU=0.50:0.95 | area= large | maxDets=100 ] = 0.193\n",
            " Average Recall     (AR) @[ IoU=0.50:0.95 | area=   all | maxDets=  1 ] = 0.150\n",
            " Average Recall     (AR) @[ IoU=0.50:0.95 | area=   all | maxDets= 10 ] = 0.375\n",
            " Average Recall     (AR) @[ IoU=0.50:0.95 | area=   all | maxDets=100 ] = 0.375\n",
            " Average Recall     (AR) @[ IoU=0.50:0.95 | area= small | maxDets=100 ] = -1.000\n",
            " Average Recall     (AR) @[ IoU=0.50:0.95 | area=medium | maxDets=100 ] = -1.000\n",
            " Average Recall     (AR) @[ IoU=0.50:0.95 | area= large | maxDets=100 ] = 0.375\n",
            "IoU metric: segm\n",
            " Average Precision  (AP) @[ IoU=0.50:0.95 | area=   all | maxDets=100 ] = 0.000\n",
            " Average Precision  (AP) @[ IoU=0.50      | area=   all | maxDets=100 ] = 0.000\n",
            " Average Precision  (AP) @[ IoU=0.75      | area=   all | maxDets=100 ] = 0.000\n",
            " Average Precision  (AP) @[ IoU=0.50:0.95 | area= small | maxDets=100 ] = -1.000\n",
            " Average Precision  (AP) @[ IoU=0.50:0.95 | area=medium | maxDets=100 ] = -1.000\n",
            " Average Precision  (AP) @[ IoU=0.50:0.95 | area= large | maxDets=100 ] = 0.000\n",
            " Average Recall     (AR) @[ IoU=0.50:0.95 | area=   all | maxDets=  1 ] = 0.000\n",
            " Average Recall     (AR) @[ IoU=0.50:0.95 | area=   all | maxDets= 10 ] = 0.000\n",
            " Average Recall     (AR) @[ IoU=0.50:0.95 | area=   all | maxDets=100 ] = 0.000\n",
            " Average Recall     (AR) @[ IoU=0.50:0.95 | area= small | maxDets=100 ] = -1.000\n",
            " Average Recall     (AR) @[ IoU=0.50:0.95 | area=medium | maxDets=100 ] = -1.000\n",
            " Average Recall     (AR) @[ IoU=0.50:0.95 | area= large | maxDets=100 ] = 0.000\n"
          ],
          "name": "stdout"
        }
      ]
    },
    {
      "cell_type": "code",
      "metadata": {
        "id": "0c3fJk2ArkzC"
      },
      "source": [
        "# pick one image from the test set\n",
        "img, _ = dataset_test[0]\n",
        "# put the model in evaluation mode\n",
        "model.eval()\n",
        "with torch.no_grad():\n",
        "    prediction = model([img.to(device)])"
      ],
      "execution_count": 12,
      "outputs": []
    },
    {
      "cell_type": "code",
      "metadata": {
        "colab": {
          "base_uri": "https://localhost:8080/",
          "height": 269
        },
        "id": "A5gNHfqMrKiz",
        "outputId": "d577a83f-b317-4a41-a8a5-1f503a0c6b3f"
      },
      "source": [
        "img1 = Image.fromarray(img.mul(255).permute(1, 2, 0).byte().numpy())\n",
        "\n",
        "plt.imshow(img1)\n",
        "ax = plt.gca()\n",
        "ax.grid(True, color='r', linestyle='--')\n",
        "plt.draw()\n",
        "plt.show()"
      ],
      "execution_count": 13,
      "outputs": [
        {
          "output_type": "display_data",
          "data": {
            "image/png": "[encoded data removed]",
            "text/plain": [
              "<Figure size 432x288 with 1 Axes>"
            ]
          },
          "metadata": {
            "tags": [],
            "needs_background": "light"
          }
        }
      ]
    },
    {
      "cell_type": "code",
      "metadata": {
        "colab": {
          "base_uri": "https://localhost:8080/",
          "height": 269
        },
        "id": "U6KczHdhrS6K",
        "outputId": "d71b4401-7e6f-4c6e-a530-406983fba75c"
      },
      "source": [
        "pred1 = Image.fromarray(prediction[0]['masks'][0, 0].mul(255).byte().cpu().numpy())\n",
        "\n",
        "plt.imshow(pred1)\n",
        "ax = plt.gca()\n",
        "ax.grid(True, color='w', linestyle='--')\n",
        "plt.draw()\n",
        "plt.show()"
      ],
      "execution_count": 14,
      "outputs": [
        {
          "output_type": "display_data",
          "data": {
            "image/png": "[encoded data removed]",
            "text/plain": [
              "<Figure size 432x288 with 1 Axes>"
            ]
          },
          "metadata": {
            "tags": [],
            "needs_background": "light"
          }
        }
      ]
    },
    {
      "cell_type": "code",
      "metadata": {
        "colab": {
          "base_uri": "https://localhost:8080/",
          "height": 269
        },
        "id": "VIZbKdhewfIN",
        "outputId": "46db5c10-4497-4f9c-e9e1-c45025a1a0e5"
      },
      "source": [
        "pred1 = Image.fromarray(prediction[0]['masks'][1, 0].mul(255).byte().cpu().numpy())\n",
        "\n",
        "plt.imshow(pred1)\n",
        "ax = plt.gca()\n",
        "ax.grid(True, color='w', linestyle='--')\n",
        "plt.draw()\n",
        "plt.show()"
      ],
      "execution_count": 15,
      "outputs": [
        {
          "output_type": "display_data",
          "data": {
            "image/png": "[encoded data removed]",
            "text/plain": [
              "<Figure size 432x288 with 1 Axes>"
            ]
          },
          "metadata": {
            "tags": [],
            "needs_background": "light"
          }
        }
      ]
    },
    {
      "cell_type": "code",
      "metadata": {
        "colab": {
          "base_uri": "https://localhost:8080/",
          "height": 269
        },
        "id": "amNbEZQ04rW6",
        "outputId": "39d38dee-b0f1-41fd-daf1-94e0862ba733"
      },
      "source": [
        "pred1 = Image.fromarray(prediction[0]['masks'][2, 0].mul(255).byte().cpu().numpy())\n",
        "\n",
        "plt.imshow(pred1)\n",
        "ax = plt.gca()\n",
        "ax.grid(True, color='w', linestyle='--')\n",
        "plt.draw()\n",
        "plt.show()"
      ],
      "execution_count": 16,
      "outputs": [
        {
          "output_type": "display_data",
          "data": {
            "image/png": "[encoded data removed]",
            "text/plain": [
              "<Figure size 432x288 with 1 Axes>"
            ]
          },
          "metadata": {
            "tags": [],
            "needs_background": "light"
          }
        }
      ]
    },
    {
      "cell_type": "code",
      "metadata": {
        "colab": {
          "base_uri": "https://localhost:8080/",
          "height": 269
        },
        "id": "zuvdrGMr4rnR",
        "outputId": "d0118439-bb84-4d2d-ca54-3efbfe673076"
      },
      "source": [
        "pred1 = Image.fromarray(prediction[0]['masks'][3, 0].mul(255).byte().cpu().numpy())\n",
        "\n",
        "plt.imshow(pred1)\n",
        "ax = plt.gca()\n",
        "ax.grid(True, color='w', linestyle='--')\n",
        "plt.draw()\n",
        "plt.show()"
      ],
      "execution_count": 17,
      "outputs": [
        {
          "output_type": "display_data",
          "data": {
            "image/png": "[encoded data removed]",
            "text/plain": [
              "<Figure size 432x288 with 1 Axes>"
            ]
          },
          "metadata": {
            "tags": [],
            "needs_background": "light"
          }
        }
      ]
    }
  ]
}