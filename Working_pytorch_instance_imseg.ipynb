{
  "nbformat": 4,
  "nbformat_minor": 0,
  "metadata": {
    "colab": {
      "name": "Working_pytorch_instance_imseg.ipynb",
      "provenance": [],
      "collapsed_sections": [],
      "authorship_tag": "ABX9TyMfO7HF5mpUExdiPj9L3z4I",
      "include_colab_link": true
    },
    "kernelspec": {
      "name": "python3",
      "display_name": "Python 3"
    },
    "language_info": {
      "name": "python"
    },
    "accelerator": "GPU",
    "widgets": {
      "application/vnd.jupyter.widget-state+json": {
        "e6daf0be53cf43b882d6d2a88d610ff6": {
          "model_module": "@jupyter-widgets/controls",
          "model_name": "HBoxModel",
          "state": {
            "_view_name": "HBoxView",
            "_dom_classes": [],
            "_model_name": "HBoxModel",
            "_view_module": "@jupyter-widgets/controls",
            "_model_module_version": "1.5.0",
            "_view_count": null,
            "_view_module_version": "1.5.0",
            "box_style": "",
            "layout": "IPY_MODEL_e630b65492ea478590c49917936ed3db",
            "_model_module": "@jupyter-widgets/controls",
            "children": [
              "IPY_MODEL_6cb7a9748181457bb646f741c9e9d7e4",
              "IPY_MODEL_fa3387b9256e45fdbb40d1d5766148b2"
            ]
          }
        },
        "e32fe7025b9042018073818b6228b5d9": {
          "model_module": "@jupyter-widgets/controls",
          "model_name": "HBoxModel",
          "state": {
            "_view_name": "HBoxView",
            "_dom_classes": [],
            "_model_name": "HBoxModel",
            "_view_module": "@jupyter-widgets/controls",
            "_model_module_version": "1.5.0",
            "_view_count": null,
            "_view_module_version": "1.5.0",
            "box_style": "",
            "layout": "IPY_MODEL_3155131c63cb4ceb9574ba491af798dd",
            "_model_module": "@jupyter-widgets/controls",
            "children": [
              "IPY_MODEL_b6e45fd752b0443e89c561350a70c139",
              "IPY_MODEL_315fb5ed40a44fbbb7a4ba265b55e198"
            ]
          }
        }
      }
    }
  },
  "cells": [
    {
      "cell_type": "markdown",
      "metadata": {
        "id": "view-in-github",
        "colab_type": "text"
      },
      "source": [
        "<a href=\"https://colab.research.google.com/github/ncsu-landscape-dynamics/LAMP_assay_automation/blob/main/Working_pytorch_instance_imseg.ipynb\" target=\"_parent\"><img src=\"https://colab.research.google.com/assets/colab-badge.svg\" alt=\"Open In Colab\"/></a>"
      ]
    },
    {
      "cell_type": "code",
      "metadata": {
        "colab": {
          "base_uri": "https://localhost:8080/"
        },
        "id": "thyNLvhjnN4e",
        "outputId": "cb7312f1-9e5e-460f-bd8a-2e297e7f8573"
      },
      "source": [
        "# https://pytorch.org/tutorials/intermediate/torchvision_tutorial.html\n",
        "\n",
        "import os\n",
        "import numpy as np\n",
        "import torch\n",
        "import torch.utils.data\n",
        "from PIL import Image\n",
        "import matplotlib.pyplot as plt\n",
        "import matplotlib.image as mpimg\n",
        "\n",
        "from google.colab import drive\n",
        "drive.mount('/content/drive', force_remount=True)\n",
        "\n",
        "class four_chs(torch.utils.data.Dataset):\n",
        "    def __init__(self, root, transforms=None, target_transform=None):\n",
        "        self.root = root\n",
        "        self.transforms = transforms\n",
        "        self.target_transform = target_transform\n",
        "        # load all image files, sorting them to\n",
        "        # ensure that they are aligned\n",
        "        self.imgs = list(sorted(os.listdir(os.path.join(root, \"imgs\"))))\n",
        "        self.masks = list(sorted(os.listdir(os.path.join(root, \"masks\"))))\n",
        "\n",
        "    def __getitem__(self, idx):\n",
        "        # load images ad masks\n",
        "        img_path = os.path.join(self.root, \"imgs\", self.imgs[idx])\n",
        "        mask_path = os.path.join(self.root, \"masks\", self.masks[idx])\n",
        "        img = Image.open(img_path).convert(\"RGB\")\n",
        "        # note that we haven't converted the mask to RGB,\n",
        "        # because each color corresponds to a different instance\n",
        "        # with 0 being background\n",
        "        mask = Image.open(mask_path)\n",
        "\n",
        "        # Convert from image object to array\n",
        "        mask = np.array(mask)\n",
        "        \n",
        "        obj_ids = np.unique(mask)\n",
        "        # first is background, other values are noise, removed them\n",
        "        obj_ids = obj_ids[-4:]\n",
        "\n",
        "        # split the color-encoded mask into a set\n",
        "        # of binary masks\n",
        "        masks = mask == obj_ids[:, None, None]\n",
        "\n",
        "        # get bounding box coordinates for each mask\n",
        "        num_objs = len(obj_ids)\n",
        "        boxes = []\n",
        "        for i in range(num_objs):\n",
        "            pos = np.where(masks[i])\n",
        "            xmin = np.min(pos[1])\n",
        "            xmax = np.max(pos[1])\n",
        "            ymin = np.min(pos[0])\n",
        "            ymax = np.max(pos[0])\n",
        "            boxes.append([xmin, ymin, xmax, ymax])\n",
        "\n",
        "        boxes = torch.as_tensor(boxes, dtype=torch.float32)\n",
        "        # there is only one class\n",
        "        labels = torch.ones((num_objs,), dtype=torch.int64)\n",
        "        masks = torch.as_tensor(masks, dtype=torch.uint8)\n",
        "\n",
        "        image_id = torch.tensor([idx])\n",
        "        area = (boxes[:, 3] - boxes[:, 1]) * (boxes[:, 2] - boxes[:, 0])\n",
        "        # suppose all instances are not crowd\n",
        "        iscrowd = torch.zeros((num_objs,), dtype=torch.int64)\n",
        "\n",
        "        target = {}\n",
        "        target[\"boxes\"] = boxes\n",
        "        target[\"labels\"] = labels\n",
        "        target[\"masks\"] = masks\n",
        "        target[\"image_id\"] = image_id\n",
        "        target[\"area\"] = area\n",
        "        target[\"iscrowd\"] = iscrowd\n",
        "\n",
        "        if self.transforms is not None:\n",
        "            img, target = self.transforms(img, target)\n",
        "\n",
        "        return img, target\n",
        "\n",
        "    def __len__(self):\n",
        "        return len(self.imgs)"
      ],
      "execution_count": 1,
      "outputs": [
        {
          "output_type": "stream",
          "text": [
            "Mounted at /content/drive\n"
          ],
          "name": "stdout"
        }
      ]
    },
    {
      "cell_type": "code",
      "metadata": {
        "id": "ASZUhOClbBgs",
        "colab": {
          "base_uri": "https://localhost:8080/"
        },
        "outputId": "87d9d867-e147-48d7-91c7-444c078e81d0"
      },
      "source": [
        "#os.chdir('drive/MyDrive/Colab Notebooks')\n",
        "\n",
        "%%shell\n",
        "\n",
        "# Download TorchVision repo to use some files from\n",
        "# references/detection\n",
        "git clone https://github.com/pytorch/vision.git\n",
        "cd vision\n",
        "git checkout v0.3.0\n",
        "\n",
        "cp references/detection/utils.py ../\n",
        "cp references/detection/transforms.py ../\n",
        "cp references/detection/coco_eval.py ../\n",
        "cp references/detection/engine.py ../\n",
        "cp references/detection/coco_utils.py ../"
      ],
      "execution_count": 2,
      "outputs": [
        {
          "output_type": "stream",
          "text": [
            "Cloning into 'vision'...\n",
            "remote: Enumerating objects: 29023, done.\u001b[K\n",
            "remote: Counting objects: 100% (1566/1566), done.\u001b[K\n",
            "remote: Compressing objects: 100% (421/421), done.\u001b[K\n",
            "remote: Total 29023 (delta 1154), reused 1502 (delta 1116), pack-reused 27457\u001b[K\n",
            "Receiving objects: 100% (29023/29023), 37.29 MiB | 21.66 MiB/s, done.\n",
            "Resolving deltas: 100% (21770/21770), done.\n",
            "Note: checking out 'v0.3.0'.\n",
            "\n",
            "You are in 'detached HEAD' state. You can look around, make experimental\n",
            "changes and commit them, and you can discard any commits you make in this\n",
            "state without impacting any branches by performing another checkout.\n",
            "\n",
            "If you want to create a new branch to retain commits you create, you may\n",
            "do so (now or later) by using -b with the checkout command again. Example:\n",
            "\n",
            "  git checkout -b <new-branch-name>\n",
            "\n",
            "HEAD is now at be376084 version check against PyTorch's CUDA version\n"
          ],
          "name": "stdout"
        },
        {
          "output_type": "execute_result",
          "data": {
            "text/plain": [
              ""
            ]
          },
          "metadata": {
            "tags": []
          },
          "execution_count": 2
        }
      ]
    },
    {
      "cell_type": "code",
      "metadata": {
        "id": "1tX1QjxcShEu"
      },
      "source": [
        "# Allison: you may have to change this link. \n",
        "# The directory is available in the Google Drive I share with you.\n",
        "dataset0 = four_chs(root=\"/content/drive/MyDrive/APHIS Farm Bill (2020Milestones)/Protocols/For John/images/New set for John/collection/four_chambers\")"
      ],
      "execution_count": null,
      "outputs": []
    },
    {
      "cell_type": "code",
      "metadata": {
        "id": "uC00k1lQyZ7v",
        "colab": {
          "base_uri": "https://localhost:8080/"
        },
        "outputId": "599326c9-45d3-4961-bcac-69797d285aca"
      },
      "source": [
        "dataset0[0]"
      ],
      "execution_count": null,
      "outputs": [
        {
          "output_type": "execute_result",
          "data": {
            "text/plain": [
              "(<PIL.Image.Image image mode=RGB size=2988x5312 at 0x7F5BD2492890>,\n",
              " {'area': tensor([226527., 216648., 219960., 210220.]),\n",
              "  'boxes': tensor([[ 789., 2775., 1258., 3258.],\n",
              "          [ 819., 1985., 1278., 2457.],\n",
              "          [1573., 2006., 2041., 2476.],\n",
              "          [1594., 2747., 2054., 3204.]]),\n",
              "  'image_id': tensor([0]),\n",
              "  'iscrowd': tensor([0, 0, 0, 0]),\n",
              "  'labels': tensor([1, 1, 1, 1]),\n",
              "  'masks': tensor([[[0, 0, 0,  ..., 0, 0, 0],\n",
              "           [0, 0, 0,  ..., 0, 0, 0],\n",
              "           [0, 0, 0,  ..., 0, 0, 0],\n",
              "           ...,\n",
              "           [0, 0, 0,  ..., 0, 0, 0],\n",
              "           [0, 0, 0,  ..., 0, 0, 0],\n",
              "           [0, 0, 0,  ..., 0, 0, 0]],\n",
              "  \n",
              "          [[0, 0, 0,  ..., 0, 0, 0],\n",
              "           [0, 0, 0,  ..., 0, 0, 0],\n",
              "           [0, 0, 0,  ..., 0, 0, 0],\n",
              "           ...,\n",
              "           [0, 0, 0,  ..., 0, 0, 0],\n",
              "           [0, 0, 0,  ..., 0, 0, 0],\n",
              "           [0, 0, 0,  ..., 0, 0, 0]],\n",
              "  \n",
              "          [[0, 0, 0,  ..., 0, 0, 0],\n",
              "           [0, 0, 0,  ..., 0, 0, 0],\n",
              "           [0, 0, 0,  ..., 0, 0, 0],\n",
              "           ...,\n",
              "           [0, 0, 0,  ..., 0, 0, 0],\n",
              "           [0, 0, 0,  ..., 0, 0, 0],\n",
              "           [0, 0, 0,  ..., 0, 0, 0]],\n",
              "  \n",
              "          [[0, 0, 0,  ..., 0, 0, 0],\n",
              "           [0, 0, 0,  ..., 0, 0, 0],\n",
              "           [0, 0, 0,  ..., 0, 0, 0],\n",
              "           ...,\n",
              "           [0, 0, 0,  ..., 0, 0, 0],\n",
              "           [0, 0, 0,  ..., 0, 0, 0],\n",
              "           [0, 0, 0,  ..., 0, 0, 0]]], dtype=torch.uint8)})"
            ]
          },
          "metadata": {
            "tags": []
          },
          "execution_count": 39
        }
      ]
    },
    {
      "cell_type": "code",
      "metadata": {
        "id": "9npNTUA7xmRe",
        "colab": {
          "base_uri": "https://localhost:8080/",
          "height": 74,
          "referenced_widgets": [
            "e6daf0be53cf43b882d6d2a88d610ff6"
          ]
        },
        "outputId": "a928b5a7-1a5d-4dd5-a7f4-754cdffc9caf"
      },
      "source": [
        "import torchvision\n",
        "from torchvision.models.detection.faster_rcnn import FastRCNNPredictor\n",
        " \n",
        "# load a model pre-trained pre-trained on COCO\n",
        "model = torchvision.models.detection.fasterrcnn_resnet50_fpn(pretrained=True)\n",
        " \n",
        "# replace the classifier with a new one, that has\n",
        "# num_classes which is user-defined\n",
        "num_classes = 2  # 1 class (person) + background\n",
        "# get number of input features for the classifier\n",
        "in_features = model.roi_heads.box_predictor.cls_score.in_features\n",
        "# replace the pre-trained head with a new one\n",
        "model.roi_heads.box_predictor = FastRCNNPredictor(in_features, num_classes) "
      ],
      "execution_count": 3,
      "outputs": [
        {
          "output_type": "stream",
          "text": [
            "Downloading: \"https://download.pytorch.org/models/fasterrcnn_resnet50_fpn_coco-258fb6c6.pth\" to /root/.cache/torch/hub/checkpoints/fasterrcnn_resnet50_fpn_coco-258fb6c6.pth\n"
          ],
          "name": "stderr"
        },
        {
          "output_type": "display_data",
          "data": {
            "application/vnd.jupyter.widget-view+json": {
              "model_id": "e6daf0be53cf43b882d6d2a88d610ff6",
              "version_minor": 0,
              "version_major": 2
            },
            "text/plain": [
              "HBox(children=(FloatProgress(value=0.0, max=167502836.0), HTML(value='')))"
            ]
          },
          "metadata": {
            "tags": []
          }
        },
        {
          "output_type": "stream",
          "text": [
            "\n"
          ],
          "name": "stdout"
        }
      ]
    },
    {
      "cell_type": "code",
      "metadata": {
        "id": "iBUwqXo4MpAw"
      },
      "source": [
        "import torchvision\n",
        "from torchvision.models.detection.faster_rcnn import FastRCNNPredictor\n",
        "from torchvision.models.detection.mask_rcnn import MaskRCNNPredictor\n",
        "\n",
        "\n",
        "def get_model_instance_segmentation(num_classes):\n",
        "    # load an instance segmentation model pre-trained pre-trained on COCO\n",
        "    model = torchvision.models.detection.maskrcnn_resnet50_fpn(pretrained=True)\n",
        "\n",
        "    # get number of input features for the classifier\n",
        "    in_features = model.roi_heads.box_predictor.cls_score.in_features\n",
        "    # replace the pre-trained head with a new one\n",
        "    model.roi_heads.box_predictor = FastRCNNPredictor(in_features, num_classes)\n",
        "\n",
        "    # now get the number of input features for the mask classifier\n",
        "    in_features_mask = model.roi_heads.mask_predictor.conv5_mask.in_channels\n",
        "    hidden_layer = 256\n",
        "    # and replace the mask predictor with a new one\n",
        "    model.roi_heads.mask_predictor = MaskRCNNPredictor(in_features_mask,\n",
        "                                                       hidden_layer,\n",
        "                                                       num_classes)\n",
        "\n",
        "    return model"
      ],
      "execution_count": 4,
      "outputs": []
    },
    {
      "cell_type": "code",
      "metadata": {
        "id": "TP1ebz8PUi7J"
      },
      "source": [
        "from engine import train_one_epoch, evaluate\n",
        "import utils\n",
        "import transforms as T\n",
        "\n",
        "\n",
        "def get_transform(train):\n",
        "    transforms = []\n",
        "    # converts the image, a PIL image, into a PyTorch Tensor\n",
        "    transforms.append(T.ToTensor())\n",
        "    if train:\n",
        "        # during training, randomly flip the training images\n",
        "        # and ground-truth for data augmentation\n",
        "        transforms.append(T.RandomHorizontalFlip(0.5))\n",
        "    return T.Compose(transforms)"
      ],
      "execution_count": 5,
      "outputs": []
    },
    {
      "cell_type": "code",
      "metadata": {
        "id": "lcMjjCY4_zOf",
        "colab": {
          "base_uri": "https://localhost:8080/"
        },
        "outputId": "8633851b-dbc0-4ccd-bb8d-adb2d9bf87cc"
      },
      "source": [
        "model = torchvision.models.detection.fasterrcnn_resnet50_fpn(pretrained=True)\n",
        "dataset = four_chs(root = '/content/drive/MyDrive/APHIS Farm Bill (2020Milestones)/Protocols/For John/images/New set for John/collection/four_chambers', transforms = get_transform(train=True))    \n",
        "data_loader = torch.utils.data.DataLoader(\n",
        " dataset, batch_size=1, shuffle=True, num_workers=2,\n",
        " collate_fn=utils.collate_fn)\n",
        "# For Training\n",
        "images,targets = next(iter(data_loader))\n",
        "images = list(image for image in images)\n",
        "targets = [{k: v for k, v in t.items()} for t in targets]\n",
        "output = model(images,targets)   # Returns losses and detections\n",
        "# For inference\n",
        "model.eval()\n",
        "x = [torch.rand(3, 300, 400), torch.rand(3, 500, 400)]\n",
        "predictions = model(x)          "
      ],
      "execution_count": 6,
      "outputs": [
        {
          "output_type": "stream",
          "text": [
            "/usr/local/lib/python3.7/dist-packages/torch/nn/functional.py:718: UserWarning: Named tensors and all their associated APIs are an experimental feature and subject to change. Please do not use them for anything important until they are released as stable. (Triggered internally at  /pytorch/c10/core/TensorImpl.h:1156.)\n",
            "  return torch.max_pool2d(input, kernel_size, stride, padding, dilation, ceil_mode)\n"
          ],
          "name": "stderr"
        }
      ]
    },
    {
      "cell_type": "code",
      "metadata": {
        "id": "T4BoIh1gz6xk"
      },
      "source": [
        "# use our dataset and defined transformations\n",
        "dataset = four_chs(root = '/content/drive/MyDrive/APHIS Farm Bill (2020Milestones)/Protocols/For John/images/New set for John/collection/four_chambers', transforms = get_transform(train=True))\n",
        "dataset_test = four_chs(root = '/content/drive/MyDrive/APHIS Farm Bill (2020Milestones)/Protocols/For John/images/New set for John/collection/four_chambers', transforms = get_transform(train=False))\n",
        "\n",
        "# split the dataset in train and test set\n",
        "torch.manual_seed(1)\n",
        "indices = torch.randperm(len(dataset)).tolist()\n",
        "dataset = torch.utils.data.Subset(dataset, indices[:-4])\n",
        "dataset_test = torch.utils.data.Subset(dataset_test, indices[-4:])\n",
        "\n",
        "# define training and validation data loaders\n",
        "data_loader = torch.utils.data.DataLoader(\n",
        "    dataset, batch_size=1, shuffle=True, num_workers=2,\n",
        "    collate_fn=utils.collate_fn)\n",
        "\n",
        "data_loader_test = torch.utils.data.DataLoader(\n",
        "    dataset_test, batch_size=1, shuffle=False, num_workers=2,\n",
        "    collate_fn=utils.collate_fn)"
      ],
      "execution_count": 7,
      "outputs": []
    },
    {
      "cell_type": "code",
      "metadata": {
        "id": "6kwig7t_rjcT",
        "colab": {
          "base_uri": "https://localhost:8080/",
          "height": 74,
          "referenced_widgets": [
            "e32fe7025b9042018073818b6228b5d9"
          ]
        },
        "outputId": "4cbcf879-e193-4ec8-8bcf-800488781079"
      },
      "source": [
        "device = torch.device('cuda') if torch.cuda.is_available() else torch.device('cpu')\n",
        "\n",
        "# our dataset has five classes\n",
        "num_classes = 2\n",
        "\n",
        "# get the model using our helper function\n",
        "model = get_model_instance_segmentation(num_classes)\n",
        "# move model to the right device\n",
        "model.to(device)\n",
        "\n",
        "# construct an optimizer\n",
        "params = [p for p in model.parameters() if p.requires_grad]\n",
        "optimizer = torch.optim.SGD(params, lr=0.005,\n",
        "                            momentum=0.9, weight_decay=0.0005)\n",
        "\n",
        "# and a learning rate scheduler which decreases the learning rate by\n",
        "# 10x every 3 epochs\n",
        "lr_scheduler = torch.optim.lr_scheduler.StepLR(optimizer,\n",
        "                                               step_size=3,\n",
        "                                               gamma=0.1)"
      ],
      "execution_count": 8,
      "outputs": [
        {
          "output_type": "stream",
          "text": [
            "Downloading: \"https://download.pytorch.org/models/maskrcnn_resnet50_fpn_coco-bf2d0c1e.pth\" to /root/.cache/torch/hub/checkpoints/maskrcnn_resnet50_fpn_coco-bf2d0c1e.pth\n"
          ],
          "name": "stderr"
        },
        {
          "output_type": "display_data",
          "data": {
            "application/vnd.jupyter.widget-view+json": {
              "model_id": "e32fe7025b9042018073818b6228b5d9",
              "version_minor": 0,
              "version_major": 2
            },
            "text/plain": [
              "HBox(children=(FloatProgress(value=0.0, max=178090079.0), HTML(value='')))"
            ]
          },
          "metadata": {
            "tags": []
          }
        },
        {
          "output_type": "stream",
          "text": [
            "\n"
          ],
          "name": "stdout"
        }
      ]
    },
    {
      "cell_type": "code",
      "metadata": {
        "colab": {
          "base_uri": "https://localhost:8080/"
        },
        "id": "nJRofw-Lrsc2",
        "outputId": "6431b3cd-e475-49c2-a6c2-c5f82ddf3403"
      },
      "source": [
        "# let's train it for 10 epochs\n",
        "num_epochs = 2\n",
        "\n",
        "for epoch in range(num_epochs):\n",
        "    # train for one epoch, printing every 10 iterations\n",
        "    train_one_epoch(model, optimizer, data_loader, device, epoch, print_freq=10)\n",
        "    # update the learning rate\n",
        "    lr_scheduler.step()\n",
        "    # evaluate on the test dataset\n",
        "    evaluate(model, data_loader_test, device=device)"
      ],
      "execution_count": null,
      "outputs": [
        {
          "output_type": "stream",
          "text": [
            "Epoch: [0]  [ 0/20]  eta: 0:00:54  lr: 0.000268  loss: 6.5638 (6.5638)  loss_classifier: 0.4763 (0.4763)  loss_box_reg: 0.4402 (0.4402)  loss_mask: 5.6222 (5.6222)  loss_objectness: 0.0232 (0.0232)  loss_rpn_box_reg: 0.0018 (0.0018)  time: 2.7182  data: 1.9132  max mem: 1612\n",
            "Epoch: [0]  [10/20]  eta: 0:00:15  lr: 0.002897  loss: 1.5348 (2.6699)  loss_classifier: 0.3315 (0.3452)  loss_box_reg: 0.3282 (0.3380)  loss_mask: 0.7567 (1.9166)  loss_objectness: 0.0326 (0.0668)  loss_rpn_box_reg: 0.0030 (0.0033)  time: 1.5313  data: 1.0986  max mem: 1885\n",
            "Epoch: [0]  [19/20]  eta: 0:00:01  lr: 0.005000  loss: 1.2687 (1.9584)  loss_classifier: 0.2378 (0.2820)  loss_box_reg: 0.1920 (0.2633)  loss_mask: 0.6499 (1.3445)  loss_objectness: 0.0385 (0.0612)  loss_rpn_box_reg: 0.0038 (0.0075)  time: 1.4944  data: 1.0737  max mem: 1885\n",
            "Epoch: [0] Total time: 0:00:29 (1.4998 s / it)\n",
            "creating index...\n",
            "index created!\n"
          ],
          "name": "stdout"
        }
      ]
    },
    {
      "cell_type": "code",
      "metadata": {
        "id": "EWCg-bNK_h6q"
      },
      "source": [
        "train_one_epoch(model, optimizer, data_loader, device, epoch, print_freq=10)"
      ],
      "execution_count": null,
      "outputs": []
    },
    {
      "cell_type": "code",
      "metadata": {
        "id": "ZI4R-L1h020p",
        "colab": {
          "base_uri": "https://localhost:8080/"
        },
        "outputId": "5351f687-1e0b-44bf-dc0e-2d2da261c296"
      },
      "source": [
        "type(dataset)"
      ],
      "execution_count": null,
      "outputs": [
        {
          "output_type": "execute_result",
          "data": {
            "text/plain": [
              "torch.utils.data.dataset.Subset"
            ]
          },
          "metadata": {
            "tags": []
          },
          "execution_count": 10
        }
      ]
    },
    {
      "cell_type": "code",
      "metadata": {
        "id": "0c3fJk2ArkzC"
      },
      "source": [
        "# pick one image from the test set\n",
        "img, _ = dataset_test[0]\n",
        "# put the model in evaluation mode\n",
        "model.eval()\n",
        "with torch.no_grad():\n",
        "    prediction = model([img.to(device)])"
      ],
      "execution_count": null,
      "outputs": []
    }
  ]
}