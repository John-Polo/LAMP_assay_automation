{
  "nbformat": 4,
  "nbformat_minor": 0,
  "metadata": {
    "colab": {
      "name": "MaskRCNN_2nd.ipynb",
      "provenance": [],
      "collapsed_sections": [],
      "authorship_tag": "ABX9TyN5Um8EmPJTPgZIpgVHduty",
      "include_colab_link": true
    },
    "kernelspec": {
      "name": "python3",
      "display_name": "Python 3"
    },
    "language_info": {
      "name": "python"
    }
  },
  "cells": [
    {
      "cell_type": "markdown",
      "metadata": {
        "id": "view-in-github",
        "colab_type": "text"
      },
      "source": [
        "<a href=\"https://colab.research.google.com/github/ncsu-landscape-dynamics/LAMP_assay_automation/blob/main/MaskRCNN_2nd.ipynb\" target=\"_parent\"><img src=\"https://colab.research.google.com/assets/colab-badge.svg\" alt=\"Open In Colab\"/></a>"
      ]
    },
    {
      "cell_type": "code",
      "metadata": {
        "id": "ysC7PKP3TaVp"
      },
      "source": [
        "#https://towardsdatascience.com/mask-rcnn-implementation-on-a-custom-dataset-fd9a878123d4"
      ],
      "execution_count": null,
      "outputs": []
    },
    {
      "cell_type": "code",
      "metadata": {
        "colab": {
          "base_uri": "https://localhost:8080/"
        },
        "id": "ZhmreoGH8ZmX",
        "outputId": "c3ce3992-3f64-4a5a-8570-df9d1ec1937a"
      },
      "source": [
        "from google.colab import drive\n",
        "drive.mount('/content/drive', force_remount=True)"
      ],
      "execution_count": 1,
      "outputs": [
        {
          "output_type": "stream",
          "text": [
            "Mounted at /content/drive\n"
          ],
          "name": "stdout"
        }
      ]
    },
    {
      "cell_type": "code",
      "metadata": {
        "id": "Tc-cXv9Z6Y9f"
      },
      "source": [
        "#!git clone --quiet https://github.com/John-Polo/Mask_RCNN.git"
      ],
      "execution_count": null,
      "outputs": []
    },
    {
      "cell_type": "code",
      "metadata": {
        "id": "WS9k2DIwOmEb"
      },
      "source": [
        "!git clone --quiet https://github.com/matterport/Mask_RCNN.git"
      ],
      "execution_count": 2,
      "outputs": []
    },
    {
      "cell_type": "code",
      "metadata": {
        "id": "INOZYFr7LKuL",
        "colab": {
          "base_uri": "https://localhost:8080/"
        },
        "outputId": "486b18eb-d55c-41e9-d8b7-52d47227c46d"
      },
      "source": [
        "#!rm -r /content/Mask_RCNN/"
      ],
      "execution_count": 2,
      "outputs": [
        {
          "output_type": "stream",
          "text": [
            "rm: cannot remove '/content/Mask_RCNN/': No such file or directory\n"
          ],
          "name": "stdout"
        }
      ]
    },
    {
      "cell_type": "code",
      "metadata": {
        "id": "VMM1Trjc9BXQ",
        "colab": {
          "base_uri": "https://localhost:8080/"
        },
        "outputId": "40806b3a-6fea-4bb7-a41b-614ce4a448be"
      },
      "source": [
        "%cd /content/Mask_RCNN\n",
        "!pip install -q PyDrive\n",
        "!pip install -r requirements.txt\n",
        "!python setup.py install"
      ],
      "execution_count": 2,
      "outputs": [
        {
          "output_type": "stream",
          "text": [
            "/content/Mask_RCNN\n",
            "Requirement already satisfied: numpy in /usr/local/lib/python3.7/dist-packages (from -r requirements.txt (line 1)) (1.19.5)\n",
            "Requirement already satisfied: scipy in /usr/local/lib/python3.7/dist-packages (from -r requirements.txt (line 2)) (1.4.1)\n",
            "Requirement already satisfied: Pillow in /usr/local/lib/python3.7/dist-packages (from -r requirements.txt (line 3)) (7.1.2)\n",
            "Requirement already satisfied: cython in /usr/local/lib/python3.7/dist-packages (from -r requirements.txt (line 4)) (0.29.23)\n",
            "Requirement already satisfied: matplotlib in /usr/local/lib/python3.7/dist-packages (from -r requirements.txt (line 5)) (3.2.2)\n",
            "Requirement already satisfied: scikit-image in /usr/local/lib/python3.7/dist-packages (from -r requirements.txt (line 6)) (0.16.2)\n",
            "Requirement already satisfied: tensorflow>=1.3.0 in /usr/local/lib/python3.7/dist-packages (from -r requirements.txt (line 7)) (1.15.0)\n",
            "Requirement already satisfied: keras>=2.0.8 in /usr/local/lib/python3.7/dist-packages (from -r requirements.txt (line 8)) (2.1.6)\n",
            "Requirement already satisfied: opencv-python in /usr/local/lib/python3.7/dist-packages (from -r requirements.txt (line 9)) (4.1.2.30)\n",
            "Requirement already satisfied: h5py in /usr/local/lib/python3.7/dist-packages (from -r requirements.txt (line 10)) (2.10.0)\n",
            "Requirement already satisfied: imgaug in /usr/local/lib/python3.7/dist-packages (from -r requirements.txt (line 11)) (0.2.9)\n",
            "Requirement already satisfied: IPython[all] in /usr/local/lib/python3.7/dist-packages (from -r requirements.txt (line 12)) (5.5.0)\n",
            "Requirement already satisfied: pyparsing!=2.0.4,!=2.1.2,!=2.1.6,>=2.0.1 in /usr/local/lib/python3.7/dist-packages (from matplotlib->-r requirements.txt (line 5)) (2.4.7)\n",
            "Requirement already satisfied: kiwisolver>=1.0.1 in /usr/local/lib/python3.7/dist-packages (from matplotlib->-r requirements.txt (line 5)) (1.3.1)\n",
            "Requirement already satisfied: python-dateutil>=2.1 in /usr/local/lib/python3.7/dist-packages (from matplotlib->-r requirements.txt (line 5)) (2.8.1)\n",
            "Requirement already satisfied: cycler>=0.10 in /usr/local/lib/python3.7/dist-packages (from matplotlib->-r requirements.txt (line 5)) (0.10.0)\n",
            "Requirement already satisfied: networkx>=2.0 in /usr/local/lib/python3.7/dist-packages (from scikit-image->-r requirements.txt (line 6)) (2.5.1)\n",
            "Requirement already satisfied: imageio>=2.3.0 in /usr/local/lib/python3.7/dist-packages (from scikit-image->-r requirements.txt (line 6)) (2.4.1)\n",
            "Requirement already satisfied: PyWavelets>=0.4.0 in /usr/local/lib/python3.7/dist-packages (from scikit-image->-r requirements.txt (line 6)) (1.1.1)\n",
            "Requirement already satisfied: grpcio>=1.8.6 in /usr/local/lib/python3.7/dist-packages (from tensorflow>=1.3.0->-r requirements.txt (line 7)) (1.34.1)\n",
            "Requirement already satisfied: wheel>=0.26 in /usr/local/lib/python3.7/dist-packages (from tensorflow>=1.3.0->-r requirements.txt (line 7)) (0.36.2)\n",
            "Requirement already satisfied: protobuf>=3.6.1 in /usr/local/lib/python3.7/dist-packages (from tensorflow>=1.3.0->-r requirements.txt (line 7)) (3.12.4)\n",
            "Requirement already satisfied: gast==0.2.2 in /usr/local/lib/python3.7/dist-packages (from tensorflow>=1.3.0->-r requirements.txt (line 7)) (0.2.2)\n",
            "Requirement already satisfied: six>=1.10.0 in /usr/local/lib/python3.7/dist-packages (from tensorflow>=1.3.0->-r requirements.txt (line 7)) (1.15.0)\n",
            "Requirement already satisfied: termcolor>=1.1.0 in /usr/local/lib/python3.7/dist-packages (from tensorflow>=1.3.0->-r requirements.txt (line 7)) (1.1.0)\n",
            "Requirement already satisfied: astor>=0.6.0 in /usr/local/lib/python3.7/dist-packages (from tensorflow>=1.3.0->-r requirements.txt (line 7)) (0.8.1)\n",
            "Requirement already satisfied: google-pasta>=0.1.6 in /usr/local/lib/python3.7/dist-packages (from tensorflow>=1.3.0->-r requirements.txt (line 7)) (0.2.0)\n",
            "Requirement already satisfied: tensorboard<1.16.0,>=1.15.0 in /usr/local/lib/python3.7/dist-packages (from tensorflow>=1.3.0->-r requirements.txt (line 7)) (1.15.0)\n",
            "Requirement already satisfied: keras-applications>=1.0.8 in /usr/local/lib/python3.7/dist-packages (from tensorflow>=1.3.0->-r requirements.txt (line 7)) (1.0.8)\n",
            "Requirement already satisfied: tensorflow-estimator==1.15.1 in /usr/local/lib/python3.7/dist-packages (from tensorflow>=1.3.0->-r requirements.txt (line 7)) (1.15.1)\n",
            "Requirement already satisfied: keras-preprocessing>=1.0.5 in /usr/local/lib/python3.7/dist-packages (from tensorflow>=1.3.0->-r requirements.txt (line 7)) (1.1.2)\n",
            "Requirement already satisfied: opt-einsum>=2.3.2 in /usr/local/lib/python3.7/dist-packages (from tensorflow>=1.3.0->-r requirements.txt (line 7)) (3.3.0)\n",
            "Requirement already satisfied: wrapt>=1.11.1 in /usr/local/lib/python3.7/dist-packages (from tensorflow>=1.3.0->-r requirements.txt (line 7)) (1.12.1)\n",
            "Requirement already satisfied: absl-py>=0.7.0 in /usr/local/lib/python3.7/dist-packages (from tensorflow>=1.3.0->-r requirements.txt (line 7)) (0.12.0)\n",
            "Requirement already satisfied: pyyaml in /usr/local/lib/python3.7/dist-packages (from keras>=2.0.8->-r requirements.txt (line 8)) (3.13)\n",
            "Requirement already satisfied: Shapely in /usr/local/lib/python3.7/dist-packages (from imgaug->-r requirements.txt (line 11)) (1.7.1)\n",
            "Requirement already satisfied: setuptools>=18.5 in /usr/local/lib/python3.7/dist-packages (from IPython[all]->-r requirements.txt (line 12)) (57.0.0)\n",
            "Requirement already satisfied: decorator in /usr/local/lib/python3.7/dist-packages (from IPython[all]->-r requirements.txt (line 12)) (4.4.2)\n",
            "Requirement already satisfied: pickleshare in /usr/local/lib/python3.7/dist-packages (from IPython[all]->-r requirements.txt (line 12)) (0.7.5)\n",
            "Requirement already satisfied: simplegeneric>0.8 in /usr/local/lib/python3.7/dist-packages (from IPython[all]->-r requirements.txt (line 12)) (0.8.1)\n",
            "Requirement already satisfied: traitlets>=4.2 in /usr/local/lib/python3.7/dist-packages (from IPython[all]->-r requirements.txt (line 12)) (5.0.5)\n",
            "Requirement already satisfied: pexpect; sys_platform != \"win32\" in /usr/local/lib/python3.7/dist-packages (from IPython[all]->-r requirements.txt (line 12)) (4.8.0)\n",
            "Requirement already satisfied: prompt-toolkit<2.0.0,>=1.0.4 in /usr/local/lib/python3.7/dist-packages (from IPython[all]->-r requirements.txt (line 12)) (1.0.18)\n",
            "Requirement already satisfied: pygments in /usr/local/lib/python3.7/dist-packages (from IPython[all]->-r requirements.txt (line 12)) (2.6.1)\n",
            "Requirement already satisfied: Sphinx>=1.3; extra == \"all\" in /usr/local/lib/python3.7/dist-packages (from IPython[all]->-r requirements.txt (line 12)) (1.8.5)\n",
            "Requirement already satisfied: nbformat; extra == \"all\" in /usr/local/lib/python3.7/dist-packages (from IPython[all]->-r requirements.txt (line 12)) (5.1.3)\n",
            "Requirement already satisfied: testpath; extra == \"all\" in /usr/local/lib/python3.7/dist-packages (from IPython[all]->-r requirements.txt (line 12)) (0.5.0)\n",
            "Requirement already satisfied: ipyparallel; extra == \"all\" in /usr/local/lib/python3.7/dist-packages (from IPython[all]->-r requirements.txt (line 12)) (6.3.0)\n",
            "Requirement already satisfied: nose>=0.10.1; extra == \"all\" in /usr/local/lib/python3.7/dist-packages (from IPython[all]->-r requirements.txt (line 12)) (1.3.7)\n",
            "Requirement already satisfied: nbconvert; extra == \"all\" in /usr/local/lib/python3.7/dist-packages (from IPython[all]->-r requirements.txt (line 12)) (5.6.1)\n",
            "Requirement already satisfied: ipywidgets; extra == \"all\" in /usr/local/lib/python3.7/dist-packages (from IPython[all]->-r requirements.txt (line 12)) (7.6.3)\n",
            "Requirement already satisfied: notebook; extra == \"all\" in /usr/local/lib/python3.7/dist-packages (from IPython[all]->-r requirements.txt (line 12)) (5.3.1)\n",
            "Requirement already satisfied: qtconsole; extra == \"all\" in /usr/local/lib/python3.7/dist-packages (from IPython[all]->-r requirements.txt (line 12)) (5.1.0)\n",
            "Requirement already satisfied: ipykernel; extra == \"all\" in /usr/local/lib/python3.7/dist-packages (from IPython[all]->-r requirements.txt (line 12)) (4.10.1)\n",
            "Requirement already satisfied: requests; extra == \"all\" in /usr/local/lib/python3.7/dist-packages (from IPython[all]->-r requirements.txt (line 12)) (2.23.0)\n",
            "Requirement already satisfied: markdown>=2.6.8 in /usr/local/lib/python3.7/dist-packages (from tensorboard<1.16.0,>=1.15.0->tensorflow>=1.3.0->-r requirements.txt (line 7)) (3.3.4)\n",
            "Requirement already satisfied: werkzeug>=0.11.15 in /usr/local/lib/python3.7/dist-packages (from tensorboard<1.16.0,>=1.15.0->tensorflow>=1.3.0->-r requirements.txt (line 7)) (1.0.1)\n",
            "Requirement already satisfied: ipython-genutils in /usr/local/lib/python3.7/dist-packages (from traitlets>=4.2->IPython[all]->-r requirements.txt (line 12)) (0.2.0)\n",
            "Requirement already satisfied: ptyprocess>=0.5 in /usr/local/lib/python3.7/dist-packages (from pexpect; sys_platform != \"win32\"->IPython[all]->-r requirements.txt (line 12)) (0.7.0)\n",
            "Requirement already satisfied: wcwidth in /usr/local/lib/python3.7/dist-packages (from prompt-toolkit<2.0.0,>=1.0.4->IPython[all]->-r requirements.txt (line 12)) (0.2.5)\n",
            "Requirement already satisfied: babel!=2.0,>=1.3 in /usr/local/lib/python3.7/dist-packages (from Sphinx>=1.3; extra == \"all\"->IPython[all]->-r requirements.txt (line 12)) (2.9.1)\n",
            "Requirement already satisfied: Jinja2>=2.3 in /usr/local/lib/python3.7/dist-packages (from Sphinx>=1.3; extra == \"all\"->IPython[all]->-r requirements.txt (line 12)) (2.11.3)\n",
            "Requirement already satisfied: snowballstemmer>=1.1 in /usr/local/lib/python3.7/dist-packages (from Sphinx>=1.3; extra == \"all\"->IPython[all]->-r requirements.txt (line 12)) (2.1.0)\n",
            "Requirement already satisfied: packaging in /usr/local/lib/python3.7/dist-packages (from Sphinx>=1.3; extra == \"all\"->IPython[all]->-r requirements.txt (line 12)) (20.9)\n",
            "Requirement already satisfied: alabaster<0.8,>=0.7 in /usr/local/lib/python3.7/dist-packages (from Sphinx>=1.3; extra == \"all\"->IPython[all]->-r requirements.txt (line 12)) (0.7.12)\n",
            "Requirement already satisfied: imagesize in /usr/local/lib/python3.7/dist-packages (from Sphinx>=1.3; extra == \"all\"->IPython[all]->-r requirements.txt (line 12)) (1.2.0)\n",
            "Requirement already satisfied: sphinxcontrib-websupport in /usr/local/lib/python3.7/dist-packages (from Sphinx>=1.3; extra == \"all\"->IPython[all]->-r requirements.txt (line 12)) (1.2.4)\n",
            "Requirement already satisfied: docutils>=0.11 in /usr/local/lib/python3.7/dist-packages (from Sphinx>=1.3; extra == \"all\"->IPython[all]->-r requirements.txt (line 12)) (0.17.1)\n",
            "Requirement already satisfied: jsonschema!=2.5.0,>=2.4 in /usr/local/lib/python3.7/dist-packages (from nbformat; extra == \"all\"->IPython[all]->-r requirements.txt (line 12)) (2.6.0)\n",
            "Requirement already satisfied: jupyter-core in /usr/local/lib/python3.7/dist-packages (from nbformat; extra == \"all\"->IPython[all]->-r requirements.txt (line 12)) (4.7.1)\n",
            "Requirement already satisfied: jupyter-client in /usr/local/lib/python3.7/dist-packages (from ipyparallel; extra == \"all\"->IPython[all]->-r requirements.txt (line 12)) (5.3.5)\n",
            "Requirement already satisfied: tornado>=4 in /usr/local/lib/python3.7/dist-packages (from ipyparallel; extra == \"all\"->IPython[all]->-r requirements.txt (line 12)) (5.1.1)\n",
            "Requirement already satisfied: pyzmq>=13 in /usr/local/lib/python3.7/dist-packages (from ipyparallel; extra == \"all\"->IPython[all]->-r requirements.txt (line 12)) (22.0.3)\n",
            "Requirement already satisfied: mistune<2,>=0.8.1 in /usr/local/lib/python3.7/dist-packages (from nbconvert; extra == \"all\"->IPython[all]->-r requirements.txt (line 12)) (0.8.4)\n",
            "Requirement already satisfied: defusedxml in /usr/local/lib/python3.7/dist-packages (from nbconvert; extra == \"all\"->IPython[all]->-r requirements.txt (line 12)) (0.7.1)\n",
            "Requirement already satisfied: pandocfilters>=1.4.1 in /usr/local/lib/python3.7/dist-packages (from nbconvert; extra == \"all\"->IPython[all]->-r requirements.txt (line 12)) (1.4.3)\n",
            "Requirement already satisfied: bleach in /usr/local/lib/python3.7/dist-packages (from nbconvert; extra == \"all\"->IPython[all]->-r requirements.txt (line 12)) (3.3.0)\n",
            "Requirement already satisfied: entrypoints>=0.2.2 in /usr/local/lib/python3.7/dist-packages (from nbconvert; extra == \"all\"->IPython[all]->-r requirements.txt (line 12)) (0.3)\n",
            "Requirement already satisfied: jupyterlab-widgets>=1.0.0; python_version >= \"3.6\" in /usr/local/lib/python3.7/dist-packages (from ipywidgets; extra == \"all\"->IPython[all]->-r requirements.txt (line 12)) (1.0.0)\n",
            "Requirement already satisfied: widgetsnbextension~=3.5.0 in /usr/local/lib/python3.7/dist-packages (from ipywidgets; extra == \"all\"->IPython[all]->-r requirements.txt (line 12)) (3.5.1)\n",
            "Requirement already satisfied: terminado>=0.8.1 in /usr/local/lib/python3.7/dist-packages (from notebook; extra == \"all\"->IPython[all]->-r requirements.txt (line 12)) (0.10.0)\n",
            "Requirement already satisfied: Send2Trash in /usr/local/lib/python3.7/dist-packages (from notebook; extra == \"all\"->IPython[all]->-r requirements.txt (line 12)) (1.5.0)\n",
            "Requirement already satisfied: qtpy in /usr/local/lib/python3.7/dist-packages (from qtconsole; extra == \"all\"->IPython[all]->-r requirements.txt (line 12)) (1.9.0)\n",
            "Requirement already satisfied: idna<3,>=2.5 in /usr/local/lib/python3.7/dist-packages (from requests; extra == \"all\"->IPython[all]->-r requirements.txt (line 12)) (2.10)\n",
            "Requirement already satisfied: urllib3!=1.25.0,!=1.25.1,<1.26,>=1.21.1 in /usr/local/lib/python3.7/dist-packages (from requests; extra == \"all\"->IPython[all]->-r requirements.txt (line 12)) (1.24.3)\n",
            "Requirement already satisfied: chardet<4,>=3.0.2 in /usr/local/lib/python3.7/dist-packages (from requests; extra == \"all\"->IPython[all]->-r requirements.txt (line 12)) (3.0.4)\n",
            "Requirement already satisfied: certifi>=2017.4.17 in /usr/local/lib/python3.7/dist-packages (from requests; extra == \"all\"->IPython[all]->-r requirements.txt (line 12)) (2020.12.5)\n",
            "Requirement already satisfied: importlib-metadata; python_version < \"3.8\" in /usr/local/lib/python3.7/dist-packages (from markdown>=2.6.8->tensorboard<1.16.0,>=1.15.0->tensorflow>=1.3.0->-r requirements.txt (line 7)) (4.0.1)\n",
            "Requirement already satisfied: pytz>=2015.7 in /usr/local/lib/python3.7/dist-packages (from babel!=2.0,>=1.3->Sphinx>=1.3; extra == \"all\"->IPython[all]->-r requirements.txt (line 12)) (2018.9)\n",
            "Requirement already satisfied: MarkupSafe>=0.23 in /usr/local/lib/python3.7/dist-packages (from Jinja2>=2.3->Sphinx>=1.3; extra == \"all\"->IPython[all]->-r requirements.txt (line 12)) (2.0.1)\n",
            "Requirement already satisfied: sphinxcontrib-serializinghtml in /usr/local/lib/python3.7/dist-packages (from sphinxcontrib-websupport->Sphinx>=1.3; extra == \"all\"->IPython[all]->-r requirements.txt (line 12)) (1.1.4)\n",
            "Requirement already satisfied: webencodings in /usr/local/lib/python3.7/dist-packages (from bleach->nbconvert; extra == \"all\"->IPython[all]->-r requirements.txt (line 12)) (0.5.1)\n",
            "Requirement already satisfied: zipp>=0.5 in /usr/local/lib/python3.7/dist-packages (from importlib-metadata; python_version < \"3.8\"->markdown>=2.6.8->tensorboard<1.16.0,>=1.15.0->tensorflow>=1.3.0->-r requirements.txt (line 7)) (3.4.1)\n",
            "Requirement already satisfied: typing-extensions>=3.6.4; python_version < \"3.8\" in /usr/local/lib/python3.7/dist-packages (from importlib-metadata; python_version < \"3.8\"->markdown>=2.6.8->tensorboard<1.16.0,>=1.15.0->tensorflow>=1.3.0->-r requirements.txt (line 7)) (3.7.4.3)\n",
            "WARNING:root:Fail load requirements file, so using default ones.\n",
            "/usr/local/lib/python3.7/dist-packages/setuptools/dist.py:694: UserWarning: Usage of dash-separated 'description-file' will not be supported in future versions. Please use the underscore name 'description_file' instead\n",
            "  % (opt, underscore_opt))\n",
            "/usr/local/lib/python3.7/dist-packages/setuptools/dist.py:694: UserWarning: Usage of dash-separated 'license-file' will not be supported in future versions. Please use the underscore name 'license_file' instead\n",
            "  % (opt, underscore_opt))\n",
            "/usr/local/lib/python3.7/dist-packages/setuptools/dist.py:694: UserWarning: Usage of dash-separated 'requirements-file' will not be supported in future versions. Please use the underscore name 'requirements_file' instead\n",
            "  % (opt, underscore_opt))\n",
            "running install\n",
            "running bdist_egg\n",
            "running egg_info\n",
            "writing mask_rcnn.egg-info/PKG-INFO\n",
            "writing dependency_links to mask_rcnn.egg-info/dependency_links.txt\n",
            "writing top-level names to mask_rcnn.egg-info/top_level.txt\n",
            "reading manifest template 'MANIFEST.in'\n",
            "adding license file 'LICENSE'\n",
            "writing manifest file 'mask_rcnn.egg-info/SOURCES.txt'\n",
            "installing library code to build/bdist.linux-x86_64/egg\n",
            "running install_lib\n",
            "running build_py\n",
            "creating build/bdist.linux-x86_64/egg\n",
            "creating build/bdist.linux-x86_64/egg/mrcnn\n",
            "copying build/lib/mrcnn/visualize.py -> build/bdist.linux-x86_64/egg/mrcnn\n",
            "copying build/lib/mrcnn/config.py -> build/bdist.linux-x86_64/egg/mrcnn\n",
            "copying build/lib/mrcnn/__init__.py -> build/bdist.linux-x86_64/egg/mrcnn\n",
            "copying build/lib/mrcnn/utils.py -> build/bdist.linux-x86_64/egg/mrcnn\n",
            "copying build/lib/mrcnn/parallel_model.py -> build/bdist.linux-x86_64/egg/mrcnn\n",
            "copying build/lib/mrcnn/model.py -> build/bdist.linux-x86_64/egg/mrcnn\n",
            "byte-compiling build/bdist.linux-x86_64/egg/mrcnn/visualize.py to visualize.cpython-37.pyc\n",
            "byte-compiling build/bdist.linux-x86_64/egg/mrcnn/config.py to config.cpython-37.pyc\n",
            "byte-compiling build/bdist.linux-x86_64/egg/mrcnn/__init__.py to __init__.cpython-37.pyc\n",
            "byte-compiling build/bdist.linux-x86_64/egg/mrcnn/utils.py to utils.cpython-37.pyc\n",
            "byte-compiling build/bdist.linux-x86_64/egg/mrcnn/parallel_model.py to parallel_model.cpython-37.pyc\n",
            "byte-compiling build/bdist.linux-x86_64/egg/mrcnn/model.py to model.cpython-37.pyc\n",
            "creating build/bdist.linux-x86_64/egg/EGG-INFO\n",
            "copying mask_rcnn.egg-info/PKG-INFO -> build/bdist.linux-x86_64/egg/EGG-INFO\n",
            "copying mask_rcnn.egg-info/SOURCES.txt -> build/bdist.linux-x86_64/egg/EGG-INFO\n",
            "copying mask_rcnn.egg-info/dependency_links.txt -> build/bdist.linux-x86_64/egg/EGG-INFO\n",
            "copying mask_rcnn.egg-info/top_level.txt -> build/bdist.linux-x86_64/egg/EGG-INFO\n",
            "zip_safe flag not set; analyzing archive contents...\n",
            "creating 'dist/mask_rcnn-2.1-py3.7.egg' and adding 'build/bdist.linux-x86_64/egg' to it\n",
            "removing 'build/bdist.linux-x86_64/egg' (and everything under it)\n",
            "Processing mask_rcnn-2.1-py3.7.egg\n",
            "Removing /usr/local/lib/python3.7/dist-packages/mask_rcnn-2.1-py3.7.egg\n",
            "Copying mask_rcnn-2.1-py3.7.egg to /usr/local/lib/python3.7/dist-packages\n",
            "mask-rcnn 2.1 is already the active version in easy-install.pth\n",
            "\n",
            "Installed /usr/local/lib/python3.7/dist-packages/mask_rcnn-2.1-py3.7.egg\n",
            "Processing dependencies for mask-rcnn==2.1\n",
            "Finished processing dependencies for mask-rcnn==2.1\n"
          ],
          "name": "stdout"
        }
      ]
    },
    {
      "cell_type": "code",
      "metadata": {
        "colab": {
          "base_uri": "https://localhost:8080/"
        },
        "id": "VwRIgoNaMBsT",
        "outputId": "317fd6c4-f9e6-4d94-f4fe-eb9995f49616"
      },
      "source": [
        "#!pip uninstall tensorflow\n",
        "!pip install h5py==2.10.0\n",
        "!pip install tensorflow==1.15.0\n",
        "!pip install tensorflow-gpu==1.15.0"
      ],
      "execution_count": 3,
      "outputs": [
        {
          "output_type": "stream",
          "text": [
            "Requirement already satisfied: h5py==2.10.0 in /usr/local/lib/python3.7/dist-packages (2.10.0)\n",
            "Requirement already satisfied: numpy>=1.7 in /usr/local/lib/python3.7/dist-packages (from h5py==2.10.0) (1.19.5)\n",
            "Requirement already satisfied: six in /usr/local/lib/python3.7/dist-packages (from h5py==2.10.0) (1.15.0)\n",
            "Requirement already satisfied: tensorflow==1.15.0 in /usr/local/lib/python3.7/dist-packages (1.15.0)\n",
            "Requirement already satisfied: keras-applications>=1.0.8 in /usr/local/lib/python3.7/dist-packages (from tensorflow==1.15.0) (1.0.8)\n",
            "Requirement already satisfied: keras-preprocessing>=1.0.5 in /usr/local/lib/python3.7/dist-packages (from tensorflow==1.15.0) (1.1.2)\n",
            "Requirement already satisfied: gast==0.2.2 in /usr/local/lib/python3.7/dist-packages (from tensorflow==1.15.0) (0.2.2)\n",
            "Requirement already satisfied: protobuf>=3.6.1 in /usr/local/lib/python3.7/dist-packages (from tensorflow==1.15.0) (3.12.4)\n",
            "Requirement already satisfied: astor>=0.6.0 in /usr/local/lib/python3.7/dist-packages (from tensorflow==1.15.0) (0.8.1)\n",
            "Requirement already satisfied: grpcio>=1.8.6 in /usr/local/lib/python3.7/dist-packages (from tensorflow==1.15.0) (1.34.1)\n",
            "Requirement already satisfied: wrapt>=1.11.1 in /usr/local/lib/python3.7/dist-packages (from tensorflow==1.15.0) (1.12.1)\n",
            "Requirement already satisfied: wheel>=0.26 in /usr/local/lib/python3.7/dist-packages (from tensorflow==1.15.0) (0.36.2)\n",
            "Requirement already satisfied: tensorflow-estimator==1.15.1 in /usr/local/lib/python3.7/dist-packages (from tensorflow==1.15.0) (1.15.1)\n",
            "Requirement already satisfied: absl-py>=0.7.0 in /usr/local/lib/python3.7/dist-packages (from tensorflow==1.15.0) (0.12.0)\n",
            "Requirement already satisfied: numpy<2.0,>=1.16.0 in /usr/local/lib/python3.7/dist-packages (from tensorflow==1.15.0) (1.19.5)\n",
            "Requirement already satisfied: tensorboard<1.16.0,>=1.15.0 in /usr/local/lib/python3.7/dist-packages (from tensorflow==1.15.0) (1.15.0)\n",
            "Requirement already satisfied: termcolor>=1.1.0 in /usr/local/lib/python3.7/dist-packages (from tensorflow==1.15.0) (1.1.0)\n",
            "Requirement already satisfied: google-pasta>=0.1.6 in /usr/local/lib/python3.7/dist-packages (from tensorflow==1.15.0) (0.2.0)\n",
            "Requirement already satisfied: opt-einsum>=2.3.2 in /usr/local/lib/python3.7/dist-packages (from tensorflow==1.15.0) (3.3.0)\n",
            "Requirement already satisfied: six>=1.10.0 in /usr/local/lib/python3.7/dist-packages (from tensorflow==1.15.0) (1.15.0)\n",
            "Requirement already satisfied: h5py in /usr/local/lib/python3.7/dist-packages (from keras-applications>=1.0.8->tensorflow==1.15.0) (2.10.0)\n",
            "Requirement already satisfied: setuptools in /usr/local/lib/python3.7/dist-packages (from protobuf>=3.6.1->tensorflow==1.15.0) (57.0.0)\n",
            "Requirement already satisfied: markdown>=2.6.8 in /usr/local/lib/python3.7/dist-packages (from tensorboard<1.16.0,>=1.15.0->tensorflow==1.15.0) (3.3.4)\n",
            "Requirement already satisfied: werkzeug>=0.11.15 in /usr/local/lib/python3.7/dist-packages (from tensorboard<1.16.0,>=1.15.0->tensorflow==1.15.0) (1.0.1)\n",
            "Requirement already satisfied: importlib-metadata; python_version < \"3.8\" in /usr/local/lib/python3.7/dist-packages (from markdown>=2.6.8->tensorboard<1.16.0,>=1.15.0->tensorflow==1.15.0) (4.0.1)\n",
            "Requirement already satisfied: typing-extensions>=3.6.4; python_version < \"3.8\" in /usr/local/lib/python3.7/dist-packages (from importlib-metadata; python_version < \"3.8\"->markdown>=2.6.8->tensorboard<1.16.0,>=1.15.0->tensorflow==1.15.0) (3.7.4.3)\n",
            "Requirement already satisfied: zipp>=0.5 in /usr/local/lib/python3.7/dist-packages (from importlib-metadata; python_version < \"3.8\"->markdown>=2.6.8->tensorboard<1.16.0,>=1.15.0->tensorflow==1.15.0) (3.4.1)\n",
            "Requirement already satisfied: tensorflow-gpu==1.15.0 in /usr/local/lib/python3.7/dist-packages (1.15.0)\n",
            "Requirement already satisfied: termcolor>=1.1.0 in /usr/local/lib/python3.7/dist-packages (from tensorflow-gpu==1.15.0) (1.1.0)\n",
            "Requirement already satisfied: tensorflow-estimator==1.15.1 in /usr/local/lib/python3.7/dist-packages (from tensorflow-gpu==1.15.0) (1.15.1)\n",
            "Requirement already satisfied: protobuf>=3.6.1 in /usr/local/lib/python3.7/dist-packages (from tensorflow-gpu==1.15.0) (3.12.4)\n",
            "Requirement already satisfied: wrapt>=1.11.1 in /usr/local/lib/python3.7/dist-packages (from tensorflow-gpu==1.15.0) (1.12.1)\n",
            "Requirement already satisfied: absl-py>=0.7.0 in /usr/local/lib/python3.7/dist-packages (from tensorflow-gpu==1.15.0) (0.12.0)\n",
            "Requirement already satisfied: google-pasta>=0.1.6 in /usr/local/lib/python3.7/dist-packages (from tensorflow-gpu==1.15.0) (0.2.0)\n",
            "Requirement already satisfied: keras-applications>=1.0.8 in /usr/local/lib/python3.7/dist-packages (from tensorflow-gpu==1.15.0) (1.0.8)\n",
            "Requirement already satisfied: tensorboard<1.16.0,>=1.15.0 in /usr/local/lib/python3.7/dist-packages (from tensorflow-gpu==1.15.0) (1.15.0)\n",
            "Requirement already satisfied: gast==0.2.2 in /usr/local/lib/python3.7/dist-packages (from tensorflow-gpu==1.15.0) (0.2.2)\n",
            "Requirement already satisfied: grpcio>=1.8.6 in /usr/local/lib/python3.7/dist-packages (from tensorflow-gpu==1.15.0) (1.34.1)\n",
            "Requirement already satisfied: astor>=0.6.0 in /usr/local/lib/python3.7/dist-packages (from tensorflow-gpu==1.15.0) (0.8.1)\n",
            "Requirement already satisfied: opt-einsum>=2.3.2 in /usr/local/lib/python3.7/dist-packages (from tensorflow-gpu==1.15.0) (3.3.0)\n",
            "Requirement already satisfied: numpy<2.0,>=1.16.0 in /usr/local/lib/python3.7/dist-packages (from tensorflow-gpu==1.15.0) (1.19.5)\n",
            "Requirement already satisfied: six>=1.10.0 in /usr/local/lib/python3.7/dist-packages (from tensorflow-gpu==1.15.0) (1.15.0)\n",
            "Requirement already satisfied: keras-preprocessing>=1.0.5 in /usr/local/lib/python3.7/dist-packages (from tensorflow-gpu==1.15.0) (1.1.2)\n",
            "Requirement already satisfied: wheel>=0.26 in /usr/local/lib/python3.7/dist-packages (from tensorflow-gpu==1.15.0) (0.36.2)\n",
            "Requirement already satisfied: setuptools in /usr/local/lib/python3.7/dist-packages (from protobuf>=3.6.1->tensorflow-gpu==1.15.0) (57.0.0)\n",
            "Requirement already satisfied: h5py in /usr/local/lib/python3.7/dist-packages (from keras-applications>=1.0.8->tensorflow-gpu==1.15.0) (2.10.0)\n",
            "Requirement already satisfied: markdown>=2.6.8 in /usr/local/lib/python3.7/dist-packages (from tensorboard<1.16.0,>=1.15.0->tensorflow-gpu==1.15.0) (3.3.4)\n",
            "Requirement already satisfied: werkzeug>=0.11.15 in /usr/local/lib/python3.7/dist-packages (from tensorboard<1.16.0,>=1.15.0->tensorflow-gpu==1.15.0) (1.0.1)\n",
            "Requirement already satisfied: importlib-metadata; python_version < \"3.8\" in /usr/local/lib/python3.7/dist-packages (from markdown>=2.6.8->tensorboard<1.16.0,>=1.15.0->tensorflow-gpu==1.15.0) (4.0.1)\n",
            "Requirement already satisfied: zipp>=0.5 in /usr/local/lib/python3.7/dist-packages (from importlib-metadata; python_version < \"3.8\"->markdown>=2.6.8->tensorboard<1.16.0,>=1.15.0->tensorflow-gpu==1.15.0) (3.4.1)\n",
            "Requirement already satisfied: typing-extensions>=3.6.4; python_version < \"3.8\" in /usr/local/lib/python3.7/dist-packages (from importlib-metadata; python_version < \"3.8\"->markdown>=2.6.8->tensorboard<1.16.0,>=1.15.0->tensorflow-gpu==1.15.0) (3.7.4.3)\n"
          ],
          "name": "stdout"
        }
      ]
    },
    {
      "cell_type": "code",
      "metadata": {
        "colab": {
          "base_uri": "https://localhost:8080/"
        },
        "id": "LE9OyNrsSKgN",
        "outputId": "39508e3a-64e0-42e0-d800-a95a9c3e09b9"
      },
      "source": [
        "#!pip uninstall gast\n",
        "!pip install gast==0.3.2"
      ],
      "execution_count": 4,
      "outputs": [
        {
          "output_type": "stream",
          "text": [
            "Processing /root/.cache/pip/wheels/59/38/c6/234dc39b4f6951a0768fbc02d5b7207137a5b1d9094f0d54bf/gast-0.3.2-cp37-none-any.whl\n",
            "\u001b[31mERROR: tensorflow 1.15.0 has requirement gast==0.2.2, but you'll have gast 0.3.2 which is incompatible.\u001b[0m\n",
            "\u001b[31mERROR: tensorflow-gpu 1.15.0 has requirement gast==0.2.2, but you'll have gast 0.3.2 which is incompatible.\u001b[0m\n",
            "\u001b[31mERROR: kapre 0.3.5 has requirement tensorflow>=2.0.0, but you'll have tensorflow 1.15.0 which is incompatible.\u001b[0m\n",
            "Installing collected packages: gast\n",
            "  Found existing installation: gast 0.2.2\n",
            "    Uninstalling gast-0.2.2:\n",
            "      Successfully uninstalled gast-0.2.2\n",
            "Successfully installed gast-0.3.2\n"
          ],
          "name": "stdout"
        }
      ]
    },
    {
      "cell_type": "code",
      "metadata": {
        "colab": {
          "base_uri": "https://localhost:8080/"
        },
        "id": "QkzB6eX1LfM9",
        "outputId": "deb94e57-3ece-49dc-f50f-6e4e427712a6"
      },
      "source": [
        "!pip uninstall keras-nightly\n",
        "!pip install keras==2.1.6"
      ],
      "execution_count": 5,
      "outputs": [
        {
          "output_type": "stream",
          "text": [
            "\u001b[33mWARNING: Skipping keras-nightly as it is not installed.\u001b[0m\n",
            "Requirement already satisfied: keras==2.1.6 in /usr/local/lib/python3.7/dist-packages (2.1.6)\n",
            "Requirement already satisfied: scipy>=0.14 in /usr/local/lib/python3.7/dist-packages (from keras==2.1.6) (1.4.1)\n",
            "Requirement already satisfied: six>=1.9.0 in /usr/local/lib/python3.7/dist-packages (from keras==2.1.6) (1.15.0)\n",
            "Requirement already satisfied: h5py in /usr/local/lib/python3.7/dist-packages (from keras==2.1.6) (2.10.0)\n",
            "Requirement already satisfied: pyyaml in /usr/local/lib/python3.7/dist-packages (from keras==2.1.6) (3.13)\n",
            "Requirement already satisfied: numpy>=1.9.1 in /usr/local/lib/python3.7/dist-packages (from keras==2.1.6) (1.19.5)\n"
          ],
          "name": "stdout"
        }
      ]
    },
    {
      "cell_type": "code",
      "metadata": {
        "colab": {
          "base_uri": "https://localhost:8080/"
        },
        "id": "q72vc7cQs4KR",
        "outputId": "3161ab26-cf7c-48e1-db2b-926532190891"
      },
      "source": [
        "import tensorflow\n",
        "print (tensorflow.__version__)"
      ],
      "execution_count": null,
      "outputs": [
        {
          "output_type": "stream",
          "text": [
            "1.15.3\n"
          ],
          "name": "stdout"
        }
      ]
    },
    {
      "cell_type": "code",
      "metadata": {
        "colab": {
          "base_uri": "https://localhost:8080/"
        },
        "id": "-QefmYmDNqdC",
        "outputId": "ed90f3bd-8ada-48f3-d417-9eb42c42cc40"
      },
      "source": [
        "#!pip install mrcnn"
      ],
      "execution_count": 6,
      "outputs": [
        {
          "output_type": "stream",
          "text": [
            "Requirement already satisfied: mrcnn in /usr/local/lib/python3.7/dist-packages (0.2)\n"
          ],
          "name": "stdout"
        }
      ]
    },
    {
      "cell_type": "code",
      "metadata": {
        "id": "pn4-X-pPN_Hr"
      },
      "source": [
        "#import mrcnn"
      ],
      "execution_count": 7,
      "outputs": []
    },
    {
      "cell_type": "code",
      "metadata": {
        "id": "HBAxTsYl5_Or"
      },
      "source": [
        "import os\n",
        "import sys\n",
        "import itertools\n",
        "import math\n",
        "import datetime\n",
        "import logging\n",
        "import json\n",
        "import re\n",
        "import skimage.draw\n",
        "import cv2\n",
        "import torch\n",
        "import torch.utils.data\n",
        "import random\n",
        "from collections import OrderedDict\n",
        "import numpy as np\n",
        "import matplotlib\n",
        "import matplotlib.pyplot as plt\n",
        "import matplotlib.patches as patches\n",
        "import matplotlib.lines as lines\n",
        "from matplotlib.patches import Polygon\n",
        "\n",
        "# Root directory of the project\n",
        "ROOT_DIR = os.path.abspath(\"../../\")\n",
        "\n",
        "# Path to trained weights file\n",
        "COCO_WEIGHTS_PATH = os.path.join(ROOT_DIR, \"mask_rcnn_coco.h5\")\n",
        "\n",
        "# Directory to save logs and model checkpoints\n",
        "DEFAULT_LOGS_DIR = os.path.join(ROOT_DIR, \"logs\")\n",
        "\n",
        "# Import Mask RCNN\n",
        "sys.path.append(ROOT_DIR)  # To find local version of the library\n",
        "from mrcnn.config import Config\n",
        "from mrcnn import utils\n",
        "from mrcnn import visualize\n",
        "from mrcnn.visualize import display_images\n",
        "import mrcnn.model as modellib\n",
        "from mrcnn.model import log\n",
        "\n",
        "%matplotlib inline"
      ],
      "execution_count": 47,
      "outputs": []
    },
    {
      "cell_type": "code",
      "metadata": {
        "colab": {
          "base_uri": "https://localhost:8080/"
        },
        "id": "ejLsLmWZ8WyU",
        "outputId": "1e1361f2-2e56-45db-ac6f-cfb58c90f7b2"
      },
      "source": [
        "class ChambersConfig(Config):\n",
        "    \"\"\"Configuration for training on the toy shapes dataset.\n",
        "    Derives from the base Config class and overrides values specific\n",
        "    to the toy shapes dataset.\n",
        "    \"\"\"\n",
        "    # Give the configuration a recognizable name\n",
        "    NAME = \"c_shapes\"\n",
        "\n",
        "    # Train on 1 GPU and 1 images per GPU. Batch size is 1 (GPUs * images/GPU).\n",
        "    GPU_COUNT = 1\n",
        "    IMAGES_PER_GPU = 1\n",
        "\n",
        "    # Number of classes (including background)\n",
        "    NUM_CLASSES = 1 + 2  # background + #? shapes\n",
        "\n",
        "    # Use small images for faster training. Set the limits of the small side\n",
        "    # the large side, and that determines the image shape.\n",
        "    IMAGE_MIN_DIM = 512\n",
        "    IMAGE_MAX_DIM = 512\n",
        "\n",
        "    # Use smaller anchors because our image and objects are small\n",
        "    RPN_ANCHOR_SCALES = (32, 64, 128, 256, 512)  # anchor side in pixels\n",
        "\n",
        "    # Reduce training ROIs per image because the images are small and have\n",
        "    # few objects. Aim to allow ROI sampling to pick 33% positive ROIs.\n",
        "    TRAIN_ROIS_PER_IMAGE = 16\n",
        "\n",
        "    # Use a small epoch since the data is simple\n",
        "    STEPS_PER_EPOCH = 25\n",
        "\n",
        "    # use small validation steps since the epoch is small\n",
        "    VALIDATION_STEPS = 5\n",
        "    \n",
        "config = ChambersConfig()\n",
        "config.display()"
      ],
      "execution_count": 7,
      "outputs": [
        {
          "output_type": "stream",
          "text": [
            "\n",
            "Configurations:\n",
            "BACKBONE                       resnet101\n",
            "BACKBONE_STRIDES               [4, 8, 16, 32, 64]\n",
            "BATCH_SIZE                     1\n",
            "BBOX_STD_DEV                   [0.1 0.1 0.2 0.2]\n",
            "COMPUTE_BACKBONE_SHAPE         None\n",
            "DETECTION_MAX_INSTANCES        100\n",
            "DETECTION_MIN_CONFIDENCE       0.7\n",
            "DETECTION_NMS_THRESHOLD        0.3\n",
            "FPN_CLASSIF_FC_LAYERS_SIZE     1024\n",
            "GPU_COUNT                      1\n",
            "GRADIENT_CLIP_NORM             5.0\n",
            "IMAGES_PER_GPU                 1\n",
            "IMAGE_CHANNEL_COUNT            3\n",
            "IMAGE_MAX_DIM                  512\n",
            "IMAGE_META_SIZE                15\n",
            "IMAGE_MIN_DIM                  512\n",
            "IMAGE_MIN_SCALE                0\n",
            "IMAGE_RESIZE_MODE              square\n",
            "IMAGE_SHAPE                    [512 512   3]\n",
            "LEARNING_MOMENTUM              0.9\n",
            "LEARNING_RATE                  0.001\n",
            "LOSS_WEIGHTS                   {'rpn_class_loss': 1.0, 'rpn_bbox_loss': 1.0, 'mrcnn_class_loss': 1.0, 'mrcnn_bbox_loss': 1.0, 'mrcnn_mask_loss': 1.0}\n",
            "MASK_POOL_SIZE                 14\n",
            "MASK_SHAPE                     [28, 28]\n",
            "MAX_GT_INSTANCES               100\n",
            "MEAN_PIXEL                     [123.7 116.8 103.9]\n",
            "MINI_MASK_SHAPE                (56, 56)\n",
            "NAME                           c_shapes\n",
            "NUM_CLASSES                    3\n",
            "POOL_SIZE                      7\n",
            "POST_NMS_ROIS_INFERENCE        1000\n",
            "POST_NMS_ROIS_TRAINING         2000\n",
            "PRE_NMS_LIMIT                  6000\n",
            "ROI_POSITIVE_RATIO             0.33\n",
            "RPN_ANCHOR_RATIOS              [0.5, 1, 2]\n",
            "RPN_ANCHOR_SCALES              (32, 64, 128, 256, 512)\n",
            "RPN_ANCHOR_STRIDE              1\n",
            "RPN_BBOX_STD_DEV               [0.1 0.1 0.2 0.2]\n",
            "RPN_NMS_THRESHOLD              0.7\n",
            "RPN_TRAIN_ANCHORS_PER_IMAGE    256\n",
            "STEPS_PER_EPOCH                25\n",
            "TOP_DOWN_PYRAMID_SIZE          256\n",
            "TRAIN_BN                       False\n",
            "TRAIN_ROIS_PER_IMAGE           16\n",
            "USE_MINI_MASK                  True\n",
            "USE_RPN_ROIS                   True\n",
            "VALIDATION_STEPS               5\n",
            "WEIGHT_DECAY                   0.0001\n",
            "\n",
            "\n"
          ],
          "name": "stdout"
        }
      ]
    },
    {
      "cell_type": "code",
      "metadata": {
        "id": "FJcreY9x_A4f"
      },
      "source": [
        "class chambersDataset(utils.Dataset):\n",
        "\n",
        "    def load_custom(self, dataset_dir, subset):\n",
        "        \"\"\"Load a subset of the Horse-Man dataset.\n",
        "        dataset_dir: Root directory of the dataset.\n",
        "        subset: Subset to load: train or val\n",
        "        \"\"\"\n",
        "        # Add classes. We have only one class to add.\n",
        "        self.add_class(\"object\", 1, \"bubble\")\n",
        "        self.add_class(\"object\", 2, \"chamber\")\n",
        "        # self.add_class(\"object\", 3, \"xyz\") #likewise\n",
        "\n",
        "        # Train or validation dataset?\n",
        "        assert subset in [\"train\", \"validation\"]\n",
        "        dataset_dir = os.path.join(dataset_dir, subset)\n",
        "\n",
        "        # Load annotations\n",
        "        # VGG Image Annotator saves each image in the form:\n",
        "        # { 'filename': '28503151_5b5b7ec140_b.jpg',\n",
        "        #   'regions': {\n",
        "        #       '0': {\n",
        "        #           'region_attributes': {},\n",
        "        #           'shape_attributes': {\n",
        "        #               'all_points_x': [...],\n",
        "        #               'all_points_y': [...],\n",
        "        #               'name': 'polygon'}},\n",
        "        #       ... more regions ...\n",
        "        #   },\n",
        "        #   'size': 100202\n",
        "        # }\n",
        "        # We mostly care about the x and y coordinates of each region\n",
        "        annotations1 = json.load(open(os.path.join(dataset_dir, \"annotations.json\")))\n",
        "        # print(annotations1)\n",
        "        annotations = list(annotations1.values())  # don't need the dict keys\n",
        "\n",
        "        # The VIA tool saves images in the JSON even if they don't have any\n",
        "        # annotations. Skip unannotated images.\n",
        "        annotations = [a for a in annotations if a['regions']]\n",
        "        \n",
        "        # Add images\n",
        "        for a in annotations:\n",
        "            # print(a)\n",
        "            # Get the x, y coordinaets of points of the polygons that make up\n",
        "            # the outline of each object instance. There are stores in the\n",
        "            # shape_attributes (see json format above)\n",
        "            polygons = [r['shape_attributes'] for r in a['regions']] \n",
        "            objects = [s['region_attributes']['region_type'] for s in a['regions']]\n",
        "            print(\"objects:\",objects)\n",
        "            name_dict = {\"bubble\": 1,\"chamber\": 2} #,\"xyz\": 3}\n",
        "            # key = tuple(name_dict)\n",
        "            num_ids = [name_dict[a] for a in objects]\n",
        "     \n",
        "            # num_ids = [int(n['Event']) for n in objects]\n",
        "            # load_mask() needs the image size to convert polygons to masks.\n",
        "            # Unfortunately, VIA doesn't include it in JSON, so we must read\n",
        "            # the image. This is only managable since the dataset is tiny.\n",
        "            print(\"numids\",num_ids)\n",
        "            image_path = os.path.join(dataset_dir, a['filename'])\n",
        "            image = skimage.io.imread(image_path)\n",
        "            height, width = image.shape[:2]\n",
        "\n",
        "            self.add_image(\n",
        "                \"object\",  ## for a single class just add the name here\n",
        "                image_id=a['filename'],  # use file name as a unique image id\n",
        "                path=image_path,\n",
        "                width=width, height=height,\n",
        "                polygons=polygons,\n",
        "                num_ids=num_ids\n",
        "                )\n",
        "\n",
        "    def load_mask(self, image_id):\n",
        "        \"\"\"Generate instance masks for an image.\n",
        "       Returns:\n",
        "        masks: A bool array of shape [height, width, instance count] with\n",
        "            one mask per instance.\n",
        "        class_ids: a 1D array of class IDs of the instance masks.\n",
        "        \"\"\"\n",
        "        # If not a Horse/Man dataset image, delegate to parent class.\n",
        "        image_info = self.image_info[image_id]\n",
        "        if image_info[\"source\"] != \"object\":\n",
        "            return super(self.__class__, self).load_mask(image_id)\n",
        "\n",
        "        # Convert polygons to a bitmap mask of shape\n",
        "        # [height, width, instance_count]\n",
        "        info = self.image_info[image_id]\n",
        "        if info[\"source\"] != \"object\":\n",
        "            return super(self.__class__, self).load_mask(image_id)\n",
        "        num_ids = info['num_ids']\n",
        "        mask = np.zeros([info[\"height\"], info[\"width\"], len(info[\"polygons\"])],\n",
        "                        dtype=np.uint8)\n",
        "        for i, p in enumerate(info[\"polygons\"]):\n",
        "            # Get indexes of pixels inside the polygon and set them to 1\n",
        "        \trr, cc = skimage.draw.polygon(p['all_points_y'], p['all_points_x'])\n",
        "\n",
        "        \tmask[rr, cc, i] = 1\n",
        "\n",
        "        # Return mask, and array of class IDs of each instance. Since we have\n",
        "        # one class ID only, we return an array of 1s\n",
        "        # Map class names to class IDs.\n",
        "        num_ids = np.array(num_ids, dtype=np.int32)\n",
        "        return mask, num_ids #np.ones([mask.shape[-1]], dtype=np.int32)\n",
        "\n",
        "    def image_reference(self, image_id):\n",
        "        \"\"\"Return the path of the image.\"\"\"\n",
        "        info = self.image_info[image_id]\n",
        "        if info[\"source\"] == \"object\":\n",
        "            return info[\"path\"]\n",
        "        else:\n",
        "            super(self.__class__, self).image_reference(image_id)"
      ],
      "execution_count": 60,
      "outputs": []
    },
    {
      "cell_type": "code",
      "metadata": {
        "id": "d86b5FajXHDb"
      },
      "source": [
        "#annotations1 = json.load(open(os.path.join('/content/drive/MyDrive/APHIS Farm Bill (2020Milestones)/Protocols/For John/images/New set for John/collection/four_chambers/train', \"annotations.json\")))\n",
        "#        # print(annotations1)\n",
        "#annotations = list(annotations1.values())  # don't need the dict keys\n",
        "#\n",
        "#        # The VIA tool saves images in the JSON even if they don't have any\n",
        "#        # annotations. Skip unannotated images.\n",
        "#annotations = [a for a in annotations if a['regions']]\n",
        "#        \n",
        "#        # Add images\n",
        "#for a in annotations:\n",
        "#            # print(a)\n",
        "#            # Get the x, y coordinaets of points of the polygons that make up\n",
        "#            # the outline of each object instance. There are stores in the\n",
        "#            # shape_attributes (see json format above)\n",
        "#            polygons = [r['shape_attributes'] for r in a['regions']] \n",
        "#            objects = [s['region_attributes']['detail'] for s in a['regions']]\n",
        "#            print(\"objects:\",objects)\n",
        "#            name_dict = {\"bubble\": 1,\"chamber\": 2} #,\"xyz\": 3}\n",
        "#            # key = tuple(name_dict)\n",
        "#            num_ids = [name_dict[a] for a in objects]"
      ],
      "execution_count": null,
      "outputs": []
    },
    {
      "cell_type": "code",
      "metadata": {
        "id": "zaPXxQPFzqEk"
      },
      "source": [
        "def train(model):\n",
        "    \"\"\"Train the model.\"\"\"\n",
        "    # Training dataset.\n",
        "    dataset_train = chambersDataset()\n",
        "    dataset_train.load_custom('/content/drive/MyDrive/APHIS Farm Bill (2020Milestones)/Protocols/For John/images/New set for John/collection/four_chambers', subset = 'train')\n",
        "    dataset_train.prepare()\n",
        "\n",
        "    # Validation dataset\n",
        "    dataset_val = chambersDataset()\n",
        "    dataset_val.load_custom('/content/drive/MyDrive/APHIS Farm Bill (2020Milestones)/Protocols/For John/images/New set for John/collection/four_chambers',subset = 'validation')\n",
        "    dataset_val.prepare()\n",
        "\n",
        "    # *** This training schedule is an example. Update to your needs ***\n",
        "    # Since we're using a very small dataset, and starting from\n",
        "    # COCO trained weights, we don't need to train too long. Also,\n",
        "    # no need to train all layers, just the heads should do it.\n",
        "    print(\"Training network heads\")\n",
        "    model.train(dataset_train, dataset_val,\n",
        "                learning_rate=config.LEARNING_RATE,\n",
        "                epochs=10,\n",
        "                layers='heads')"
      ],
      "execution_count": 61,
      "outputs": []
    },
    {
      "cell_type": "code",
      "metadata": {
        "id": "wSsQmBUa0d0P"
      },
      "source": [
        "config = ChambersConfig()\n",
        "model = modellib.MaskRCNN(mode=\"training\", config=config,\n",
        "                                  model_dir=DEFAULT_LOGS_DIR)\n",
        "\n",
        "weights_path = COCO_WEIGHTS_PATH\n",
        "        # Download weights file\n",
        "if not os.path.exists(weights_path):\n",
        "  utils.download_trained_weights(weights_path)\n",
        "\n",
        "model.load_weights(weights_path, by_name=True, exclude=[\n",
        "            \"mrcnn_class_logits\", \"mrcnn_bbox_fc\",\n",
        "            \"mrcnn_bbox\", \"mrcnn_mask\"])"
      ],
      "execution_count": 62,
      "outputs": []
    },
    {
      "cell_type": "code",
      "metadata": {
        "colab": {
          "base_uri": "https://localhost:8080/",
          "height": 1000
        },
        "id": "vRXSu2xj-hN4",
        "outputId": "9289e199-a807-4d5d-d738-9f9387e0d6c8"
      },
      "source": [
        "train(model)"
      ],
      "execution_count": 63,
      "outputs": [
        {
          "output_type": "stream",
          "text": [
            "objects: ['bubble', 'bubble', 'bubble', 'bubble', 'bubble', 'chamber', 'chamber', 'chamber', 'chamber', 'bubble', 'bubble', 'bubble', 'bubble', 'bubble', 'bubble', 'bubble']\n",
            "numids [1, 1, 1, 1, 1, 2, 2, 2, 2, 1, 1, 1, 1, 1, 1, 1]\n",
            "objects: ['bubble', 'bubble', 'bubble', 'chamber', 'chamber', 'chamber', 'chamber', 'bubble', 'bubble', 'bubble', 'bubble', 'bubble', 'bubble']\n",
            "numids [1, 1, 1, 2, 2, 2, 2, 1, 1, 1, 1, 1, 1]\n",
            "objects: ['bubble', 'bubble', 'bubble', 'bubble', 'bubble', 'bubble', 'chamber', 'chamber', 'chamber', 'chamber', 'bubble', 'bubble', 'bubble', 'bubble', 'bubble', 'bubble']\n",
            "numids [1, 1, 1, 1, 1, 1, 2, 2, 2, 2, 1, 1, 1, 1, 1, 1]\n",
            "objects: ['bubble', 'bubble', 'bubble', 'chamber', 'chamber', 'chamber', 'chamber', 'bubble', 'bubble', 'bubble', 'bubble', 'bubble']\n",
            "numids [1, 1, 1, 2, 2, 2, 2, 1, 1, 1, 1, 1]\n",
            "objects: ['bubble', 'bubble', 'bubble', 'bubble', 'bubble', 'bubble', 'chamber', 'chamber', 'chamber', 'chamber']\n",
            "numids [1, 1, 1, 1, 1, 1, 2, 2, 2, 2]\n",
            "objects: ['bubble', 'bubble', 'bubble', 'chamber', 'chamber', 'chamber', 'chamber', 'bubble', 'bubble', 'bubble', 'bubble', 'bubble', 'bubble']\n",
            "numids [1, 1, 1, 2, 2, 2, 2, 1, 1, 1, 1, 1, 1]\n",
            "objects: ['bubble', 'bubble', 'bubble', 'bubble', 'bubble', 'bubble', 'chamber', 'chamber', 'chamber', 'chamber', 'bubble', 'bubble', 'bubble', 'bubble', 'bubble', 'bubble', 'bubble']\n",
            "numids [1, 1, 1, 1, 1, 1, 2, 2, 2, 2, 1, 1, 1, 1, 1, 1, 1]\n",
            "objects: ['bubble', 'bubble', 'bubble', 'chamber', 'chamber', 'chamber', 'chamber', 'bubble', 'bubble', 'bubble', 'bubble', 'bubble']\n",
            "numids [1, 1, 1, 2, 2, 2, 2, 1, 1, 1, 1, 1]\n",
            "objects: ['bubble', 'bubble', 'bubble', 'bubble', 'bubble', 'bubble', 'chamber', 'chamber', 'chamber', 'chamber', 'bubble', 'bubble', 'bubble', 'bubble', 'bubble', 'bubble']\n",
            "numids [1, 1, 1, 1, 1, 1, 2, 2, 2, 2, 1, 1, 1, 1, 1, 1]\n",
            "objects: ['bubble', 'bubble', 'bubble', 'chamber', 'chamber', 'chamber', 'chamber', 'bubble', 'bubble', 'bubble', 'bubble']\n",
            "numids [1, 1, 1, 2, 2, 2, 2, 1, 1, 1, 1]\n",
            "objects: ['bubble', 'bubble', 'bubble', 'bubble', 'bubble', 'bubble', 'chamber', 'chamber', 'chamber', 'chamber', 'bubble', 'bubble', 'bubble', 'bubble', 'bubble']\n",
            "numids [1, 1, 1, 1, 1, 1, 2, 2, 2, 2, 1, 1, 1, 1, 1]\n",
            "objects: ['bubble', 'bubble', 'bubble', 'chamber', 'chamber', 'chamber', 'chamber', 'bubble', 'bubble', 'bubble', 'bubble']\n",
            "numids [1, 1, 1, 2, 2, 2, 2, 1, 1, 1, 1]\n",
            "objects: ['bubble', 'bubble', 'chamber', 'chamber', 'chamber', 'chamber', 'bubble', 'bubble', 'bubble', 'bubble', 'bubble', 'bubble']\n",
            "numids [1, 1, 2, 2, 2, 2, 1, 1, 1, 1, 1, 1]\n",
            "objects: ['bubble', 'bubble', 'bubble', 'bubble', 'chamber', 'chamber', 'chamber', 'chamber', 'bubble', 'bubble', 'bubble', 'bubble', 'bubble']\n",
            "numids [1, 1, 1, 1, 2, 2, 2, 2, 1, 1, 1, 1, 1]\n",
            "objects: ['bubble', 'bubble', 'chamber', 'chamber', 'chamber', 'chamber', 'bubble', 'bubble', 'bubble', 'bubble', 'bubble', 'bubble', 'bubble']\n",
            "numids [1, 1, 2, 2, 2, 2, 1, 1, 1, 1, 1, 1, 1]\n",
            "objects: ['bubble', 'bubble', 'bubble', 'chamber', 'chamber', 'chamber', 'chamber', 'bubble', 'bubble', 'bubble', 'bubble', 'bubble']\n",
            "numids [1, 1, 1, 2, 2, 2, 2, 1, 1, 1, 1, 1]\n",
            "objects: ['bubble', 'bubble', 'chamber', 'chamber', 'chamber', 'chamber', 'bubble', 'bubble', 'bubble', 'bubble', 'bubble', 'bubble', 'bubble']\n",
            "numids [1, 1, 2, 2, 2, 2, 1, 1, 1, 1, 1, 1, 1]\n",
            "objects: ['bubble', 'bubble', 'bubble', 'bubble', 'chamber', 'chamber', 'chamber', 'chamber', 'bubble', 'bubble', 'bubble', 'bubble', 'bubble']\n",
            "numids [1, 1, 1, 1, 2, 2, 2, 2, 1, 1, 1, 1, 1]\n",
            "objects: ['bubble', 'bubble', 'chamber', 'chamber', 'chamber', 'chamber', 'bubble', 'bubble', 'bubble', 'bubble', 'bubble', 'bubble', 'bubble']\n",
            "numids [1, 1, 2, 2, 2, 2, 1, 1, 1, 1, 1, 1, 1]\n",
            "objects: ['bubble', 'bubble', 'bubble', 'bubble', 'chamber', 'chamber', 'chamber', 'chamber']\n",
            "numids [1, 1, 1, 1, 2, 2, 2, 2]\n",
            "objects: ['bubble', 'chamber', 'chamber', 'chamber', 'chamber', 'bubble']\n",
            "numids [1, 2, 2, 2, 2, 1]\n",
            "objects: ['bubble', 'bubble', 'bubble', 'chamber', 'chamber', 'chamber', 'chamber', 'bubble']\n",
            "numids [1, 1, 1, 2, 2, 2, 2, 1]\n",
            "objects: ['bubble', 'bubble', 'chamber', 'chamber', 'chamber', 'chamber']\n",
            "numids [1, 1, 2, 2, 2, 2]\n",
            "objects: ['bubble', 'bubble', 'bubble', 'chamber', 'chamber', 'chamber', 'chamber']\n",
            "numids [1, 1, 1, 2, 2, 2, 2]\n",
            "Training network heads\n",
            "\n",
            "Starting at epoch 0. LR=0.001\n",
            "\n",
            "Checkpoint Path: /logs/c_shapes20210609T1558/mask_rcnn_c_shapes_{epoch:04d}.h5\n",
            "Selecting layers to train\n",
            "fpn_c5p5               (Conv2D)\n",
            "fpn_c4p4               (Conv2D)\n",
            "fpn_c3p3               (Conv2D)\n",
            "fpn_c2p2               (Conv2D)\n",
            "fpn_p5                 (Conv2D)\n",
            "fpn_p2                 (Conv2D)\n",
            "fpn_p3                 (Conv2D)\n",
            "fpn_p4                 (Conv2D)\n",
            "In model:  rpn_model\n",
            "    rpn_conv_shared        (Conv2D)\n",
            "    rpn_class_raw          (Conv2D)\n",
            "    rpn_bbox_pred          (Conv2D)\n",
            "mrcnn_mask_conv1       (TimeDistributed)\n",
            "mrcnn_mask_bn1         (TimeDistributed)\n",
            "mrcnn_mask_conv2       (TimeDistributed)\n",
            "mrcnn_mask_bn2         (TimeDistributed)\n",
            "mrcnn_class_conv1      (TimeDistributed)\n",
            "mrcnn_class_bn1        (TimeDistributed)\n",
            "mrcnn_mask_conv3       (TimeDistributed)\n",
            "mrcnn_mask_bn3         (TimeDistributed)\n",
            "mrcnn_class_conv2      (TimeDistributed)\n",
            "mrcnn_class_bn2        (TimeDistributed)\n",
            "mrcnn_mask_conv4       (TimeDistributed)\n",
            "mrcnn_mask_bn4         (TimeDistributed)\n",
            "mrcnn_bbox_fc          (TimeDistributed)\n",
            "mrcnn_mask_deconv      (TimeDistributed)\n",
            "mrcnn_class_logits     (TimeDistributed)\n",
            "mrcnn_mask             (TimeDistributed)\n",
            "WARNING:tensorflow:From /usr/local/lib/python3.7/dist-packages/keras/optimizers.py:757: The name tf.train.Optimizer is deprecated. Please use tf.compat.v1.train.Optimizer instead.\n",
            "\n"
          ],
          "name": "stdout"
        },
        {
          "output_type": "stream",
          "text": [
            "/usr/local/lib/python3.7/dist-packages/tensorflow_core/python/framework/indexed_slices.py:424: UserWarning: Converting sparse IndexedSlices to a dense Tensor of unknown shape. This may consume a large amount of memory.\n",
            "  \"Converting sparse IndexedSlices to a dense Tensor of unknown shape. \"\n",
            "/usr/local/lib/python3.7/dist-packages/tensorflow_core/python/framework/indexed_slices.py:424: UserWarning: Converting sparse IndexedSlices to a dense Tensor of unknown shape. This may consume a large amount of memory.\n",
            "  \"Converting sparse IndexedSlices to a dense Tensor of unknown shape. \"\n",
            "/usr/local/lib/python3.7/dist-packages/tensorflow_core/python/framework/indexed_slices.py:424: UserWarning: Converting sparse IndexedSlices to a dense Tensor of unknown shape. This may consume a large amount of memory.\n",
            "  \"Converting sparse IndexedSlices to a dense Tensor of unknown shape. \"\n"
          ],
          "name": "stderr"
        },
        {
          "output_type": "stream",
          "text": [
            "WARNING:tensorflow:From /usr/local/lib/python3.7/dist-packages/keras/backend/tensorflow_backend.py:977: The name tf.assign_add is deprecated. Please use tf.compat.v1.assign_add instead.\n",
            "\n",
            "WARNING:tensorflow:From /usr/local/lib/python3.7/dist-packages/keras/backend/tensorflow_backend.py:964: The name tf.assign is deprecated. Please use tf.compat.v1.assign instead.\n",
            "\n"
          ],
          "name": "stdout"
        },
        {
          "output_type": "stream",
          "text": [
            "/usr/local/lib/python3.7/dist-packages/keras/engine/training.py:2087: UserWarning: Using a generator with `use_multiprocessing=True` and multiple workers may duplicate your data. Please consider using the`keras.utils.Sequence class.\n",
            "  UserWarning('Using a generator with `use_multiprocessing=True`'\n"
          ],
          "name": "stderr"
        },
        {
          "output_type": "stream",
          "text": [
            "WARNING:tensorflow:From /usr/local/lib/python3.7/dist-packages/keras/callbacks.py:783: The name tf.summary.merge_all is deprecated. Please use tf.compat.v1.summary.merge_all instead.\n",
            "\n",
            "WARNING:tensorflow:From /usr/local/lib/python3.7/dist-packages/keras/callbacks.py:786: The name tf.summary.FileWriter is deprecated. Please use tf.compat.v1.summary.FileWriter instead.\n",
            "\n",
            "Epoch 1/10\n"
          ],
          "name": "stdout"
        },
        {
          "output_type": "stream",
          "text": [
            "ERROR:root:Error processing image {'id': 'set2_61m.png', 'source': 'object', 'path': '/content/drive/MyDrive/APHIS Farm Bill (2020Milestones)/Protocols/For John/images/New set for John/collection/four_chambers/train/set2_61m.png', 'width': 2988, 'height': 5312, 'polygons': [{'name': 'ellipse', 'cx': 1027, 'cy': 2872, 'rx': 128, 'ry': 73, 'theta': 0}, {'name': 'ellipse', 'cx': 917, 'cy': 2078, 'rx': 67, 'ry': 49, 'theta': 0}, {'name': 'ellipse', 'cx': 1283, 'cy': 2132, 'rx': 49, 'ry': 67, 'theta': 0}, {'name': 'polygon', 'all_points_x': [1004, 1159, 1205, 1269, 1320, 1311, 1274, 1178, 1059, 953, 903, 862, 866, 880, 907], 'all_points_y': [2058, 2067, 2085, 2145, 2232, 2392, 2488, 2521, 2530, 2502, 2452, 2351, 2264, 2172, 2131]}, {'name': 'polygon', 'all_points_x': [1741, 1842, 1952, 2044, 2108, 2131, 2122, 2090, 1989, 1874, 1778, 1723, 1686, 1682, 1686, 1705], 'all_points_y': [2062, 2030, 2021, 2039, 2104, 2204, 2351, 2429, 2475, 2484, 2470, 2438, 2360, 2282, 2191, 2117]}, {'name': 'polygon', 'all_points_x': [1769, 1838, 1934, 2039, 2090, 2113, 2104, 2062, 1994, 1874, 1792, 1719, 1664, 1654, 1664, 1696], 'all_points_y': [2832, 2823, 2823, 2855, 2910, 3080, 3171, 3245, 3281, 3295, 3281, 3240, 3162, 3043, 2942, 2864]}, {'name': 'polygon', 'all_points_x': [1059, 958, 894, 884, 889, 917, 1054, 1182, 1279, 1334, 1357, 1320, 1201], 'all_points_y': [3254, 3226, 3176, 3070, 2938, 2906, 2933, 2823, 2855, 2951, 3103, 3208, 3268]}, {'name': 'ellipse', 'cx': 2273, 'cy': 1916, 'rx': 170, 'ry': 183, 'theta': 0}, {'name': 'ellipse', 'cx': 1499, 'cy': 1604, 'rx': 183, 'ry': 183, 'theta': 0}, {'name': 'ellipse', 'cx': 752, 'cy': 1916, 'rx': 174, 'ry': 174, 'theta': 0}, {'name': 'ellipse', 'cx': 2273, 'cy': 3451, 'rx': 179, 'ry': 206, 'theta': 0}, {'name': 'ellipse', 'cx': 1499, 'cy': 3776, 'rx': 188, 'ry': 211, 'theta': 0}], 'num_ids': [1, 1, 1, 2, 2, 2, 2, 1, 1, 1, 1, 1]}\n",
            "Traceback (most recent call last):\n",
            "  File \"/content/Mask_RCNN/mrcnn/model.py\", line 1709, in data_generator\n",
            "    use_mini_mask=config.USE_MINI_MASK)\n",
            "  File \"/content/Mask_RCNN/mrcnn/model.py\", line 1212, in load_image_gt\n",
            "    mask, class_ids = dataset.load_mask(image_id)\n",
            "  File \"<ipython-input-60-8725ce83668f>\", line 93, in load_mask\n",
            "    rr, cc = skimage.draw.polygon(p['all_points_y'], p['all_points_x'])\n",
            "KeyError: 'all_points_y'\n",
            "ERROR:root:Error processing image {'id': 'set4_61m.png', 'source': 'object', 'path': '/content/drive/MyDrive/APHIS Farm Bill (2020Milestones)/Protocols/For John/images/New set for John/collection/four_chambers/train/set4_61m.png', 'width': 2988, 'height': 5312, 'polygons': [{'name': 'ellipse', 'cx': 1022, 'cy': 2870, 'rx': 126, 'ry': 77, 'theta': 0}, {'name': 'ellipse', 'cx': 1290, 'cy': 2129, 'rx': 69, 'ry': 65, 'theta': 0}, {'name': 'ellipse', 'cx': 920, 'cy': 2076, 'rx': 73, 'ry': 61, 'theta': 0}, {'name': 'polygon', 'all_points_x': [1722, 1812, 1958, 2052, 2113, 2129, 2117, 2080, 1974, 1864, 1767, 1710, 1685, 1673, 1693], 'all_points_y': [2068, 2035, 2015, 2044, 2145, 2259, 2365, 2438, 2475, 2491, 2463, 2414, 2341, 2202, 2109]}, {'name': 'polygon', 'all_points_x': [1730, 1844, 1983, 2052, 2105, 2105, 2052, 1987, 1873, 1775, 1718, 1669, 1661, 1698], 'all_points_y': [2846, 2817, 2833, 2874, 3021, 3163, 3244, 3277, 3285, 3273, 3224, 3147, 2992, 2890]}, {'name': 'polygon', 'all_points_x': [953, 904, 892, 900, 957, 1062, 1172, 1189, 1327, 1343, 1331, 1270, 1107, 1018], 'all_points_y': [3220, 3183, 3041, 2919, 2964, 2964, 2907, 2829, 2882, 3008, 3179, 3253, 3273, 3265]}, {'name': 'polygon', 'all_points_x': [883, 953, 1014, 1030, 1164, 1205, 1213, 1242, 1323, 1327, 1307, 1262, 1176, 1054, 957, 896, 855, 863], 'all_points_y': [2153, 2166, 2121, 2056, 2084, 2092, 2170, 2202, 2219, 2308, 2426, 2491, 2520, 2524, 2491, 2443, 2337, 2259]}, {'name': 'ellipse', 'cx': 1518, 'cy': 1604, 'rx': 179, 'ry': 159, 'theta': 0}, {'name': 'ellipse', 'cx': 761, 'cy': 1909, 'rx': 171, 'ry': 171, 'theta': 0}, {'name': 'ellipse', 'cx': 2296, 'cy': 1930, 'rx': 183, 'ry': 183, 'theta': 0}, {'name': 'ellipse', 'cx': 2288, 'cy': 3461, 'rx': 183, 'ry': 204, 'theta': 0}, {'name': 'ellipse', 'cx': 1478, 'cy': 3762, 'rx': 187, 'ry': 224, 'theta': 0}], 'num_ids': [1, 1, 1, 2, 2, 2, 2, 1, 1, 1, 1, 1]}\n",
            "Traceback (most recent call last):\n",
            "  File \"/content/Mask_RCNN/mrcnn/model.py\", line 1709, in data_generator\n",
            "    use_mini_mask=config.USE_MINI_MASK)\n",
            "  File \"/content/Mask_RCNN/mrcnn/model.py\", line 1212, in load_image_gt\n",
            "    mask, class_ids = dataset.load_mask(image_id)\n",
            "  File \"<ipython-input-60-8725ce83668f>\", line 93, in load_mask\n",
            "    rr, cc = skimage.draw.polygon(p['all_points_y'], p['all_points_x'])\n",
            "KeyError: 'all_points_y'\n",
            "ERROR:root:Error processing image {'id': 'set3_00m.png', 'source': 'object', 'path': '/content/drive/MyDrive/APHIS Farm Bill (2020Milestones)/Protocols/For John/images/New set for John/collection/four_chambers/train/set3_00m.png', 'width': 2988, 'height': 5312, 'polygons': [{'name': 'ellipse', 'cx': 1155, 'cy': 2461, 'rx': 78, 'ry': 78, 'theta': 0}, {'name': 'ellipse', 'cx': 1233, 'cy': 2937, 'rx': 82, 'ry': 64, 'theta': 0}, {'name': 'ellipse', 'cx': 1939, 'cy': 2910, 'rx': 96, 'ry': 92, 'theta': 0}, {'name': 'ellipse', 'cx': 1806, 'cy': 3199, 'rx': 55, 'ry': 46, 'theta': 0}, {'name': 'ellipse', 'cx': 1842, 'cy': 2420, 'rx': 78, 'ry': 78, 'theta': 0}, {'name': 'ellipse', 'cx': 1998, 'cy': 2314, 'rx': 55, 'ry': 55, 'theta': 0}, {'name': 'polygon', 'all_points_x': [1631, 1737, 1874, 1989, 2053, 2044, 1984, 1906, 1760, 1636, 1618, 1595, 1595], 'all_points_y': [2117, 2076, 2049, 2094, 2204, 2323, 2433, 2479, 2511, 2470, 2429, 2310, 2209]}, {'name': 'polygon', 'all_points_x': [1691, 1806, 1893, 2067, 2085, 2071, 1984, 1870, 1719, 1691, 1664, 1650, 1668], 'all_points_y': [2828, 2796, 2800, 2951, 3052, 3158, 3203, 3226, 3231, 3190, 3084, 2933, 2864]}, {'name': 'polygon', 'all_points_x': [1324, 1352, 1343, 1311, 1251, 1150, 1027, 953, 903, 880, 903, 935, 1031, 1137, 1141, 1242, 1297], 'all_points_y': [2965, 3107, 3185, 3254, 3286, 3313, 3313, 3277, 3194, 3075, 2965, 2915, 2883, 2873, 2988, 3029, 2997]}, {'name': 'polygon', 'all_points_x': [1123, 1036, 930, 862, 820, 793, 793, 811, 852, 981, 1104, 1205, 1237, 1251, 1251, 1205, 1123, 1063, 1077], 'all_points_y': [2543, 2576, 2566, 2543, 2488, 2388, 2291, 2209, 2163, 2140, 2136, 2177, 2264, 2365, 2433, 2388, 2374, 2429, 2498]}], 'num_ids': [1, 1, 1, 1, 1, 1, 2, 2, 2, 2]}\n",
            "Traceback (most recent call last):\n",
            "  File \"/content/Mask_RCNN/mrcnn/model.py\", line 1709, in data_generator\n",
            "    use_mini_mask=config.USE_MINI_MASK)\n",
            "  File \"/content/Mask_RCNN/mrcnn/model.py\", line 1212, in load_image_gt\n",
            "    mask, class_ids = dataset.load_mask(image_id)\n",
            "  File \"<ipython-input-60-8725ce83668f>\", line 93, in load_mask\n",
            "    rr, cc = skimage.draw.polygon(p['all_points_y'], p['all_points_x'])\n",
            "KeyError: 'all_points_y'\n",
            "ERROR:root:Error processing image {'id': 'set3_61m.png', 'source': 'object', 'path': '/content/drive/MyDrive/APHIS Farm Bill (2020Milestones)/Protocols/For John/images/New set for John/collection/four_chambers/train/set3_61m.png', 'width': 2988, 'height': 5312, 'polygons': [{'name': 'ellipse', 'cx': 1042, 'cy': 2870, 'rx': 114, 'ry': 65, 'theta': 0}, {'name': 'ellipse', 'cx': 1275, 'cy': 2125, 'rx': 44.779, 'ry': 81.823, 'theta': 3.042}, {'name': 'ellipse', 'cx': 936, 'cy': 2092, 'rx': 69, 'ry': 49, 'theta': 0}, {'name': 'polygon', 'all_points_x': [1022, 1148, 1213, 1217, 1266, 1319, 1323, 1299, 1225, 1152, 1050, 957, 892, 871, 879, 904, 993, 1018], 'all_points_y': [2076, 2080, 2101, 2166, 2227, 2219, 2333, 2451, 2508, 2524, 2524, 2499, 2410, 2329, 2227, 2149, 2149, 2109]}, {'name': 'polygon', 'all_points_x': [1738, 1869, 1983, 2044, 2088, 2125, 2121, 2113, 2101, 1991, 1897, 1791, 1726, 1693, 1677, 1673, 1693], 'all_points_y': [2056, 2019, 2019, 2035, 2109, 2190, 2288, 2365, 2426, 2471, 2491, 2475, 2451, 2381, 2292, 2178, 2113]}, {'name': 'polygon', 'all_points_x': [1755, 1848, 1942, 2031, 2076, 2113, 2101, 2080, 2044, 1974, 1856, 1787, 1718, 1681, 1661, 1657, 1710], 'all_points_y': [2833, 2817, 2833, 2850, 2894, 3041, 3159, 3228, 3253, 3281, 3289, 3285, 3249, 3175, 3098, 3000, 2903]}, {'name': 'polygon', 'all_points_x': [997, 1115, 1193, 1290, 1335, 1352, 1331, 1242, 1181, 1172, 1107, 977, 892, 892, 904, 916], 'all_points_y': [3240, 3277, 3269, 3253, 3171, 3090, 2894, 2841, 2817, 2886, 2960, 2960, 2915, 3004, 3106, 3175]}, {'name': 'ellipse', 'cx': 1490, 'cy': 1612, 'rx': 204, 'ry': 151, 'theta': 0}, {'name': 'ellipse', 'cx': 745, 'cy': 1889, 'rx': 171, 'ry': 179, 'theta': 0}, {'name': 'ellipse', 'cx': 2305, 'cy': 1926, 'rx': 163, 'ry': 179, 'theta': 0}, {'name': 'ellipse', 'cx': 2283, 'cy': 3481, 'rx': 163, 'ry': 187, 'theta': 0}, {'name': 'ellipse', 'cx': 1518, 'cy': 3753, 'rx': 191, 'ry': 220, 'theta': 0}, {'name': 'ellipse', 'cx': 733, 'cy': 3432, 'rx': 195, 'ry': 216, 'theta': 0}], 'num_ids': [1, 1, 1, 2, 2, 2, 2, 1, 1, 1, 1, 1, 1]}\n",
            "Traceback (most recent call last):\n",
            "  File \"/content/Mask_RCNN/mrcnn/model.py\", line 1709, in data_generator\n",
            "    use_mini_mask=config.USE_MINI_MASK)\n",
            "  File \"/content/Mask_RCNN/mrcnn/model.py\", line 1212, in load_image_gt\n",
            "    mask, class_ids = dataset.load_mask(image_id)\n",
            "  File \"<ipython-input-60-8725ce83668f>\", line 93, in load_mask\n",
            "    rr, cc = skimage.draw.polygon(p['all_points_y'], p['all_points_x'])\n",
            "KeyError: 'all_points_y'\n",
            "ERROR:root:Error processing image {'id': 'set8_00m.png', 'source': 'object', 'path': '/content/drive/MyDrive/APHIS Farm Bill (2020Milestones)/Protocols/For John/images/New set for John/collection/four_chambers/train/set8_00m.png', 'width': 2988, 'height': 5312, 'polygons': [{'name': 'ellipse', 'cx': 859, 'cy': 2027, 'rx': 94, 'ry': 98, 'theta': 0}, {'name': 'ellipse', 'cx': 1690, 'cy': 2804, 'rx': 75, 'ry': 67, 'theta': 0}, {'name': 'polygon', 'all_points_x': [972, 1035, 1110, 1188, 1243, 1263, 1251, 1231, 1165, 1082, 1012, 921, 882, 847, 831, 827, 827, 902, 976, 980], 'all_points_y': [1996, 2000, 2000, 2016, 2102, 2196, 2298, 2388, 2423, 2447, 2455, 2431, 2419, 2365, 2255, 2161, 2149, 2149, 2082, 2043]}, {'name': 'polygon', 'all_points_x': [1619, 1706, 1855, 1957, 2004, 2023, 2019, 1988, 1957, 1890, 1827, 1698, 1616, 1592, 1572, 1584], 'all_points_y': [2039, 2016, 2027, 2070, 2094, 2223, 2317, 2400, 2451, 2466, 2470, 2455, 2408, 2349, 2255, 2125]}, {'name': 'polygon', 'all_points_x': [1765, 1823, 1921, 1988, 2035, 2051, 2039, 2019, 1953, 1870, 1741, 1682, 1623, 1616, 1600, 1616, 1623, 1698, 1757, 1780, 1780], 'all_points_y': [2761, 2757, 2768, 2804, 2894, 2988, 3078, 3145, 3180, 3192, 3176, 3161, 3125, 3078, 2988, 2906, 2878, 2890, 2870, 2827, 2788]}, {'name': 'polygon', 'all_points_x': [1012, 945, 859, 827, 792, 792, 812, 835, 925, 1047, 1149, 1208, 1235, 1235, 1216, 1176, 1106], 'all_points_y': [3247, 3251, 3215, 3172, 3090, 3004, 2902, 2827, 2796, 2784, 2808, 2855, 2941, 3047, 3141, 3200, 3227]}, {'name': 'ellipse', 'cx': 1525, 'cy': 1627, 'rx': 188, 'ry': 165, 'theta': 0}, {'name': 'ellipse', 'cx': 2294, 'cy': 1965, 'rx': 176, 'ry': 196, 'theta': 0}, {'name': 'ellipse', 'cx': 745, 'cy': 1945, 'rx': 177.196, 'ry': 160.772, 'theta': -0.434}, {'name': 'ellipse', 'cx': 451, 'cy': 2698, 'rx': 188, 'ry': 208, 'theta': 0}, {'name': 'ellipse', 'cx': 745, 'cy': 3455, 'rx': 204, 'ry': 212, 'theta': 0}, {'name': 'ellipse', 'cx': 2294, 'cy': 3486, 'rx': 196, 'ry': 204, 'theta': 0}, {'name': 'ellipse', 'cx': 1518, 'cy': 3772, 'rx': 220, 'ry': 173, 'theta': 0}], 'num_ids': [1, 1, 2, 2, 2, 2, 1, 1, 1, 1, 1, 1, 1]}\n",
            "Traceback (most recent call last):\n",
            "  File \"/content/Mask_RCNN/mrcnn/model.py\", line 1709, in data_generator\n",
            "    use_mini_mask=config.USE_MINI_MASK)\n",
            "  File \"/content/Mask_RCNN/mrcnn/model.py\", line 1212, in load_image_gt\n",
            "    mask, class_ids = dataset.load_mask(image_id)\n",
            "  File \"<ipython-input-60-8725ce83668f>\", line 93, in load_mask\n",
            "    rr, cc = skimage.draw.polygon(p['all_points_y'], p['all_points_x'])\n",
            "KeyError: 'all_points_y'\n",
            "ERROR:root:Error processing image {'id': 'set1_00m.png', 'source': 'object', 'path': '/content/drive/MyDrive/APHIS Farm Bill (2020Milestones)/Protocols/For John/images/New set for John/collection/four_chambers/train/set1_00m.png', 'width': 2988, 'height': 5312, 'polygons': [{'name': 'circle', 'cx': 1173, 'cy': 2466, 'r': 59}, {'name': 'circle', 'cx': 1851, 'cy': 2429, 'r': 64.16}, {'name': 'ellipse', 'cx': 1237, 'cy': 2924, 'rx': 92, 'ry': 64, 'theta': 0}, {'name': 'circle', 'cx': 1925, 'cy': 2896, 'r': 123}, {'name': 'circle', 'cx': 1806, 'cy': 3190, 'r': 52}, {'name': 'polygon', 'all_points_x': [816, 990, 1091, 1201, 1247, 1237, 1155, 1008, 852, 770, 788], 'all_points_y': [2163, 2126, 2126, 2191, 2356, 2466, 2548, 2566, 2548, 2383, 2255]}, {'name': 'polygon', 'all_points_x': [1659, 1851, 1980, 2044, 2035, 1989, 1925, 1778, 1659, 1622, 1595, 1613], 'all_points_y': [2071, 2026, 2071, 2200, 2346, 2456, 2484, 2521, 2502, 2466, 2319, 2163]}, {'name': 'polygon', 'all_points_x': [1677, 1787, 1943, 2053, 2081, 2090, 2062, 1971, 1870, 1769, 1696, 1659, 1641, 1659], 'all_points_y': [2841, 2796, 2768, 2841, 2942, 3070, 3144, 3190, 3226, 3245, 3208, 3116, 2997, 2915]}, {'name': 'polygon', 'all_points_x': [984, 1088, 1210, 1302, 1338, 1357, 1350, 1338, 1265, 1204, 1100, 1045, 972, 917, 892, 898, 917], 'all_points_y': [3300, 3324, 3306, 3257, 3190, 3092, 2994, 2951, 2902, 2884, 2872, 2884, 2902, 2945, 3006, 3116, 3214]}, {'name': 'ellipse', 'cx': 1509, 'cy': 1613, 'rx': 214, 'ry': 165, 'theta': 0}, {'name': 'ellipse', 'cx': 2255, 'cy': 1943, 'rx': 189, 'ry': 196, 'theta': 0}, {'name': 'ellipse', 'cx': 2536, 'cy': 2750, 'rx': 189, 'ry': 196, 'theta': 0}, {'name': 'ellipse', 'cx': 2261, 'cy': 3459, 'rx': 226, 'ry': 220, 'theta': 0}, {'name': 'ellipse', 'cx': 1503, 'cy': 3758, 'rx': 220, 'ry': 220, 'theta': 0}, {'name': 'ellipse', 'cx': 733, 'cy': 3446, 'rx': 220, 'ry': 214, 'theta': 0}, {'name': 'ellipse', 'cx': 745, 'cy': 1937, 'rx': 202, 'ry': 196, 'theta': 0}], 'num_ids': [1, 1, 1, 1, 1, 2, 2, 2, 2, 1, 1, 1, 1, 1, 1, 1]}\n",
            "Traceback (most recent call last):\n",
            "  File \"/content/Mask_RCNN/mrcnn/model.py\", line 1709, in data_generator\n",
            "    use_mini_mask=config.USE_MINI_MASK)\n",
            "  File \"/content/Mask_RCNN/mrcnn/model.py\", line 1212, in load_image_gt\n",
            "    mask, class_ids = dataset.load_mask(image_id)\n",
            "  File \"<ipython-input-60-8725ce83668f>\", line 93, in load_mask\n",
            "    rr, cc = skimage.draw.polygon(p['all_points_y'], p['all_points_x'])\n",
            "KeyError: 'all_points_y'\n",
            "ERROR:root:Error processing image {'id': 'set5_00m.png', 'source': 'object', 'path': '/content/drive/MyDrive/APHIS Farm Bill (2020Milestones)/Protocols/For John/images/New set for John/collection/four_chambers/train/set5_00m.png', 'width': 2988, 'height': 5312, 'polygons': [{'name': 'ellipse', 'cx': 1156, 'cy': 2459, 'rx': 77, 'ry': 77, 'theta': 0}, {'name': 'ellipse', 'cx': 1836, 'cy': 2418, 'rx': 77, 'ry': 73, 'theta': 0}, {'name': 'ellipse', 'cx': 2003, 'cy': 2316, 'rx': 53, 'ry': 45, 'theta': 0}, {'name': 'ellipse', 'cx': 1225, 'cy': 2931, 'rx': 85, 'ry': 77, 'theta': 0}, {'name': 'ellipse', 'cx': 1930, 'cy': 2907, 'rx': 102, 'ry': 98, 'theta': 0}, {'name': 'ellipse', 'cx': 1803, 'cy': 3204, 'rx': 53, 'ry': 53, 'theta': 0}, {'name': 'polygon', 'all_points_x': [822, 916, 1046, 1193, 1221, 1250, 1189, 1115, 1071, 1067, 1091, 1115, 1034, 932, 863, 835, 802, 798], 'all_points_y': [2174, 2149, 2137, 2170, 2223, 2414, 2373, 2369, 2414, 2475, 2532, 2556, 2569, 2561, 2540, 2504, 2386, 2308]}, {'name': 'polygon', 'all_points_x': [1606, 1700, 1837, 1940, 1992, 2052, 2026, 1915, 1769, 1752, 1769, 1666, 1606, 1597], 'all_points_y': [2129, 2086, 2052, 2061, 2086, 2215, 2293, 2327, 2361, 2464, 2516, 2490, 2456, 2301]}, {'name': 'polygon', 'all_points_x': [1847, 1809, 1793, 1831, 1891, 2043, 2059, 2075, 2086, 2059, 2016, 1934, 1874, 1874, 1863, 1809, 1782, 1744, 1728, 1728, 1690, 1652, 1657, 1700, 1749], 'all_points_y': [2787, 2852, 2923, 2999, 3026, 2983, 2950, 2999, 3113, 3162, 3189, 3216, 3232, 3189, 3151, 3135, 3124, 3156, 3200, 3232, 3189, 2955, 2868, 2836, 2820]}, {'name': 'polygon', 'all_points_x': [1320, 1353, 1347, 1304, 1244, 1146, 1049, 983, 929, 891, 891, 913, 951, 1016, 1092, 1119, 1119, 1141, 1190, 1271, 1309], 'all_points_y': [2961, 3075, 3178, 3265, 3292, 3314, 3314, 3292, 3249, 3151, 3059, 2950, 2907, 2890, 2874, 2879, 2939, 3004, 3021, 3026, 2999]}, {'name': 'ellipse', 'cx': 1505, 'cy': 1597, 'rx': 212, 'ry': 163, 'theta': 0}, {'name': 'ellipse', 'cx': 2309, 'cy': 1939, 'rx': 174, 'ry': 174, 'theta': 0}, {'name': 'ellipse', 'cx': 2274, 'cy': 3468, 'rx': 206, 'ry': 234, 'theta': 0}, {'name': 'ellipse', 'cx': 1499, 'cy': 3781, 'rx': 203, 'ry': 246, 'theta': 0}, {'name': 'ellipse', 'cx': 717, 'cy': 3462, 'rx': 203, 'ry': 232, 'theta': 0}, {'name': 'ellipse', 'cx': 739, 'cy': 1949, 'rx': 188, 'ry': 188, 'theta': 0}], 'num_ids': [1, 1, 1, 1, 1, 1, 2, 2, 2, 2, 1, 1, 1, 1, 1, 1]}\n",
            "Traceback (most recent call last):\n",
            "  File \"/content/Mask_RCNN/mrcnn/model.py\", line 1709, in data_generator\n",
            "    use_mini_mask=config.USE_MINI_MASK)\n",
            "  File \"/content/Mask_RCNN/mrcnn/model.py\", line 1212, in load_image_gt\n",
            "    mask, class_ids = dataset.load_mask(image_id)\n",
            "  File \"<ipython-input-60-8725ce83668f>\", line 93, in load_mask\n",
            "    rr, cc = skimage.draw.polygon(p['all_points_y'], p['all_points_x'])\n",
            "KeyError: 'all_points_y'\n",
            "ERROR:root:Error processing image {'id': 'set1_61m.png', 'source': 'object', 'path': '/content/drive/MyDrive/APHIS Farm Bill (2020Milestones)/Protocols/For John/images/New set for John/collection/four_chambers/train/set1_61m.png', 'width': 2988, 'height': 5312, 'polygons': [{'name': 'ellipse', 'cx': 1020, 'cy': 2878, 'rx': 122, 'ry': 67, 'theta': 0}, {'name': 'polygon', 'all_points_x': [1210, 1253, 1289, 1326, 1320, 1265, 1240], 'all_points_y': [2126, 2181, 2218, 2212, 2139, 2078, 2078]}, {'name': 'polygon', 'all_points_x': [874, 941, 990, 1008, 990, 959, 910], 'all_points_y': [2133, 2145, 2120, 2078, 2047, 2047, 2078]}, {'name': 'polygon', 'all_points_x': [1033, 1179, 1289, 1320, 1302, 1253, 1149, 1008, 923, 862, 849, 880, 917], 'all_points_y': [2047, 2071, 2157, 2273, 2426, 2499, 2530, 2517, 2487, 2371, 2261, 2151, 2108]}, {'name': 'polygon', 'all_points_x': [1723, 1851, 1992, 2102, 2145, 2126, 2102, 2059, 1937, 1809, 1711, 1680, 1680, 1680], 'all_points_y': [2047, 2010, 2016, 2096, 2212, 2322, 2401, 2450, 2493, 2481, 2438, 2346, 2212, 2139]}, {'name': 'polygon', 'all_points_x': [1711, 1815, 1925, 2035, 2078, 2114, 2114, 2090, 2047, 1949, 1821, 1741, 1686, 1656, 1668], 'all_points_y': [2860, 2823, 2817, 2854, 2915, 3025, 3141, 3208, 3257, 3287, 3294, 3269, 3202, 3067, 2933]}, {'name': 'polygon', 'all_points_x': [1143, 1210, 1302, 1338, 1357, 1332, 1302, 1216, 1112, 996, 910, 892, 892, 886, 923, 990], 'all_points_y': [2805, 2805, 2872, 2951, 3067, 3177, 3245, 3275, 3275, 3257, 3202, 3116, 3006, 2939, 2878, 2847]}, {'name': 'ellipse', 'cx': 2280, 'cy': 1931, 'rx': 189, 'ry': 214, 'theta': 0}, {'name': 'ellipse', 'cx': 1491, 'cy': 1607, 'rx': 183, 'ry': 159, 'theta': 0}, {'name': 'ellipse', 'cx': 770, 'cy': 1906, 'rx': 208, 'ry': 196, 'theta': 0}, {'name': 'ellipse', 'cx': 733, 'cy': 3434, 'rx': 208, 'ry': 202, 'theta': 0}, {'name': 'ellipse', 'cx': 1503, 'cy': 3776, 'rx': 202, 'ry': 208, 'theta': 0}, {'name': 'ellipse', 'cx': 2267, 'cy': 3452, 'rx': 208, 'ry': 214, 'theta': 0}], 'num_ids': [1, 1, 1, 2, 2, 2, 2, 1, 1, 1, 1, 1, 1]}\n",
            "Traceback (most recent call last):\n",
            "  File \"/content/Mask_RCNN/mrcnn/model.py\", line 1709, in data_generator\n",
            "    use_mini_mask=config.USE_MINI_MASK)\n",
            "  File \"/content/Mask_RCNN/mrcnn/model.py\", line 1212, in load_image_gt\n",
            "    mask, class_ids = dataset.load_mask(image_id)\n",
            "  File \"<ipython-input-60-8725ce83668f>\", line 93, in load_mask\n",
            "    rr, cc = skimage.draw.polygon(p['all_points_y'], p['all_points_x'])\n",
            "KeyError: 'all_points_y'\n",
            "ERROR:root:Error processing image {'id': 'set5_61m.png', 'source': 'object', 'path': '/content/drive/MyDrive/APHIS Farm Bill (2020Milestones)/Protocols/For John/images/New set for John/collection/four_chambers/train/set5_61m.png', 'width': 2988, 'height': 5312, 'polygons': [{'name': 'ellipse', 'cx': 1021, 'cy': 2883, 'rx': 145.054, 'ry': 65.193, 'theta': -0.05}, {'name': 'ellipse', 'cx': 913, 'cy': 2086, 'rx': 65, 'ry': 51, 'theta': 0}, {'name': 'ellipse', 'cx': 1289, 'cy': 2115, 'rx': 58, 'ry': 65, 'theta': 0}, {'name': 'polygon', 'all_points_x': [1181, 1289, 1333, 1347, 1333, 1297, 1210, 1058, 1000, 927, 898, 898, 898, 898, 956, 1021, 1137, 1188], 'all_points_y': [2840, 2861, 2919, 3071, 3158, 3238, 3274, 3274, 3245, 3209, 3173, 3064, 2984, 2963, 2970, 2984, 2948, 2897]}, {'name': 'polygon', 'all_points_x': [1000, 1181, 1210, 1275, 1318, 1318, 1304, 1282, 1217, 1137, 1050, 971, 905, 876, 876, 884, 891, 949, 985, 1007], 'all_points_y': [2057, 2072, 2144, 2209, 2217, 2303, 2405, 2477, 2506, 2521, 2514, 2499, 2456, 2376, 2289, 2195, 2166, 2166, 2130, 2108]}, {'name': 'polygon', 'all_points_x': [1840, 1941, 2021, 2072, 2101, 2122, 2122, 2086, 1956, 1854, 1760, 1709, 1688, 1688, 1717, 1775], 'all_points_y': [2021, 2021, 2021, 2072, 2130, 2209, 2325, 2434, 2485, 2485, 2470, 2419, 2325, 2188, 2093, 2057]}, {'name': 'polygon', 'all_points_x': [1717, 1796, 1905, 2014, 2057, 2093, 2108, 2072, 1985, 1840, 1738, 1681, 1659, 1681], 'all_points_y': [2847, 2832, 2832, 2847, 2883, 3013, 3122, 3223, 3289, 3296, 3260, 3194, 3093, 2941]}, {'name': 'ellipse', 'cx': 1499, 'cy': 1608, 'rx': 203, 'ry': 138, 'theta': 0}, {'name': 'ellipse', 'cx': 2296, 'cy': 1920, 'rx': 167, 'ry': 159, 'theta': 0}, {'name': 'ellipse', 'cx': 2282, 'cy': 3492, 'rx': 174, 'ry': 167, 'theta': 0}, {'name': 'ellipse', 'cx': 1499, 'cy': 3795, 'rx': 181, 'ry': 203, 'theta': 0}], 'num_ids': [1, 1, 1, 2, 2, 2, 2, 1, 1, 1, 1]}\n",
            "Traceback (most recent call last):\n",
            "  File \"/content/Mask_RCNN/mrcnn/model.py\", line 1709, in data_generator\n",
            "    use_mini_mask=config.USE_MINI_MASK)\n",
            "  File \"/content/Mask_RCNN/mrcnn/model.py\", line 1212, in load_image_gt\n",
            "    mask, class_ids = dataset.load_mask(image_id)\n",
            "  File \"<ipython-input-60-8725ce83668f>\", line 93, in load_mask\n",
            "    rr, cc = skimage.draw.polygon(p['all_points_y'], p['all_points_x'])\n",
            "KeyError: 'all_points_y'\n",
            "ERROR:root:Error processing image {'id': 'set8_61m.png', 'source': 'object', 'path': '/content/drive/MyDrive/APHIS Farm Bill (2020Milestones)/Protocols/For John/images/New set for John/collection/four_chambers/train/set8_61m.png', 'width': 2988, 'height': 5312, 'polygons': [{'name': 'ellipse', 'cx': 961, 'cy': 2321, 'rx': 94, 'ry': 86, 'theta': 0}, {'name': 'ellipse', 'cx': 1020, 'cy': 2976, 'rx': 63, 'ry': 59, 'theta': 0}, {'name': 'ellipse', 'cx': 1004, 'cy': 3133, 'rx': 63, 'ry': 59, 'theta': 0}, {'name': 'polygon', 'all_points_x': [871, 886, 1071, 1247, 1310, 1329, 1329, 1278, 1196, 1023, 969, 918, 988, 1051, 1067, 1082, 1039, 941, 878], 'all_points_y': [2227, 2106, 2059, 2055, 2137, 2255, 2345, 2427, 2451, 2482, 2474, 2423, 2423, 2408, 2345, 2278, 2227, 2219, 2255]}, {'name': 'polygon', 'all_points_x': [1674, 1772, 1886, 1992, 2047, 2070, 2070, 2008, 1894, 1776, 1674, 1651, 1612, 1635], 'all_points_y': [1996, 1972, 1972, 1984, 2051, 2172, 2306, 2368, 2396, 2400, 2372, 2357, 2180, 2059]}, {'name': 'polygon', 'all_points_x': [1835, 1957, 2074, 2121, 2157, 2180, 2184, 2117, 2086, 2074, 2074, 2098, 2019, 1929, 1851, 1788, 1765, 1729, 1714, 1729, 1745], 'all_points_y': [2710, 2698, 2729, 2757, 2831, 2949, 2972, 2976, 2996, 3047, 3086, 3117, 3137, 3137, 3137, 3110, 3070, 2968, 2906, 2823, 2772]}, {'name': 'polygon', 'all_points_x': [1086, 1074, 1039, 1082, 1102, 1086, 1031, 980, 957, 941, 921, 925, 957, 1047, 1165, 1270, 1329, 1357, 1372, 1357, 1310, 1220, 1106, 1051, 1008, 1074], 'all_points_y': [3137, 3102, 3055, 3019, 2972, 2917, 2890, 2894, 2917, 2961, 2992, 2906, 2831, 2788, 2772, 2780, 2831, 2941, 3031, 3110, 3164, 3212, 3231, 3231, 3219, 3176]}, {'name': 'ellipse', 'cx': 1514, 'cy': 1611, 'rx': 204, 'ry': 165, 'theta': 0}, {'name': 'ellipse', 'cx': 2290, 'cy': 1937, 'rx': 165, 'ry': 161, 'theta': 0}, {'name': 'ellipse', 'cx': 2149, 'cy': 3047, 'rx': 51, 'ry': 55, 'theta': 0}, {'name': 'ellipse', 'cx': 2302, 'cy': 3494, 'rx': 180, 'ry': 180, 'theta': 0}, {'name': 'polygon', 'all_points_x': [1549, 1584, 1584, 1549, 1435, 1353, 1349, 1361, 1361, 1251, 945, 623, 631, 1396, 1443, 1482, 2027, 2223, 2192, 1686], 'all_points_y': [3984, 3866, 3757, 3694, 3670, 3753, 3851, 3960, 3984, 3984, 4008, 4011, 4039, 4031, 4031, 4051, 4051, 4039, 4008, 3984]}], 'num_ids': [1, 1, 1, 2, 2, 2, 2, 1, 1, 1, 1, 1]}\n",
            "Traceback (most recent call last):\n",
            "  File \"/content/Mask_RCNN/mrcnn/model.py\", line 1709, in data_generator\n",
            "    use_mini_mask=config.USE_MINI_MASK)\n",
            "  File \"/content/Mask_RCNN/mrcnn/model.py\", line 1212, in load_image_gt\n",
            "    mask, class_ids = dataset.load_mask(image_id)\n",
            "  File \"<ipython-input-60-8725ce83668f>\", line 93, in load_mask\n",
            "    rr, cc = skimage.draw.polygon(p['all_points_y'], p['all_points_x'])\n",
            "KeyError: 'all_points_y'\n",
            "ERROR:root:Error processing image {'id': 'set4_00m.png', 'source': 'object', 'path': '/content/drive/MyDrive/APHIS Farm Bill (2020Milestones)/Protocols/For John/images/New set for John/collection/four_chambers/train/set4_00m.png', 'width': 2988, 'height': 5312, 'polygons': [{'name': 'ellipse', 'cx': 1164, 'cy': 2455, 'rx': 69, 'ry': 69, 'theta': 0}, {'name': 'ellipse', 'cx': 1844, 'cy': 2426, 'rx': 69, 'ry': 73, 'theta': 0}, {'name': 'ellipse', 'cx': 1999, 'cy': 2316, 'rx': 65, 'ry': 69, 'theta': 0}, {'name': 'ellipse', 'cx': 1942, 'cy': 2907, 'rx': 105.92, 'ry': 113.984, 'theta': -0.038}, {'name': 'ellipse', 'cx': 1799, 'cy': 3200, 'rx': 57, 'ry': 49, 'theta': 0}, {'name': 'ellipse', 'cx': 1229, 'cy': 2923, 'rx': 93.629, 'ry': 89.559, 'theta': 0}, {'name': 'polygon', 'all_points_x': [826, 932, 1095, 1201, 1233, 1254, 1250, 1172, 1103, 1075, 1115, 1124, 1071, 985, 875, 826, 798, 798], 'all_points_y': [2174, 2149, 2145, 2178, 2251, 2406, 2434, 2365, 2377, 2455, 2528, 2540, 2565, 2569, 2544, 2512, 2410, 2324]}, {'name': 'polygon', 'all_points_x': [1657, 1767, 1881, 1950, 2011, 2031, 2031, 1962, 1934, 1917, 1926, 1930, 1905, 1840, 1803, 1763, 1763, 1791, 1799, 1738, 1673, 1624, 1608, 1596, 1624], 'all_points_y': [2101, 2064, 2056, 2068, 2125, 2194, 2223, 2243, 2272, 2300, 2345, 2373, 2365, 2337, 2333, 2373, 2451, 2491, 2499, 2499, 2491, 2443, 2365, 2239, 2145]}, {'name': 'polygon', 'all_points_x': [1852, 1824, 1816, 1844, 1897, 1966, 2072, 2080, 2084, 2068, 2007, 1881, 1869, 1873, 1840, 1787, 1738, 1726, 1689, 1657, 1649, 1681, 1759], 'all_points_y': [2797, 2850, 2943, 2992, 3025, 3029, 2964, 2996, 3122, 3163, 3192, 3228, 3228, 3179, 3143, 3126, 3159, 3224, 3187, 3065, 2935, 2846, 2825]}, {'name': 'polygon', 'all_points_x': [1327, 1352, 1352, 1311, 1225, 1058, 985, 928, 896, 883, 900, 957, 1067, 1115, 1124, 1140, 1213, 1290], 'all_points_y': [2972, 3049, 3159, 3257, 3301, 3310, 3297, 3236, 3155, 3078, 2955, 2907, 2874, 2870, 2931, 2996, 3037, 3012]}, {'name': 'ellipse', 'cx': 1514, 'cy': 1608, 'rx': 216, 'ry': 167, 'theta': 0}, {'name': 'ellipse', 'cx': 749, 'cy': 1938, 'rx': 195, 'ry': 191, 'theta': 0}, {'name': 'ellipse', 'cx': 2283, 'cy': 1958, 'rx': 183, 'ry': 195, 'theta': 0}, {'name': 'ellipse', 'cx': 2548, 'cy': 2760, 'rx': 147, 'ry': 187, 'theta': 0}, {'name': 'ellipse', 'cx': 2283, 'cy': 3473, 'rx': 199, 'ry': 224, 'theta': 0}, {'name': 'ellipse', 'cx': 1498, 'cy': 3774, 'rx': 187, 'ry': 220, 'theta': 0}, {'name': 'ellipse', 'cx': 708, 'cy': 3452, 'rx': 187, 'ry': 195, 'theta': 0}], 'num_ids': [1, 1, 1, 1, 1, 1, 2, 2, 2, 2, 1, 1, 1, 1, 1, 1, 1]}\n",
            "Traceback (most recent call last):\n",
            "  File \"/content/Mask_RCNN/mrcnn/model.py\", line 1709, in data_generator\n",
            "    use_mini_mask=config.USE_MINI_MASK)\n",
            "  File \"/content/Mask_RCNN/mrcnn/model.py\", line 1212, in load_image_gt\n",
            "    mask, class_ids = dataset.load_mask(image_id)\n",
            "  File \"<ipython-input-60-8725ce83668f>\", line 93, in load_mask\n",
            "    rr, cc = skimage.draw.polygon(p['all_points_y'], p['all_points_x'])\n",
            "KeyError: 'all_points_y'\n",
            "Traceback (most recent call last):\n",
            "  File \"/usr/local/lib/python3.7/dist-packages/keras/utils/data_utils.py\", line 677, in _data_generator_task\n",
            "    generator_output = next(self._generator)\n",
            "  File \"/content/Mask_RCNN/mrcnn/model.py\", line 1709, in data_generator\n",
            "    use_mini_mask=config.USE_MINI_MASK)\n",
            "  File \"/content/Mask_RCNN/mrcnn/model.py\", line 1212, in load_image_gt\n",
            "    mask, class_ids = dataset.load_mask(image_id)\n",
            "  File \"<ipython-input-60-8725ce83668f>\", line 93, in load_mask\n",
            "    rr, cc = skimage.draw.polygon(p['all_points_y'], p['all_points_x'])\n",
            "KeyError: 'all_points_y'\n"
          ],
          "name": "stderr"
        },
        {
          "output_type": "error",
          "ename": "KeyError",
          "evalue": "ignored",
          "traceback": [
            "\u001b[0;31m---------------------------------------------------------------------------\u001b[0m",
            "\u001b[0;31mKeyError\u001b[0m                                  Traceback (most recent call last)",
            "\u001b[0;32m<ipython-input-63-9d3046b5d0d4>\u001b[0m in \u001b[0;36m<module>\u001b[0;34m()\u001b[0m\n\u001b[0;32m----> 1\u001b[0;31m \u001b[0mtrain\u001b[0m\u001b[0;34m(\u001b[0m\u001b[0mmodel\u001b[0m\u001b[0;34m)\u001b[0m\u001b[0;34m\u001b[0m\u001b[0;34m\u001b[0m\u001b[0m\n\u001b[0m",
            "\u001b[0;32m<ipython-input-61-1f1115e5d570>\u001b[0m in \u001b[0;36mtrain\u001b[0;34m(model)\u001b[0m\n\u001b[1;32m     19\u001b[0m                 \u001b[0mlearning_rate\u001b[0m\u001b[0;34m=\u001b[0m\u001b[0mconfig\u001b[0m\u001b[0;34m.\u001b[0m\u001b[0mLEARNING_RATE\u001b[0m\u001b[0;34m,\u001b[0m\u001b[0;34m\u001b[0m\u001b[0;34m\u001b[0m\u001b[0m\n\u001b[1;32m     20\u001b[0m                 \u001b[0mepochs\u001b[0m\u001b[0;34m=\u001b[0m\u001b[0;36m10\u001b[0m\u001b[0;34m,\u001b[0m\u001b[0;34m\u001b[0m\u001b[0;34m\u001b[0m\u001b[0m\n\u001b[0;32m---> 21\u001b[0;31m                 layers='heads')\n\u001b[0m",
            "\u001b[0;32m/content/Mask_RCNN/mrcnn/model.py\u001b[0m in \u001b[0;36mtrain\u001b[0;34m(self, train_dataset, val_dataset, learning_rate, epochs, layers, augmentation, custom_callbacks, no_augmentation_sources)\u001b[0m\n\u001b[1;32m   2372\u001b[0m             \u001b[0mmax_queue_size\u001b[0m\u001b[0;34m=\u001b[0m\u001b[0;36m100\u001b[0m\u001b[0;34m,\u001b[0m\u001b[0;34m\u001b[0m\u001b[0;34m\u001b[0m\u001b[0m\n\u001b[1;32m   2373\u001b[0m             \u001b[0mworkers\u001b[0m\u001b[0;34m=\u001b[0m\u001b[0mworkers\u001b[0m\u001b[0;34m,\u001b[0m\u001b[0;34m\u001b[0m\u001b[0;34m\u001b[0m\u001b[0m\n\u001b[0;32m-> 2374\u001b[0;31m             \u001b[0muse_multiprocessing\u001b[0m\u001b[0;34m=\u001b[0m\u001b[0;32mTrue\u001b[0m\u001b[0;34m,\u001b[0m\u001b[0;34m\u001b[0m\u001b[0;34m\u001b[0m\u001b[0m\n\u001b[0m\u001b[1;32m   2375\u001b[0m         )\n\u001b[1;32m   2376\u001b[0m         \u001b[0mself\u001b[0m\u001b[0;34m.\u001b[0m\u001b[0mepoch\u001b[0m \u001b[0;34m=\u001b[0m \u001b[0mmax\u001b[0m\u001b[0;34m(\u001b[0m\u001b[0mself\u001b[0m\u001b[0;34m.\u001b[0m\u001b[0mepoch\u001b[0m\u001b[0;34m,\u001b[0m \u001b[0mepochs\u001b[0m\u001b[0;34m)\u001b[0m\u001b[0;34m\u001b[0m\u001b[0;34m\u001b[0m\u001b[0m\n",
            "\u001b[0;32m/usr/local/lib/python3.7/dist-packages/keras/legacy/interfaces.py\u001b[0m in \u001b[0;36mwrapper\u001b[0;34m(*args, **kwargs)\u001b[0m\n\u001b[1;32m     89\u001b[0m                 warnings.warn('Update your `' + object_name +\n\u001b[1;32m     90\u001b[0m                               '` call to the Keras 2 API: ' + signature, stacklevel=2)\n\u001b[0;32m---> 91\u001b[0;31m             \u001b[0;32mreturn\u001b[0m \u001b[0mfunc\u001b[0m\u001b[0;34m(\u001b[0m\u001b[0;34m*\u001b[0m\u001b[0margs\u001b[0m\u001b[0;34m,\u001b[0m \u001b[0;34m**\u001b[0m\u001b[0mkwargs\u001b[0m\u001b[0;34m)\u001b[0m\u001b[0;34m\u001b[0m\u001b[0;34m\u001b[0m\u001b[0m\n\u001b[0m\u001b[1;32m     92\u001b[0m         \u001b[0mwrapper\u001b[0m\u001b[0;34m.\u001b[0m\u001b[0m_original_function\u001b[0m \u001b[0;34m=\u001b[0m \u001b[0mfunc\u001b[0m\u001b[0;34m\u001b[0m\u001b[0;34m\u001b[0m\u001b[0m\n\u001b[1;32m     93\u001b[0m         \u001b[0;32mreturn\u001b[0m \u001b[0mwrapper\u001b[0m\u001b[0;34m\u001b[0m\u001b[0;34m\u001b[0m\u001b[0m\n",
            "\u001b[0;32m/usr/local/lib/python3.7/dist-packages/keras/engine/training.py\u001b[0m in \u001b[0;36mfit_generator\u001b[0;34m(self, generator, steps_per_epoch, epochs, verbose, callbacks, validation_data, validation_steps, class_weight, max_queue_size, workers, use_multiprocessing, shuffle, initial_epoch)\u001b[0m\n\u001b[1;32m   2192\u001b[0m                 \u001b[0mbatch_index\u001b[0m \u001b[0;34m=\u001b[0m \u001b[0;36m0\u001b[0m\u001b[0;34m\u001b[0m\u001b[0;34m\u001b[0m\u001b[0m\n\u001b[1;32m   2193\u001b[0m                 \u001b[0;32mwhile\u001b[0m \u001b[0msteps_done\u001b[0m \u001b[0;34m<\u001b[0m \u001b[0msteps_per_epoch\u001b[0m\u001b[0;34m:\u001b[0m\u001b[0;34m\u001b[0m\u001b[0;34m\u001b[0m\u001b[0m\n\u001b[0;32m-> 2194\u001b[0;31m                     \u001b[0mgenerator_output\u001b[0m \u001b[0;34m=\u001b[0m \u001b[0mnext\u001b[0m\u001b[0;34m(\u001b[0m\u001b[0moutput_generator\u001b[0m\u001b[0;34m)\u001b[0m\u001b[0;34m\u001b[0m\u001b[0;34m\u001b[0m\u001b[0m\n\u001b[0m\u001b[1;32m   2195\u001b[0m \u001b[0;34m\u001b[0m\u001b[0m\n\u001b[1;32m   2196\u001b[0m                     \u001b[0;32mif\u001b[0m \u001b[0;32mnot\u001b[0m \u001b[0mhasattr\u001b[0m\u001b[0;34m(\u001b[0m\u001b[0mgenerator_output\u001b[0m\u001b[0;34m,\u001b[0m \u001b[0;34m'__len__'\u001b[0m\u001b[0;34m)\u001b[0m\u001b[0;34m:\u001b[0m\u001b[0;34m\u001b[0m\u001b[0;34m\u001b[0m\u001b[0m\n",
            "\u001b[0;32m/usr/local/lib/python3.7/dist-packages/keras/utils/data_utils.py\u001b[0m in \u001b[0;36mget\u001b[0;34m(self)\u001b[0m\n\u001b[1;32m    791\u001b[0m             \u001b[0msuccess\u001b[0m\u001b[0;34m,\u001b[0m \u001b[0mvalue\u001b[0m \u001b[0;34m=\u001b[0m \u001b[0mself\u001b[0m\u001b[0;34m.\u001b[0m\u001b[0mqueue\u001b[0m\u001b[0;34m.\u001b[0m\u001b[0mget\u001b[0m\u001b[0;34m(\u001b[0m\u001b[0;34m)\u001b[0m\u001b[0;34m\u001b[0m\u001b[0;34m\u001b[0m\u001b[0m\n\u001b[1;32m    792\u001b[0m             \u001b[0;32mif\u001b[0m \u001b[0;32mnot\u001b[0m \u001b[0msuccess\u001b[0m\u001b[0;34m:\u001b[0m\u001b[0;34m\u001b[0m\u001b[0;34m\u001b[0m\u001b[0m\n\u001b[0;32m--> 793\u001b[0;31m                 \u001b[0msix\u001b[0m\u001b[0;34m.\u001b[0m\u001b[0mreraise\u001b[0m\u001b[0;34m(\u001b[0m\u001b[0mvalue\u001b[0m\u001b[0;34m.\u001b[0m\u001b[0m__class__\u001b[0m\u001b[0;34m,\u001b[0m \u001b[0mvalue\u001b[0m\u001b[0;34m,\u001b[0m \u001b[0mvalue\u001b[0m\u001b[0;34m.\u001b[0m\u001b[0m__traceback__\u001b[0m\u001b[0;34m)\u001b[0m\u001b[0;34m\u001b[0m\u001b[0;34m\u001b[0m\u001b[0m\n\u001b[0m",
            "\u001b[0;32m/usr/local/lib/python3.7/dist-packages/six.py\u001b[0m in \u001b[0;36mreraise\u001b[0;34m(tp, value, tb)\u001b[0m\n\u001b[1;32m    701\u001b[0m             \u001b[0;32mif\u001b[0m \u001b[0mvalue\u001b[0m\u001b[0;34m.\u001b[0m\u001b[0m__traceback__\u001b[0m \u001b[0;32mis\u001b[0m \u001b[0;32mnot\u001b[0m \u001b[0mtb\u001b[0m\u001b[0;34m:\u001b[0m\u001b[0;34m\u001b[0m\u001b[0;34m\u001b[0m\u001b[0m\n\u001b[1;32m    702\u001b[0m                 \u001b[0;32mraise\u001b[0m \u001b[0mvalue\u001b[0m\u001b[0;34m.\u001b[0m\u001b[0mwith_traceback\u001b[0m\u001b[0;34m(\u001b[0m\u001b[0mtb\u001b[0m\u001b[0;34m)\u001b[0m\u001b[0;34m\u001b[0m\u001b[0;34m\u001b[0m\u001b[0m\n\u001b[0;32m--> 703\u001b[0;31m             \u001b[0;32mraise\u001b[0m \u001b[0mvalue\u001b[0m\u001b[0;34m\u001b[0m\u001b[0;34m\u001b[0m\u001b[0m\n\u001b[0m\u001b[1;32m    704\u001b[0m         \u001b[0;32mfinally\u001b[0m\u001b[0;34m:\u001b[0m\u001b[0;34m\u001b[0m\u001b[0;34m\u001b[0m\u001b[0m\n\u001b[1;32m    705\u001b[0m             \u001b[0mvalue\u001b[0m \u001b[0;34m=\u001b[0m \u001b[0;32mNone\u001b[0m\u001b[0;34m\u001b[0m\u001b[0;34m\u001b[0m\u001b[0m\n",
            "\u001b[0;31mKeyError\u001b[0m: 'all_points_y'"
          ]
        }
      ]
    }
  ]
}