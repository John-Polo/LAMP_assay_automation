{
  "nbformat": 4,
  "nbformat_minor": 0,
  "metadata": {
    "colab": {
      "name": "Working_pytorch_instance_imseg_ccrop.ipynb",
      "provenance": [],
      "collapsed_sections": [],
      "authorship_tag": "ABX9TyOVjXN24DDetfSjALunH+je",
      "include_colab_link": true
    },
    "kernelspec": {
      "name": "python3",
      "display_name": "Python 3"
    },
    "language_info": {
      "name": "python"
    },
    "accelerator": "GPU",
    "widgets": {
      "application/vnd.jupyter.widget-state+json": {
        "516ccdbb18e14c1a87a20d118a752706": {
          "model_module": "@jupyter-widgets/controls",
          "model_name": "HBoxModel",
          "state": {
            "_view_name": "HBoxView",
            "_dom_classes": [],
            "_model_name": "HBoxModel",
            "_view_module": "@jupyter-widgets/controls",
            "_model_module_version": "1.5.0",
            "_view_count": null,
            "_view_module_version": "1.5.0",
            "box_style": "",
            "layout": "IPY_MODEL_4a230fbb31774a91a5773966f5d5ac83",
            "_model_module": "@jupyter-widgets/controls",
            "children": [
              "IPY_MODEL_e986d3938d03431384aa63ef68baca24",
              "IPY_MODEL_2769c33237534a6893bb1ea0cb67c469"
            ]
          }
        },
        "024be9b01cd64ed686e1d7daf38bc130": {
          "model_module": "@jupyter-widgets/controls",
          "model_name": "HBoxModel",
          "state": {
            "_view_name": "HBoxView",
            "_dom_classes": [],
            "_model_name": "HBoxModel",
            "_view_module": "@jupyter-widgets/controls",
            "_model_module_version": "1.5.0",
            "_view_count": null,
            "_view_module_version": "1.5.0",
            "box_style": "",
            "layout": "IPY_MODEL_90d80f31595244839e3f5f8e240c49c7",
            "_model_module": "@jupyter-widgets/controls",
            "children": [
              "IPY_MODEL_434a50b94cb34ba0885768f7769d1494",
              "IPY_MODEL_0b1e8fb061954913ac30c8821120e3ab"
            ]
          }
        }
      }
    }
  },
  "cells": [
    {
      "cell_type": "markdown",
      "metadata": {
        "id": "view-in-github",
        "colab_type": "text"
      },
      "source": [
        "<a href=\"https://colab.research.google.com/github/ncsu-landscape-dynamics/LAMP_assay_automation/blob/main/Working_pytorch_instance_imseg_ccrop.ipynb\" target=\"_parent\"><img src=\"https://colab.research.google.com/assets/colab-badge.svg\" alt=\"Open In Colab\"/></a>"
      ]
    },
    {
      "cell_type": "code",
      "metadata": {
        "colab": {
          "base_uri": "https://localhost:8080/"
        },
        "id": "thyNLvhjnN4e",
        "outputId": "4d033d26-a226-454a-bc97-1cc3806b62fe"
      },
      "source": [
        "# https://pytorch.org/tutorials/intermediate/torchvision_tutorial.html\n",
        "\n",
        "import os\n",
        "import numpy as np\n",
        "import torch\n",
        "import torch.utils.data\n",
        "from PIL import Image\n",
        "import matplotlib.pyplot as plt\n",
        "import matplotlib.image as mpimg\n",
        "\n",
        "from google.colab import drive\n",
        "drive.mount('/content/drive', force_remount=True)\n",
        "\n",
        "class four_chs(torch.utils.data.Dataset):\n",
        "    def __init__(self, root, transforms=None, target_transform=None):\n",
        "        self.root = root\n",
        "        self.transforms = transforms\n",
        "        self.target_transform = target_transform\n",
        "        # load all image files, sorting them to\n",
        "        # ensure that they are aligned\n",
        "        self.imgs = list(sorted(os.listdir(os.path.join(root, \"imgs_centercropped\"))))\n",
        "        self.masks = list(sorted(os.listdir(os.path.join(root, \"masks_centercropped\"))))\n",
        "\n",
        "    def __getitem__(self, idx):\n",
        "        # load images ad masks\n",
        "        img_path = os.path.join(self.root, \"imgs_centercropped\", self.imgs[idx])\n",
        "        mask_path = os.path.join(self.root, \"masks_centercropped\", self.masks[idx])\n",
        "        img = Image.open(img_path).convert(\"RGB\")\n",
        "        # note that we haven't converted the mask to RGB,\n",
        "        # because each color corresponds to a different instance\n",
        "        # with 0 being background\n",
        "        mask = Image.open(mask_path)\n",
        "\n",
        "        # Convert from image object to array\n",
        "        mask = np.array(mask)\n",
        "        \n",
        "        obj_ids = np.unique(mask)\n",
        "        # first is background, other values are noise, removed them\n",
        "        obj_ids = obj_ids[-4:]\n",
        "\n",
        "        # split the color-encoded mask into a set\n",
        "        # of binary masks\n",
        "        masks = mask == obj_ids[:, None, None]\n",
        "\n",
        "        # get bounding box coordinates for each mask\n",
        "        num_objs = len(obj_ids)\n",
        "        boxes = []\n",
        "        for i in range(num_objs):\n",
        "            pos = np.where(masks[i])\n",
        "            xmin = np.min(pos[1])\n",
        "            xmax = np.max(pos[1])\n",
        "            ymin = np.min(pos[0])\n",
        "            ymax = np.max(pos[0])\n",
        "            boxes.append([xmin, ymin, xmax, ymax])\n",
        "\n",
        "        boxes = torch.as_tensor(boxes, dtype=torch.float32)\n",
        "        # there is only one class\n",
        "        labels = torch.ones((num_objs,), dtype=torch.int64)\n",
        "        masks = torch.as_tensor(masks, dtype=torch.uint8)\n",
        "\n",
        "        image_id = torch.tensor([idx])\n",
        "        area = (boxes[:, 3] - boxes[:, 1]) * (boxes[:, 2] - boxes[:, 0])\n",
        "        # suppose all instances are not crowd\n",
        "        iscrowd = torch.zeros((num_objs,), dtype=torch.int64)\n",
        "\n",
        "        target = {}\n",
        "        target[\"boxes\"] = boxes\n",
        "        target[\"labels\"] = labels\n",
        "        target[\"masks\"] = masks\n",
        "        target[\"image_id\"] = image_id\n",
        "        target[\"area\"] = area\n",
        "        target[\"iscrowd\"] = iscrowd\n",
        "\n",
        "        if self.transforms is not None:\n",
        "            img, target = self.transforms(img, target)\n",
        "\n",
        "        return img, target\n",
        "\n",
        "    def __len__(self):\n",
        "        return len(self.imgs)"
      ],
      "execution_count": null,
      "outputs": [
        {
          "output_type": "stream",
          "text": [
            "Mounted at /content/drive\n"
          ],
          "name": "stdout"
        }
      ]
    },
    {
      "cell_type": "code",
      "metadata": {
        "id": "ASZUhOClbBgs",
        "colab": {
          "base_uri": "https://localhost:8080/"
        },
        "outputId": "d511246e-35fd-4075-bdd2-5948785d3964"
      },
      "source": [
        "#os.chdir('drive/MyDrive/Colab Notebooks')\n",
        "\n",
        "%%shell\n",
        "\n",
        "# Download TorchVision repo to use some files from\n",
        "# references/detection\n",
        "git clone https://github.com/pytorch/vision.git\n",
        "cd vision\n",
        "git checkout v0.3.0\n",
        "\n",
        "cp references/detection/utils.py ../\n",
        "cp references/detection/transforms.py ../\n",
        "cp references/detection/coco_eval.py ../\n",
        "cp references/detection/engine.py ../\n",
        "cp references/detection/coco_utils.py ../"
      ],
      "execution_count": null,
      "outputs": [
        {
          "output_type": "stream",
          "text": [
            "Cloning into 'vision'...\n",
            "remote: Enumerating objects: 29235, done.\u001b[K\n",
            "remote: Counting objects: 100% (1777/1777), done.\u001b[K\n",
            "remote: Compressing objects: 100% (457/457), done.\u001b[K\n",
            "remote: Total 29235 (delta 1336), reused 1699 (delta 1287), pack-reused 27458\u001b[K\n",
            "Receiving objects: 100% (29235/29235), 37.31 MiB | 27.08 MiB/s, done.\n",
            "Resolving deltas: 100% (21951/21951), done.\n",
            "Note: checking out 'v0.3.0'.\n",
            "\n",
            "You are in 'detached HEAD' state. You can look around, make experimental\n",
            "changes and commit them, and you can discard any commits you make in this\n",
            "state without impacting any branches by performing another checkout.\n",
            "\n",
            "If you want to create a new branch to retain commits you create, you may\n",
            "do so (now or later) by using -b with the checkout command again. Example:\n",
            "\n",
            "  git checkout -b <new-branch-name>\n",
            "\n",
            "HEAD is now at be376084 version check against PyTorch's CUDA version\n"
          ],
          "name": "stdout"
        },
        {
          "output_type": "execute_result",
          "data": {
            "text/plain": [
              ""
            ]
          },
          "metadata": {
            "tags": []
          },
          "execution_count": 2
        }
      ]
    },
    {
      "cell_type": "code",
      "metadata": {
        "id": "1tX1QjxcShEu"
      },
      "source": [
        "# testing\n",
        "#dataset0 = four_chs(root=\"/content/drive/MyDrive/APHIS Farm Bill (2020Milestones)/Protocols/For John/images/New set for John/collection/four_chambers\")"
      ],
      "execution_count": null,
      "outputs": []
    },
    {
      "cell_type": "code",
      "metadata": {
        "id": "uC00k1lQyZ7v",
        "colab": {
          "base_uri": "https://localhost:8080/"
        },
        "outputId": "599326c9-45d3-4961-bcac-69797d285aca"
      },
      "source": [
        "# testing\n",
        "#dataset0[0]"
      ],
      "execution_count": null,
      "outputs": [
        {
          "output_type": "execute_result",
          "data": {
            "text/plain": [
              "(<PIL.Image.Image image mode=RGB size=2988x5312 at 0x7F5BD2492890>,\n",
              " {'area': tensor([226527., 216648., 219960., 210220.]),\n",
              "  'boxes': tensor([[ 789., 2775., 1258., 3258.],\n",
              "          [ 819., 1985., 1278., 2457.],\n",
              "          [1573., 2006., 2041., 2476.],\n",
              "          [1594., 2747., 2054., 3204.]]),\n",
              "  'image_id': tensor([0]),\n",
              "  'iscrowd': tensor([0, 0, 0, 0]),\n",
              "  'labels': tensor([1, 1, 1, 1]),\n",
              "  'masks': tensor([[[0, 0, 0,  ..., 0, 0, 0],\n",
              "           [0, 0, 0,  ..., 0, 0, 0],\n",
              "           [0, 0, 0,  ..., 0, 0, 0],\n",
              "           ...,\n",
              "           [0, 0, 0,  ..., 0, 0, 0],\n",
              "           [0, 0, 0,  ..., 0, 0, 0],\n",
              "           [0, 0, 0,  ..., 0, 0, 0]],\n",
              "  \n",
              "          [[0, 0, 0,  ..., 0, 0, 0],\n",
              "           [0, 0, 0,  ..., 0, 0, 0],\n",
              "           [0, 0, 0,  ..., 0, 0, 0],\n",
              "           ...,\n",
              "           [0, 0, 0,  ..., 0, 0, 0],\n",
              "           [0, 0, 0,  ..., 0, 0, 0],\n",
              "           [0, 0, 0,  ..., 0, 0, 0]],\n",
              "  \n",
              "          [[0, 0, 0,  ..., 0, 0, 0],\n",
              "           [0, 0, 0,  ..., 0, 0, 0],\n",
              "           [0, 0, 0,  ..., 0, 0, 0],\n",
              "           ...,\n",
              "           [0, 0, 0,  ..., 0, 0, 0],\n",
              "           [0, 0, 0,  ..., 0, 0, 0],\n",
              "           [0, 0, 0,  ..., 0, 0, 0]],\n",
              "  \n",
              "          [[0, 0, 0,  ..., 0, 0, 0],\n",
              "           [0, 0, 0,  ..., 0, 0, 0],\n",
              "           [0, 0, 0,  ..., 0, 0, 0],\n",
              "           ...,\n",
              "           [0, 0, 0,  ..., 0, 0, 0],\n",
              "           [0, 0, 0,  ..., 0, 0, 0],\n",
              "           [0, 0, 0,  ..., 0, 0, 0]]], dtype=torch.uint8)})"
            ]
          },
          "metadata": {
            "tags": []
          },
          "execution_count": 39
        }
      ]
    },
    {
      "cell_type": "code",
      "metadata": {
        "id": "9npNTUA7xmRe",
        "colab": {
          "base_uri": "https://localhost:8080/",
          "height": 74,
          "referenced_widgets": [
            "516ccdbb18e14c1a87a20d118a752706"
          ]
        },
        "outputId": "5b88c59c-8f01-4091-b21d-8f758d86779c"
      },
      "source": [
        "import torchvision\n",
        "from torchvision.models.detection.faster_rcnn import FastRCNNPredictor\n",
        " \n",
        "# load a model pre-trained pre-trained on COCO\n",
        "model = torchvision.models.detection.fasterrcnn_resnet50_fpn(pretrained=True)\n",
        " \n",
        "# replace the classifier with a new one, that has\n",
        "# num_classes which is user-defined\n",
        "num_classes = 2  # 1 class (person) + background\n",
        "# get number of input features for the classifier\n",
        "in_features = model.roi_heads.box_predictor.cls_score.in_features\n",
        "# replace the pre-trained head with a new one\n",
        "model.roi_heads.box_predictor = FastRCNNPredictor(in_features, num_classes) "
      ],
      "execution_count": null,
      "outputs": [
        {
          "output_type": "stream",
          "text": [
            "Downloading: \"https://download.pytorch.org/models/fasterrcnn_resnet50_fpn_coco-258fb6c6.pth\" to /root/.cache/torch/hub/checkpoints/fasterrcnn_resnet50_fpn_coco-258fb6c6.pth\n"
          ],
          "name": "stderr"
        },
        {
          "output_type": "display_data",
          "data": {
            "application/vnd.jupyter.widget-view+json": {
              "model_id": "516ccdbb18e14c1a87a20d118a752706",
              "version_minor": 0,
              "version_major": 2
            },
            "text/plain": [
              "HBox(children=(FloatProgress(value=0.0, max=167502836.0), HTML(value='')))"
            ]
          },
          "metadata": {
            "tags": []
          }
        },
        {
          "output_type": "stream",
          "text": [
            "\n"
          ],
          "name": "stdout"
        }
      ]
    },
    {
      "cell_type": "code",
      "metadata": {
        "id": "iBUwqXo4MpAw"
      },
      "source": [
        "import torchvision\n",
        "from torchvision.models.detection.faster_rcnn import FastRCNNPredictor\n",
        "from torchvision.models.detection.mask_rcnn import MaskRCNNPredictor\n",
        "\n",
        "\n",
        "def get_model_instance_segmentation(num_classes):\n",
        "    # load an instance segmentation model pre-trained pre-trained on COCO\n",
        "    model = torchvision.models.detection.maskrcnn_resnet50_fpn(pretrained=True)\n",
        "\n",
        "    # get number of input features for the classifier\n",
        "    in_features = model.roi_heads.box_predictor.cls_score.in_features\n",
        "    # replace the pre-trained head with a new one\n",
        "    model.roi_heads.box_predictor = FastRCNNPredictor(in_features, num_classes)\n",
        "\n",
        "    # now get the number of input features for the mask classifier\n",
        "    in_features_mask = model.roi_heads.mask_predictor.conv5_mask.in_channels\n",
        "    hidden_layer = 256\n",
        "    # and replace the mask predictor with a new one\n",
        "    model.roi_heads.mask_predictor = MaskRCNNPredictor(in_features_mask,\n",
        "                                                       hidden_layer,\n",
        "                                                       num_classes)\n",
        "\n",
        "    return model"
      ],
      "execution_count": null,
      "outputs": []
    },
    {
      "cell_type": "code",
      "metadata": {
        "id": "TP1ebz8PUi7J"
      },
      "source": [
        "from engine import train_one_epoch, evaluate\n",
        "import utils\n",
        "import transforms as T\n",
        "\n",
        "\n",
        "def get_transform(train):\n",
        "    transforms = []\n",
        "    # converts the image, a PIL image, into a PyTorch Tensor\n",
        "    transforms.append(T.ToTensor())\n",
        "    if train:\n",
        "        # during training, randomly flip the training images\n",
        "        # and ground-truth for data augmentation\n",
        "        transforms.append(T.RandomHorizontalFlip(0.5))\n",
        "    return T.Compose(transforms)"
      ],
      "execution_count": null,
      "outputs": []
    },
    {
      "cell_type": "code",
      "metadata": {
        "id": "lcMjjCY4_zOf",
        "colab": {
          "base_uri": "https://localhost:8080/"
        },
        "outputId": "24e8362f-e84f-4e4e-c977-3202828da726"
      },
      "source": [
        "model = torchvision.models.detection.fasterrcnn_resnet50_fpn(pretrained=True)\n",
        "dataset = four_chs(root = '/content/drive/MyDrive/APHIS Farm Bill (2020Milestones)/Protocols/For John/images/New set for John/collection/four_chambers', transforms = get_transform(train=True))    \n",
        "data_loader = torch.utils.data.DataLoader(\n",
        " dataset, batch_size=1, shuffle=True, num_workers=2,\n",
        " collate_fn=utils.collate_fn)\n",
        "# For Training\n",
        "images,targets = next(iter(data_loader))\n",
        "images = list(image for image in images)\n",
        "targets = [{k: v for k, v in t.items()} for t in targets]\n",
        "output = model(images,targets)   # Returns losses and detections\n",
        "# For inference\n",
        "model.eval()\n",
        "x = [torch.rand(3, 300, 400), torch.rand(3, 500, 400)]\n",
        "predictions = model(x)          "
      ],
      "execution_count": null,
      "outputs": [
        {
          "output_type": "stream",
          "text": [
            "/usr/local/lib/python3.7/dist-packages/torch/nn/functional.py:718: UserWarning: Named tensors and all their associated APIs are an experimental feature and subject to change. Please do not use them for anything important until they are released as stable. (Triggered internally at  /pytorch/c10/core/TensorImpl.h:1156.)\n",
            "  return torch.max_pool2d(input, kernel_size, stride, padding, dilation, ceil_mode)\n"
          ],
          "name": "stderr"
        }
      ]
    },
    {
      "cell_type": "code",
      "metadata": {
        "id": "T4BoIh1gz6xk"
      },
      "source": [
        "# use our dataset and defined transformations\n",
        "dataset = four_chs(root = '/content/drive/MyDrive/APHIS Farm Bill (2020Milestones)/Protocols/For John/images/New set for John/collection/four_chambers', transforms = get_transform(train=True))\n",
        "dataset_test = four_chs(root = '/content/drive/MyDrive/APHIS Farm Bill (2020Milestones)/Protocols/For John/images/New set for John/collection/four_chambers', transforms = get_transform(train=False))\n",
        "\n",
        "# split the dataset in train and test set\n",
        "torch.manual_seed(1)\n",
        "indices = torch.randperm(len(dataset)).tolist()\n",
        "dataset = torch.utils.data.Subset(dataset, indices[:-4])\n",
        "dataset_test = torch.utils.data.Subset(dataset_test, indices[-4:])\n",
        "\n",
        "# define training and validation data loaders\n",
        "data_loader = torch.utils.data.DataLoader(\n",
        "    dataset, batch_size=1, shuffle=True, num_workers=2,\n",
        "    collate_fn=utils.collate_fn)\n",
        "\n",
        "data_loader_test = torch.utils.data.DataLoader(\n",
        "    dataset_test, batch_size=1, shuffle=False, num_workers=2,\n",
        "    collate_fn=utils.collate_fn)"
      ],
      "execution_count": null,
      "outputs": []
    },
    {
      "cell_type": "code",
      "metadata": {
        "id": "6kwig7t_rjcT",
        "colab": {
          "base_uri": "https://localhost:8080/",
          "height": 74,
          "referenced_widgets": [
            "024be9b01cd64ed686e1d7daf38bc130"
          ]
        },
        "outputId": "8c03800a-4b81-4116-f945-4b26ca095a27"
      },
      "source": [
        "device = torch.device('cuda') if torch.cuda.is_available() else torch.device('cpu')\n",
        "\n",
        "# our dataset has five classes\n",
        "num_classes = 2\n",
        "\n",
        "# get the model using our helper function\n",
        "model = get_model_instance_segmentation(num_classes)\n",
        "# move model to the right device\n",
        "model.to(device)\n",
        "\n",
        "# construct an optimizer\n",
        "params = [p for p in model.parameters() if p.requires_grad]\n",
        "optimizer = torch.optim.SGD(params, lr=0.005,\n",
        "                            momentum=0.9, weight_decay=0.0005)\n",
        "\n",
        "# and a learning rate scheduler which decreases the learning rate by\n",
        "# 10x every 3 epochs\n",
        "lr_scheduler = torch.optim.lr_scheduler.StepLR(optimizer,\n",
        "                                               step_size=3,\n",
        "                                               gamma=0.1)"
      ],
      "execution_count": null,
      "outputs": [
        {
          "output_type": "stream",
          "text": [
            "Downloading: \"https://download.pytorch.org/models/maskrcnn_resnet50_fpn_coco-bf2d0c1e.pth\" to /root/.cache/torch/hub/checkpoints/maskrcnn_resnet50_fpn_coco-bf2d0c1e.pth\n"
          ],
          "name": "stderr"
        },
        {
          "output_type": "display_data",
          "data": {
            "application/vnd.jupyter.widget-view+json": {
              "model_id": "024be9b01cd64ed686e1d7daf38bc130",
              "version_minor": 0,
              "version_major": 2
            },
            "text/plain": [
              "HBox(children=(FloatProgress(value=0.0, max=178090079.0), HTML(value='')))"
            ]
          },
          "metadata": {
            "tags": []
          }
        },
        {
          "output_type": "stream",
          "text": [
            "\n"
          ],
          "name": "stdout"
        }
      ]
    },
    {
      "cell_type": "code",
      "metadata": {
        "colab": {
          "base_uri": "https://localhost:8080/"
        },
        "id": "nJRofw-Lrsc2",
        "outputId": "276a60d8-0605-49ec-f73f-8dfae8d85ef0"
      },
      "source": [
        "# let's train it for 10 epochs\n",
        "num_epochs = 10\n",
        "\n",
        "for epoch in range(num_epochs):\n",
        "    # train for one epoch, printing every 10 iterations\n",
        "    train_one_epoch(model, optimizer, data_loader, device, epoch, print_freq=10)\n",
        "    # update the learning rate\n",
        "    lr_scheduler.step()\n",
        "    # evaluate on the test dataset\n",
        "    evaluate(model, data_loader_test, device=device)"
      ],
      "execution_count": null,
      "outputs": [
        {
          "output_type": "stream",
          "text": [
            "Epoch: [0]  [ 0/19]  eta: 0:01:02  lr: 0.000282  loss: 5.3686 (5.3686)  loss_classifier: 0.7076 (0.7076)  loss_box_reg: 0.5226 (0.5226)  loss_mask: 4.0509 (4.0509)  loss_objectness: 0.0728 (0.0728)  loss_rpn_box_reg: 0.0147 (0.0147)  time: 3.2836  data: 2.2619  max mem: 989\n",
            "Epoch: [0]  [10/19]  eta: 0:00:08  lr: 0.003058  loss: 1.7289 (2.4915)  loss_classifier: 0.3758 (0.4422)  loss_box_reg: 0.5226 (0.4830)  loss_mask: 0.8926 (1.5176)  loss_objectness: 0.0392 (0.0405)  loss_rpn_box_reg: 0.0051 (0.0083)  time: 0.9007  data: 0.2258  max mem: 1345\n",
            "Epoch: [0]  [18/19]  eta: 0:00:00  lr: 0.005000  loss: 1.6265 (2.1618)  loss_classifier: 0.3273 (0.3833)  loss_box_reg: 0.5024 (0.4947)  loss_mask: 0.6896 (1.2369)  loss_objectness: 0.0384 (0.0379)  loss_rpn_box_reg: 0.0055 (0.0091)  time: 0.8838  data: 0.2265  max mem: 1378\n",
            "Epoch: [0] Total time: 0:00:16 (0.8878 s / it)\n",
            "creating index...\n",
            "index created!\n",
            "Test:  [0/4]  eta: 0:00:08  model_time: 0.9358 (0.9358)  evaluator_time: 0.5614 (0.5614)  time: 2.1264  data: 0.6135  max mem: 1870\n",
            "Test:  [3/4]  eta: 0:00:01  model_time: 0.7296 (0.7765)  evaluator_time: 0.5735 (0.6404)  time: 1.6073  data: 0.1613  max mem: 2573\n",
            "Test: Total time: 0:00:06 (1.6251 s / it)\n",
            "Averaged stats: model_time: 0.7296 (0.7765)  evaluator_time: 0.5735 (0.6404)\n",
            "Accumulating evaluation results...\n",
            "DONE (t=0.01s).\n",
            "Accumulating evaluation results...\n",
            "DONE (t=0.01s).\n",
            "IoU metric: bbox\n",
            " Average Precision  (AP) @[ IoU=0.50:0.95 | area=   all | maxDets=100 ] = 0.013\n",
            " Average Precision  (AP) @[ IoU=0.50      | area=   all | maxDets=100 ] = 0.072\n",
            " Average Precision  (AP) @[ IoU=0.75      | area=   all | maxDets=100 ] = 0.002\n",
            " Average Precision  (AP) @[ IoU=0.50:0.95 | area= small | maxDets=100 ] = -1.000\n",
            " Average Precision  (AP) @[ IoU=0.50:0.95 | area=medium | maxDets=100 ] = -1.000\n",
            " Average Precision  (AP) @[ IoU=0.50:0.95 | area= large | maxDets=100 ] = 0.013\n",
            " Average Recall     (AR) @[ IoU=0.50:0.95 | area=   all | maxDets=  1 ] = 0.000\n",
            " Average Recall     (AR) @[ IoU=0.50:0.95 | area=   all | maxDets= 10 ] = 0.037\n",
            " Average Recall     (AR) @[ IoU=0.50:0.95 | area=   all | maxDets=100 ] = 0.188\n",
            " Average Recall     (AR) @[ IoU=0.50:0.95 | area= small | maxDets=100 ] = -1.000\n",
            " Average Recall     (AR) @[ IoU=0.50:0.95 | area=medium | maxDets=100 ] = -1.000\n",
            " Average Recall     (AR) @[ IoU=0.50:0.95 | area= large | maxDets=100 ] = 0.188\n",
            "IoU metric: segm\n",
            " Average Precision  (AP) @[ IoU=0.50:0.95 | area=   all | maxDets=100 ] = 0.002\n",
            " Average Precision  (AP) @[ IoU=0.50      | area=   all | maxDets=100 ] = 0.018\n",
            " Average Precision  (AP) @[ IoU=0.75      | area=   all | maxDets=100 ] = 0.000\n",
            " Average Precision  (AP) @[ IoU=0.50:0.95 | area= small | maxDets=100 ] = -1.000\n",
            " Average Precision  (AP) @[ IoU=0.50:0.95 | area=medium | maxDets=100 ] = -1.000\n",
            " Average Precision  (AP) @[ IoU=0.50:0.95 | area= large | maxDets=100 ] = 0.002\n",
            " Average Recall     (AR) @[ IoU=0.50:0.95 | area=   all | maxDets=  1 ] = 0.000\n",
            " Average Recall     (AR) @[ IoU=0.50:0.95 | area=   all | maxDets= 10 ] = 0.019\n",
            " Average Recall     (AR) @[ IoU=0.50:0.95 | area=   all | maxDets=100 ] = 0.056\n",
            " Average Recall     (AR) @[ IoU=0.50:0.95 | area= small | maxDets=100 ] = -1.000\n",
            " Average Recall     (AR) @[ IoU=0.50:0.95 | area=medium | maxDets=100 ] = -1.000\n",
            " Average Recall     (AR) @[ IoU=0.50:0.95 | area= large | maxDets=100 ] = 0.056\n",
            "Epoch: [1]  [ 0/19]  eta: 0:00:24  lr: 0.005000  loss: 1.6357 (1.6357)  loss_classifier: 0.3128 (0.3128)  loss_box_reg: 0.4916 (0.4916)  loss_mask: 0.7477 (0.7477)  loss_objectness: 0.0715 (0.0715)  loss_rpn_box_reg: 0.0121 (0.0121)  time: 1.3133  data: 0.6523  max mem: 2573\n",
            "Epoch: [1]  [10/19]  eta: 0:00:06  lr: 0.005000  loss: 1.4303 (1.4609)  loss_classifier: 0.2380 (0.2474)  loss_box_reg: 0.4916 (0.4898)  loss_mask: 0.6814 (0.6827)  loss_objectness: 0.0264 (0.0321)  loss_rpn_box_reg: 0.0085 (0.0089)  time: 0.7185  data: 0.0729  max mem: 2573\n",
            "Epoch: [1]  [18/19]  eta: 0:00:00  lr: 0.005000  loss: 1.4922 (1.5390)  loss_classifier: 0.2757 (0.3019)  loss_box_reg: 0.5359 (0.5338)  loss_mask: 0.6486 (0.6640)  loss_objectness: 0.0227 (0.0286)  loss_rpn_box_reg: 0.0095 (0.0106)  time: 0.6902  data: 0.0470  max mem: 2573\n",
            "Epoch: [1] Total time: 0:00:13 (0.6961 s / it)\n",
            "creating index...\n",
            "index created!\n",
            "Test:  [0/4]  eta: 0:00:12  model_time: 1.5776 (1.5776)  evaluator_time: 0.9877 (0.9877)  time: 3.2392  data: 0.6637  max mem: 2573\n",
            "Test:  [3/4]  eta: 0:00:02  model_time: 0.5775 (0.9987)  evaluator_time: 0.8114 (0.9039)  time: 2.1045  data: 0.1736  max mem: 2573\n",
            "Test: Total time: 0:00:08 (2.1474 s / it)\n",
            "Averaged stats: model_time: 0.5775 (0.9987)  evaluator_time: 0.8114 (0.9039)\n",
            "Accumulating evaluation results...\n",
            "DONE (t=0.01s).\n",
            "Accumulating evaluation results...\n",
            "DONE (t=0.01s).\n",
            "IoU metric: bbox\n",
            " Average Precision  (AP) @[ IoU=0.50:0.95 | area=   all | maxDets=100 ] = 0.023\n",
            " Average Precision  (AP) @[ IoU=0.50      | area=   all | maxDets=100 ] = 0.120\n",
            " Average Precision  (AP) @[ IoU=0.75      | area=   all | maxDets=100 ] = 0.000\n",
            " Average Precision  (AP) @[ IoU=0.50:0.95 | area= small | maxDets=100 ] = -1.000\n",
            " Average Precision  (AP) @[ IoU=0.50:0.95 | area=medium | maxDets=100 ] = -1.000\n",
            " Average Precision  (AP) @[ IoU=0.50:0.95 | area= large | maxDets=100 ] = 0.023\n",
            " Average Recall     (AR) @[ IoU=0.50:0.95 | area=   all | maxDets=  1 ] = 0.000\n",
            " Average Recall     (AR) @[ IoU=0.50:0.95 | area=   all | maxDets= 10 ] = 0.025\n",
            " Average Recall     (AR) @[ IoU=0.50:0.95 | area=   all | maxDets=100 ] = 0.225\n",
            " Average Recall     (AR) @[ IoU=0.50:0.95 | area= small | maxDets=100 ] = -1.000\n",
            " Average Recall     (AR) @[ IoU=0.50:0.95 | area=medium | maxDets=100 ] = -1.000\n",
            " Average Recall     (AR) @[ IoU=0.50:0.95 | area= large | maxDets=100 ] = 0.225\n",
            "IoU metric: segm\n",
            " Average Precision  (AP) @[ IoU=0.50:0.95 | area=   all | maxDets=100 ] = 0.025\n",
            " Average Precision  (AP) @[ IoU=0.50      | area=   all | maxDets=100 ] = 0.113\n",
            " Average Precision  (AP) @[ IoU=0.75      | area=   all | maxDets=100 ] = 0.000\n",
            " Average Precision  (AP) @[ IoU=0.50:0.95 | area= small | maxDets=100 ] = -1.000\n",
            " Average Precision  (AP) @[ IoU=0.50:0.95 | area=medium | maxDets=100 ] = -1.000\n",
            " Average Precision  (AP) @[ IoU=0.50:0.95 | area= large | maxDets=100 ] = 0.025\n",
            " Average Recall     (AR) @[ IoU=0.50:0.95 | area=   all | maxDets=  1 ] = 0.000\n",
            " Average Recall     (AR) @[ IoU=0.50:0.95 | area=   all | maxDets= 10 ] = 0.025\n",
            " Average Recall     (AR) @[ IoU=0.50:0.95 | area=   all | maxDets=100 ] = 0.237\n",
            " Average Recall     (AR) @[ IoU=0.50:0.95 | area= small | maxDets=100 ] = -1.000\n",
            " Average Recall     (AR) @[ IoU=0.50:0.95 | area=medium | maxDets=100 ] = -1.000\n",
            " Average Recall     (AR) @[ IoU=0.50:0.95 | area= large | maxDets=100 ] = 0.237\n",
            "Epoch: [2]  [ 0/19]  eta: 0:00:25  lr: 0.005000  loss: 1.2911 (1.2911)  loss_classifier: 0.3257 (0.3257)  loss_box_reg: 0.5108 (0.5108)  loss_mask: 0.4463 (0.4463)  loss_objectness: 0.0024 (0.0024)  loss_rpn_box_reg: 0.0058 (0.0058)  time: 1.3638  data: 0.6975  max mem: 2573\n",
            "Epoch: [2]  [10/19]  eta: 0:00:06  lr: 0.005000  loss: 1.3952 (1.5166)  loss_classifier: 0.2117 (0.2798)  loss_box_reg: 0.5506 (0.5452)  loss_mask: 0.6232 (0.6595)  loss_objectness: 0.0165 (0.0219)  loss_rpn_box_reg: 0.0102 (0.0103)  time: 0.7366  data: 0.0764  max mem: 2573\n",
            "Epoch: [2]  [18/19]  eta: 0:00:00  lr: 0.005000  loss: 1.3952 (1.4513)  loss_classifier: 0.2047 (0.2622)  loss_box_reg: 0.5356 (0.5192)  loss_mask: 0.6081 (0.6378)  loss_objectness: 0.0201 (0.0237)  loss_rpn_box_reg: 0.0058 (0.0085)  time: 0.7119  data: 0.0493  max mem: 2573\n",
            "Epoch: [2] Total time: 0:00:13 (0.7178 s / it)\n",
            "creating index...\n",
            "index created!\n",
            "Test:  [0/4]  eta: 0:00:12  model_time: 1.4658 (1.4658)  evaluator_time: 0.9084 (0.9084)  time: 3.0810  data: 0.6795  max mem: 2573\n",
            "Test:  [3/4]  eta: 0:00:02  model_time: 1.0553 (1.0264)  evaluator_time: 0.7400 (0.7833)  time: 2.0229  data: 0.1762  max mem: 2573\n",
            "Test: Total time: 0:00:08 (2.0648 s / it)\n",
            "Averaged stats: model_time: 1.0553 (1.0264)  evaluator_time: 0.7400 (0.7833)\n",
            "Accumulating evaluation results...\n",
            "DONE (t=0.01s).\n",
            "Accumulating evaluation results...\n",
            "DONE (t=0.01s).\n",
            "IoU metric: bbox\n",
            " Average Precision  (AP) @[ IoU=0.50:0.95 | area=   all | maxDets=100 ] = 0.153\n",
            " Average Precision  (AP) @[ IoU=0.50      | area=   all | maxDets=100 ] = 0.598\n",
            " Average Precision  (AP) @[ IoU=0.75      | area=   all | maxDets=100 ] = 0.018\n",
            " Average Precision  (AP) @[ IoU=0.50:0.95 | area= small | maxDets=100 ] = -1.000\n",
            " Average Precision  (AP) @[ IoU=0.50:0.95 | area=medium | maxDets=100 ] = -1.000\n",
            " Average Precision  (AP) @[ IoU=0.50:0.95 | area= large | maxDets=100 ] = 0.153\n",
            " Average Recall     (AR) @[ IoU=0.50:0.95 | area=   all | maxDets=  1 ] = 0.069\n",
            " Average Recall     (AR) @[ IoU=0.50:0.95 | area=   all | maxDets= 10 ] = 0.256\n",
            " Average Recall     (AR) @[ IoU=0.50:0.95 | area=   all | maxDets=100 ] = 0.400\n",
            " Average Recall     (AR) @[ IoU=0.50:0.95 | area= small | maxDets=100 ] = -1.000\n",
            " Average Recall     (AR) @[ IoU=0.50:0.95 | area=medium | maxDets=100 ] = -1.000\n",
            " Average Recall     (AR) @[ IoU=0.50:0.95 | area= large | maxDets=100 ] = 0.400\n",
            "IoU metric: segm\n",
            " Average Precision  (AP) @[ IoU=0.50:0.95 | area=   all | maxDets=100 ] = 0.073\n",
            " Average Precision  (AP) @[ IoU=0.50      | area=   all | maxDets=100 ] = 0.344\n",
            " Average Precision  (AP) @[ IoU=0.75      | area=   all | maxDets=100 ] = 0.000\n",
            " Average Precision  (AP) @[ IoU=0.50:0.95 | area= small | maxDets=100 ] = -1.000\n",
            " Average Precision  (AP) @[ IoU=0.50:0.95 | area=medium | maxDets=100 ] = -1.000\n",
            " Average Precision  (AP) @[ IoU=0.50:0.95 | area= large | maxDets=100 ] = 0.073\n",
            " Average Recall     (AR) @[ IoU=0.50:0.95 | area=   all | maxDets=  1 ] = 0.031\n",
            " Average Recall     (AR) @[ IoU=0.50:0.95 | area=   all | maxDets= 10 ] = 0.131\n",
            " Average Recall     (AR) @[ IoU=0.50:0.95 | area=   all | maxDets=100 ] = 0.244\n",
            " Average Recall     (AR) @[ IoU=0.50:0.95 | area= small | maxDets=100 ] = -1.000\n",
            " Average Recall     (AR) @[ IoU=0.50:0.95 | area=medium | maxDets=100 ] = -1.000\n",
            " Average Recall     (AR) @[ IoU=0.50:0.95 | area= large | maxDets=100 ] = 0.244\n",
            "Epoch: [3]  [ 0/19]  eta: 0:00:25  lr: 0.000500  loss: 0.9170 (0.9170)  loss_classifier: 0.1487 (0.1487)  loss_box_reg: 0.3111 (0.3111)  loss_mask: 0.4134 (0.4134)  loss_objectness: 0.0416 (0.0416)  loss_rpn_box_reg: 0.0022 (0.0022)  time: 1.3289  data: 0.6411  max mem: 2573\n",
            "Epoch: [3]  [10/19]  eta: 0:00:06  lr: 0.000500  loss: 1.1022 (1.0748)  loss_classifier: 0.1921 (0.1987)  loss_box_reg: 0.3639 (0.3695)  loss_mask: 0.4243 (0.4648)  loss_objectness: 0.0399 (0.0363)  loss_rpn_box_reg: 0.0049 (0.0056)  time: 0.7382  data: 0.0727  max mem: 2573\n",
            "Epoch: [3]  [18/19]  eta: 0:00:00  lr: 0.000500  loss: 1.1307 (1.0828)  loss_classifier: 0.1856 (0.1860)  loss_box_reg: 0.3639 (0.3765)  loss_mask: 0.4537 (0.4861)  loss_objectness: 0.0278 (0.0295)  loss_rpn_box_reg: 0.0039 (0.0048)  time: 0.7100  data: 0.0477  max mem: 2573\n",
            "Epoch: [3] Total time: 0:00:13 (0.7165 s / it)\n",
            "creating index...\n",
            "index created!\n",
            "Test:  [0/4]  eta: 0:00:09  model_time: 1.1041 (1.1041)  evaluator_time: 0.6163 (0.6163)  time: 2.4381  data: 0.7033  max mem: 2573\n",
            "Test:  [3/4]  eta: 0:00:01  model_time: 0.4511 (0.7114)  evaluator_time: 0.4305 (0.4813)  time: 1.4005  data: 0.1837  max mem: 2573\n",
            "Test: Total time: 0:00:05 (1.4415 s / it)\n",
            "Averaged stats: model_time: 0.4511 (0.7114)  evaluator_time: 0.4305 (0.4813)\n",
            "Accumulating evaluation results...\n",
            "DONE (t=0.01s).\n",
            "Accumulating evaluation results...\n",
            "DONE (t=0.01s).\n",
            "IoU metric: bbox\n",
            " Average Precision  (AP) @[ IoU=0.50:0.95 | area=   all | maxDets=100 ] = 0.264\n",
            " Average Precision  (AP) @[ IoU=0.50      | area=   all | maxDets=100 ] = 1.000\n",
            " Average Precision  (AP) @[ IoU=0.75      | area=   all | maxDets=100 ] = 0.038\n",
            " Average Precision  (AP) @[ IoU=0.50:0.95 | area= small | maxDets=100 ] = -1.000\n",
            " Average Precision  (AP) @[ IoU=0.50:0.95 | area=medium | maxDets=100 ] = -1.000\n",
            " Average Precision  (AP) @[ IoU=0.50:0.95 | area= large | maxDets=100 ] = 0.264\n",
            " Average Recall     (AR) @[ IoU=0.50:0.95 | area=   all | maxDets=  1 ] = 0.056\n",
            " Average Recall     (AR) @[ IoU=0.50:0.95 | area=   all | maxDets= 10 ] = 0.394\n",
            " Average Recall     (AR) @[ IoU=0.50:0.95 | area=   all | maxDets=100 ] = 0.444\n",
            " Average Recall     (AR) @[ IoU=0.50:0.95 | area= small | maxDets=100 ] = -1.000\n",
            " Average Recall     (AR) @[ IoU=0.50:0.95 | area=medium | maxDets=100 ] = -1.000\n",
            " Average Recall     (AR) @[ IoU=0.50:0.95 | area= large | maxDets=100 ] = 0.444\n",
            "IoU metric: segm\n",
            " Average Precision  (AP) @[ IoU=0.50:0.95 | area=   all | maxDets=100 ] = 0.125\n",
            " Average Precision  (AP) @[ IoU=0.50      | area=   all | maxDets=100 ] = 0.466\n",
            " Average Precision  (AP) @[ IoU=0.75      | area=   all | maxDets=100 ] = 0.005\n",
            " Average Precision  (AP) @[ IoU=0.50:0.95 | area= small | maxDets=100 ] = -1.000\n",
            " Average Precision  (AP) @[ IoU=0.50:0.95 | area=medium | maxDets=100 ] = -1.000\n",
            " Average Precision  (AP) @[ IoU=0.50:0.95 | area= large | maxDets=100 ] = 0.125\n",
            " Average Recall     (AR) @[ IoU=0.50:0.95 | area=   all | maxDets=  1 ] = 0.031\n",
            " Average Recall     (AR) @[ IoU=0.50:0.95 | area=   all | maxDets= 10 ] = 0.244\n",
            " Average Recall     (AR) @[ IoU=0.50:0.95 | area=   all | maxDets=100 ] = 0.300\n",
            " Average Recall     (AR) @[ IoU=0.50:0.95 | area= small | maxDets=100 ] = -1.000\n",
            " Average Recall     (AR) @[ IoU=0.50:0.95 | area=medium | maxDets=100 ] = -1.000\n",
            " Average Recall     (AR) @[ IoU=0.50:0.95 | area= large | maxDets=100 ] = 0.300\n",
            "Epoch: [4]  [ 0/19]  eta: 0:00:28  lr: 0.000500  loss: 1.0523 (1.0523)  loss_classifier: 0.1805 (0.1805)  loss_box_reg: 0.4191 (0.4191)  loss_mask: 0.4346 (0.4346)  loss_objectness: 0.0152 (0.0152)  loss_rpn_box_reg: 0.0029 (0.0029)  time: 1.4880  data: 0.7729  max mem: 2573\n",
            "Epoch: [4]  [10/19]  eta: 0:00:06  lr: 0.000500  loss: 1.0487 (1.0019)  loss_classifier: 0.1488 (0.1611)  loss_box_reg: 0.3822 (0.3631)  loss_mask: 0.4571 (0.4603)  loss_objectness: 0.0087 (0.0134)  loss_rpn_box_reg: 0.0038 (0.0039)  time: 0.7646  data: 0.0837  max mem: 2573\n",
            "Epoch: [4]  [18/19]  eta: 0:00:00  lr: 0.000500  loss: 1.0451 (1.0024)  loss_classifier: 0.1658 (0.1633)  loss_box_reg: 0.3585 (0.3486)  loss_mask: 0.4372 (0.4719)  loss_objectness: 0.0131 (0.0147)  loss_rpn_box_reg: 0.0038 (0.0040)  time: 0.7275  data: 0.0538  max mem: 2573\n",
            "Epoch: [4] Total time: 0:00:13 (0.7341 s / it)\n",
            "creating index...\n",
            "index created!\n",
            "Test:  [0/4]  eta: 0:00:07  model_time: 0.8564 (0.8564)  evaluator_time: 0.3319 (0.3319)  time: 1.8802  data: 0.6767  max mem: 2573\n",
            "Test:  [3/4]  eta: 0:00:01  model_time: 0.3911 (0.5313)  evaluator_time: 0.2710 (0.2817)  time: 1.0065  data: 0.1774  max mem: 2573\n",
            "Test: Total time: 0:00:04 (1.0423 s / it)\n",
            "Averaged stats: model_time: 0.3911 (0.5313)  evaluator_time: 0.2710 (0.2817)\n",
            "Accumulating evaluation results...\n",
            "DONE (t=0.01s).\n",
            "Accumulating evaluation results...\n",
            "DONE (t=0.01s).\n",
            "IoU metric: bbox\n",
            " Average Precision  (AP) @[ IoU=0.50:0.95 | area=   all | maxDets=100 ] = 0.201\n",
            " Average Precision  (AP) @[ IoU=0.50      | area=   all | maxDets=100 ] = 0.782\n",
            " Average Precision  (AP) @[ IoU=0.75      | area=   all | maxDets=100 ] = 0.071\n",
            " Average Precision  (AP) @[ IoU=0.50:0.95 | area= small | maxDets=100 ] = -1.000\n",
            " Average Precision  (AP) @[ IoU=0.50:0.95 | area=medium | maxDets=100 ] = -1.000\n",
            " Average Precision  (AP) @[ IoU=0.50:0.95 | area= large | maxDets=100 ] = 0.201\n",
            " Average Recall     (AR) @[ IoU=0.50:0.95 | area=   all | maxDets=  1 ] = 0.031\n",
            " Average Recall     (AR) @[ IoU=0.50:0.95 | area=   all | maxDets= 10 ] = 0.300\n",
            " Average Recall     (AR) @[ IoU=0.50:0.95 | area=   all | maxDets=100 ] = 0.419\n",
            " Average Recall     (AR) @[ IoU=0.50:0.95 | area= small | maxDets=100 ] = -1.000\n",
            " Average Recall     (AR) @[ IoU=0.50:0.95 | area=medium | maxDets=100 ] = -1.000\n",
            " Average Recall     (AR) @[ IoU=0.50:0.95 | area= large | maxDets=100 ] = 0.419\n",
            "IoU metric: segm\n",
            " Average Precision  (AP) @[ IoU=0.50:0.95 | area=   all | maxDets=100 ] = 0.116\n",
            " Average Precision  (AP) @[ IoU=0.50      | area=   all | maxDets=100 ] = 0.481\n",
            " Average Precision  (AP) @[ IoU=0.75      | area=   all | maxDets=100 ] = 0.017\n",
            " Average Precision  (AP) @[ IoU=0.50:0.95 | area= small | maxDets=100 ] = -1.000\n",
            " Average Precision  (AP) @[ IoU=0.50:0.95 | area=medium | maxDets=100 ] = -1.000\n",
            " Average Precision  (AP) @[ IoU=0.50:0.95 | area= large | maxDets=100 ] = 0.116\n",
            " Average Recall     (AR) @[ IoU=0.50:0.95 | area=   all | maxDets=  1 ] = 0.025\n",
            " Average Recall     (AR) @[ IoU=0.50:0.95 | area=   all | maxDets= 10 ] = 0.219\n",
            " Average Recall     (AR) @[ IoU=0.50:0.95 | area=   all | maxDets=100 ] = 0.300\n",
            " Average Recall     (AR) @[ IoU=0.50:0.95 | area= small | maxDets=100 ] = -1.000\n",
            " Average Recall     (AR) @[ IoU=0.50:0.95 | area=medium | maxDets=100 ] = -1.000\n",
            " Average Recall     (AR) @[ IoU=0.50:0.95 | area= large | maxDets=100 ] = 0.300\n",
            "Epoch: [5]  [ 0/19]  eta: 0:00:27  lr: 0.000500  loss: 0.6830 (0.6830)  loss_classifier: 0.1138 (0.1138)  loss_box_reg: 0.2210 (0.2210)  loss_mask: 0.3401 (0.3401)  loss_objectness: 0.0040 (0.0040)  loss_rpn_box_reg: 0.0040 (0.0040)  time: 1.4467  data: 0.7573  max mem: 2573\n",
            "Epoch: [5]  [10/19]  eta: 0:00:06  lr: 0.000500  loss: 0.8336 (0.8314)  loss_classifier: 0.1138 (0.1149)  loss_box_reg: 0.3180 (0.3014)  loss_mask: 0.3999 (0.4053)  loss_objectness: 0.0058 (0.0072)  loss_rpn_box_reg: 0.0025 (0.0027)  time: 0.7667  data: 0.0838  max mem: 2573\n",
            "Epoch: [5]  [18/19]  eta: 0:00:00  lr: 0.000500  loss: 0.9441 (0.9415)  loss_classifier: 0.1251 (0.1375)  loss_box_reg: 0.3552 (0.3325)  loss_mask: 0.4178 (0.4596)  loss_objectness: 0.0076 (0.0088)  loss_rpn_box_reg: 0.0028 (0.0031)  time: 0.7310  data: 0.0537  max mem: 2573\n",
            "Epoch: [5] Total time: 0:00:14 (0.7378 s / it)\n",
            "creating index...\n",
            "index created!\n",
            "Test:  [0/4]  eta: 0:00:06  model_time: 0.7060 (0.7060)  evaluator_time: 0.2977 (0.2977)  time: 1.7339  data: 0.7105  max mem: 2573\n",
            "Test:  [3/4]  eta: 0:00:01  model_time: 0.4804 (0.5366)  evaluator_time: 0.2576 (0.2692)  time: 1.0095  data: 0.1847  max mem: 2573\n",
            "Test: Total time: 0:00:04 (1.0490 s / it)\n",
            "Averaged stats: model_time: 0.4804 (0.5366)  evaluator_time: 0.2576 (0.2692)\n",
            "Accumulating evaluation results...\n",
            "DONE (t=0.01s).\n",
            "Accumulating evaluation results...\n",
            "DONE (t=0.01s).\n",
            "IoU metric: bbox\n",
            " Average Precision  (AP) @[ IoU=0.50:0.95 | area=   all | maxDets=100 ] = 0.199\n",
            " Average Precision  (AP) @[ IoU=0.50      | area=   all | maxDets=100 ] = 0.786\n",
            " Average Precision  (AP) @[ IoU=0.75      | area=   all | maxDets=100 ] = 0.029\n",
            " Average Precision  (AP) @[ IoU=0.50:0.95 | area= small | maxDets=100 ] = -1.000\n",
            " Average Precision  (AP) @[ IoU=0.50:0.95 | area=medium | maxDets=100 ] = -1.000\n",
            " Average Precision  (AP) @[ IoU=0.50:0.95 | area= large | maxDets=100 ] = 0.199\n",
            " Average Recall     (AR) @[ IoU=0.50:0.95 | area=   all | maxDets=  1 ] = 0.062\n",
            " Average Recall     (AR) @[ IoU=0.50:0.95 | area=   all | maxDets= 10 ] = 0.331\n",
            " Average Recall     (AR) @[ IoU=0.50:0.95 | area=   all | maxDets=100 ] = 0.381\n",
            " Average Recall     (AR) @[ IoU=0.50:0.95 | area= small | maxDets=100 ] = -1.000\n",
            " Average Recall     (AR) @[ IoU=0.50:0.95 | area=medium | maxDets=100 ] = -1.000\n",
            " Average Recall     (AR) @[ IoU=0.50:0.95 | area= large | maxDets=100 ] = 0.381\n",
            "IoU metric: segm\n",
            " Average Precision  (AP) @[ IoU=0.50:0.95 | area=   all | maxDets=100 ] = 0.136\n",
            " Average Precision  (AP) @[ IoU=0.50      | area=   all | maxDets=100 ] = 0.550\n",
            " Average Precision  (AP) @[ IoU=0.75      | area=   all | maxDets=100 ] = 0.018\n",
            " Average Precision  (AP) @[ IoU=0.50:0.95 | area= small | maxDets=100 ] = -1.000\n",
            " Average Precision  (AP) @[ IoU=0.50:0.95 | area=medium | maxDets=100 ] = -1.000\n",
            " Average Precision  (AP) @[ IoU=0.50:0.95 | area= large | maxDets=100 ] = 0.136\n",
            " Average Recall     (AR) @[ IoU=0.50:0.95 | area=   all | maxDets=  1 ] = 0.062\n",
            " Average Recall     (AR) @[ IoU=0.50:0.95 | area=   all | maxDets= 10 ] = 0.231\n",
            " Average Recall     (AR) @[ IoU=0.50:0.95 | area=   all | maxDets=100 ] = 0.287\n",
            " Average Recall     (AR) @[ IoU=0.50:0.95 | area= small | maxDets=100 ] = -1.000\n",
            " Average Recall     (AR) @[ IoU=0.50:0.95 | area=medium | maxDets=100 ] = -1.000\n",
            " Average Recall     (AR) @[ IoU=0.50:0.95 | area= large | maxDets=100 ] = 0.287\n",
            "Epoch: [6]  [ 0/19]  eta: 0:00:26  lr: 0.000050  loss: 0.7569 (0.7569)  loss_classifier: 0.0957 (0.0957)  loss_box_reg: 0.2319 (0.2319)  loss_mask: 0.4104 (0.4104)  loss_objectness: 0.0161 (0.0161)  loss_rpn_box_reg: 0.0029 (0.0029)  time: 1.4047  data: 0.6707  max mem: 2573\n",
            "Epoch: [6]  [10/19]  eta: 0:00:06  lr: 0.000050  loss: 0.9061 (0.8878)  loss_classifier: 0.1260 (0.1284)  loss_box_reg: 0.3188 (0.3078)  loss_mask: 0.4104 (0.4396)  loss_objectness: 0.0072 (0.0090)  loss_rpn_box_reg: 0.0028 (0.0030)  time: 0.7666  data: 0.0764  max mem: 2573\n",
            "Epoch: [6]  [18/19]  eta: 0:00:00  lr: 0.000050  loss: 0.9061 (0.9082)  loss_classifier: 0.1330 (0.1332)  loss_box_reg: 0.3326 (0.3182)  loss_mask: 0.4114 (0.4449)  loss_objectness: 0.0072 (0.0091)  loss_rpn_box_reg: 0.0026 (0.0028)  time: 0.7388  data: 0.0498  max mem: 2573\n",
            "Epoch: [6] Total time: 0:00:14 (0.7459 s / it)\n",
            "creating index...\n",
            "index created!\n",
            "Test:  [0/4]  eta: 0:00:07  model_time: 0.7765 (0.7765)  evaluator_time: 0.2626 (0.2626)  time: 1.7571  data: 0.7082  max mem: 2573\n",
            "Test:  [3/4]  eta: 0:00:01  model_time: 0.5756 (0.5829)  evaluator_time: 0.2444 (0.2563)  time: 1.0410  data: 0.1841  max mem: 2573\n",
            "Test: Total time: 0:00:04 (1.0794 s / it)\n",
            "Averaged stats: model_time: 0.5756 (0.5829)  evaluator_time: 0.2444 (0.2563)\n",
            "Accumulating evaluation results...\n",
            "DONE (t=0.01s).\n",
            "Accumulating evaluation results...\n",
            "DONE (t=0.00s).\n",
            "IoU metric: bbox\n",
            " Average Precision  (AP) @[ IoU=0.50:0.95 | area=   all | maxDets=100 ] = 0.221\n",
            " Average Precision  (AP) @[ IoU=0.50      | area=   all | maxDets=100 ] = 0.813\n",
            " Average Precision  (AP) @[ IoU=0.75      | area=   all | maxDets=100 ] = 0.035\n",
            " Average Precision  (AP) @[ IoU=0.50:0.95 | area= small | maxDets=100 ] = -1.000\n",
            " Average Precision  (AP) @[ IoU=0.50:0.95 | area=medium | maxDets=100 ] = -1.000\n",
            " Average Precision  (AP) @[ IoU=0.50:0.95 | area= large | maxDets=100 ] = 0.221\n",
            " Average Recall     (AR) @[ IoU=0.50:0.95 | area=   all | maxDets=  1 ] = 0.075\n",
            " Average Recall     (AR) @[ IoU=0.50:0.95 | area=   all | maxDets= 10 ] = 0.331\n",
            " Average Recall     (AR) @[ IoU=0.50:0.95 | area=   all | maxDets=100 ] = 0.425\n",
            " Average Recall     (AR) @[ IoU=0.50:0.95 | area= small | maxDets=100 ] = -1.000\n",
            " Average Recall     (AR) @[ IoU=0.50:0.95 | area=medium | maxDets=100 ] = -1.000\n",
            " Average Recall     (AR) @[ IoU=0.50:0.95 | area= large | maxDets=100 ] = 0.425\n",
            "IoU metric: segm\n",
            " Average Precision  (AP) @[ IoU=0.50:0.95 | area=   all | maxDets=100 ] = 0.136\n",
            " Average Precision  (AP) @[ IoU=0.50      | area=   all | maxDets=100 ] = 0.552\n",
            " Average Precision  (AP) @[ IoU=0.75      | area=   all | maxDets=100 ] = 0.018\n",
            " Average Precision  (AP) @[ IoU=0.50:0.95 | area= small | maxDets=100 ] = -1.000\n",
            " Average Precision  (AP) @[ IoU=0.50:0.95 | area=medium | maxDets=100 ] = -1.000\n",
            " Average Precision  (AP) @[ IoU=0.50:0.95 | area= large | maxDets=100 ] = 0.136\n",
            " Average Recall     (AR) @[ IoU=0.50:0.95 | area=   all | maxDets=  1 ] = 0.062\n",
            " Average Recall     (AR) @[ IoU=0.50:0.95 | area=   all | maxDets= 10 ] = 0.244\n",
            " Average Recall     (AR) @[ IoU=0.50:0.95 | area=   all | maxDets=100 ] = 0.300\n",
            " Average Recall     (AR) @[ IoU=0.50:0.95 | area= small | maxDets=100 ] = -1.000\n",
            " Average Recall     (AR) @[ IoU=0.50:0.95 | area=medium | maxDets=100 ] = -1.000\n",
            " Average Recall     (AR) @[ IoU=0.50:0.95 | area= large | maxDets=100 ] = 0.300\n",
            "Epoch: [7]  [ 0/19]  eta: 0:00:27  lr: 0.000050  loss: 0.9754 (0.9754)  loss_classifier: 0.2061 (0.2061)  loss_box_reg: 0.3462 (0.3462)  loss_mask: 0.4065 (0.4065)  loss_objectness: 0.0135 (0.0135)  loss_rpn_box_reg: 0.0031 (0.0031)  time: 1.4655  data: 0.7203  max mem: 2573\n",
            "Epoch: [7]  [10/19]  eta: 0:00:06  lr: 0.000050  loss: 0.8563 (0.8414)  loss_classifier: 0.1139 (0.1210)  loss_box_reg: 0.3164 (0.2857)  loss_mask: 0.4065 (0.4246)  loss_objectness: 0.0050 (0.0072)  loss_rpn_box_reg: 0.0024 (0.0029)  time: 0.7720  data: 0.0807  max mem: 2573\n",
            "Epoch: [7]  [18/19]  eta: 0:00:00  lr: 0.000050  loss: 0.8970 (0.8776)  loss_classifier: 0.1192 (0.1217)  loss_box_reg: 0.3217 (0.3051)  loss_mask: 0.4081 (0.4414)  loss_objectness: 0.0054 (0.0066)  loss_rpn_box_reg: 0.0023 (0.0027)  time: 0.7367  data: 0.0521  max mem: 2573\n",
            "Epoch: [7] Total time: 0:00:14 (0.7437 s / it)\n",
            "creating index...\n",
            "index created!\n",
            "Test:  [0/4]  eta: 0:00:06  model_time: 0.7379 (0.7379)  evaluator_time: 0.2615 (0.2615)  time: 1.7106  data: 0.6969  max mem: 2573\n",
            "Test:  [3/4]  eta: 0:00:01  model_time: 0.5494 (0.5583)  evaluator_time: 0.2544 (0.2542)  time: 1.0122  data: 0.1813  max mem: 2573\n",
            "Test: Total time: 0:00:04 (1.0507 s / it)\n",
            "Averaged stats: model_time: 0.5494 (0.5583)  evaluator_time: 0.2544 (0.2542)\n",
            "Accumulating evaluation results...\n",
            "DONE (t=0.01s).\n",
            "Accumulating evaluation results...\n",
            "DONE (t=0.01s).\n",
            "IoU metric: bbox\n",
            " Average Precision  (AP) @[ IoU=0.50:0.95 | area=   all | maxDets=100 ] = 0.246\n",
            " Average Precision  (AP) @[ IoU=0.50      | area=   all | maxDets=100 ] = 0.789\n",
            " Average Precision  (AP) @[ IoU=0.75      | area=   all | maxDets=100 ] = 0.036\n",
            " Average Precision  (AP) @[ IoU=0.50:0.95 | area= small | maxDets=100 ] = -1.000\n",
            " Average Precision  (AP) @[ IoU=0.50:0.95 | area=medium | maxDets=100 ] = -1.000\n",
            " Average Precision  (AP) @[ IoU=0.50:0.95 | area= large | maxDets=100 ] = 0.246\n",
            " Average Recall     (AR) @[ IoU=0.50:0.95 | area=   all | maxDets=  1 ] = 0.075\n",
            " Average Recall     (AR) @[ IoU=0.50:0.95 | area=   all | maxDets= 10 ] = 0.394\n",
            " Average Recall     (AR) @[ IoU=0.50:0.95 | area=   all | maxDets=100 ] = 0.431\n",
            " Average Recall     (AR) @[ IoU=0.50:0.95 | area= small | maxDets=100 ] = -1.000\n",
            " Average Recall     (AR) @[ IoU=0.50:0.95 | area=medium | maxDets=100 ] = -1.000\n",
            " Average Recall     (AR) @[ IoU=0.50:0.95 | area= large | maxDets=100 ] = 0.431\n",
            "IoU metric: segm\n",
            " Average Precision  (AP) @[ IoU=0.50:0.95 | area=   all | maxDets=100 ] = 0.139\n",
            " Average Precision  (AP) @[ IoU=0.50      | area=   all | maxDets=100 ] = 0.578\n",
            " Average Precision  (AP) @[ IoU=0.75      | area=   all | maxDets=100 ] = 0.020\n",
            " Average Precision  (AP) @[ IoU=0.50:0.95 | area= small | maxDets=100 ] = -1.000\n",
            " Average Precision  (AP) @[ IoU=0.50:0.95 | area=medium | maxDets=100 ] = -1.000\n",
            " Average Precision  (AP) @[ IoU=0.50:0.95 | area= large | maxDets=100 ] = 0.139\n",
            " Average Recall     (AR) @[ IoU=0.50:0.95 | area=   all | maxDets=  1 ] = 0.062\n",
            " Average Recall     (AR) @[ IoU=0.50:0.95 | area=   all | maxDets= 10 ] = 0.256\n",
            " Average Recall     (AR) @[ IoU=0.50:0.95 | area=   all | maxDets=100 ] = 0.306\n",
            " Average Recall     (AR) @[ IoU=0.50:0.95 | area= small | maxDets=100 ] = -1.000\n",
            " Average Recall     (AR) @[ IoU=0.50:0.95 | area=medium | maxDets=100 ] = -1.000\n",
            " Average Recall     (AR) @[ IoU=0.50:0.95 | area= large | maxDets=100 ] = 0.306\n",
            "Epoch: [8]  [ 0/19]  eta: 0:00:28  lr: 0.000050  loss: 0.5745 (0.5745)  loss_classifier: 0.0811 (0.0811)  loss_box_reg: 0.1957 (0.1957)  loss_mask: 0.2948 (0.2948)  loss_objectness: 0.0013 (0.0013)  loss_rpn_box_reg: 0.0015 (0.0015)  time: 1.4873  data: 0.7378  max mem: 2573\n",
            "Epoch: [8]  [10/19]  eta: 0:00:06  lr: 0.000050  loss: 0.8968 (0.9050)  loss_classifier: 0.1252 (0.1262)  loss_box_reg: 0.3321 (0.3100)  loss_mask: 0.4071 (0.4592)  loss_objectness: 0.0039 (0.0068)  loss_rpn_box_reg: 0.0024 (0.0028)  time: 0.7709  data: 0.0828  max mem: 2573\n",
            "Epoch: [8]  [18/19]  eta: 0:00:00  lr: 0.000050  loss: 0.8721 (0.8637)  loss_classifier: 0.1237 (0.1207)  loss_box_reg: 0.3045 (0.2931)  loss_mask: 0.4064 (0.4405)  loss_objectness: 0.0047 (0.0068)  loss_rpn_box_reg: 0.0024 (0.0027)  time: 0.7379  data: 0.0534  max mem: 2573\n",
            "Epoch: [8] Total time: 0:00:14 (0.7450 s / it)\n",
            "creating index...\n",
            "index created!\n",
            "Test:  [0/4]  eta: 0:00:07  model_time: 0.8206 (0.8206)  evaluator_time: 0.2632 (0.2632)  time: 1.7793  data: 0.6740  max mem: 2573\n",
            "Test:  [3/4]  eta: 0:00:00  model_time: 0.4006 (0.5441)  evaluator_time: 0.2314 (0.2363)  time: 0.9751  data: 0.1767  max mem: 2573\n",
            "Test: Total time: 0:00:04 (1.0120 s / it)\n",
            "Averaged stats: model_time: 0.4006 (0.5441)  evaluator_time: 0.2314 (0.2363)\n",
            "Accumulating evaluation results...\n",
            "DONE (t=0.01s).\n",
            "Accumulating evaluation results...\n",
            "DONE (t=0.01s).\n",
            "IoU metric: bbox\n",
            " Average Precision  (AP) @[ IoU=0.50:0.95 | area=   all | maxDets=100 ] = 0.247\n",
            " Average Precision  (AP) @[ IoU=0.50      | area=   all | maxDets=100 ] = 0.791\n",
            " Average Precision  (AP) @[ IoU=0.75      | area=   all | maxDets=100 ] = 0.036\n",
            " Average Precision  (AP) @[ IoU=0.50:0.95 | area= small | maxDets=100 ] = -1.000\n",
            " Average Precision  (AP) @[ IoU=0.50:0.95 | area=medium | maxDets=100 ] = -1.000\n",
            " Average Precision  (AP) @[ IoU=0.50:0.95 | area= large | maxDets=100 ] = 0.247\n",
            " Average Recall     (AR) @[ IoU=0.50:0.95 | area=   all | maxDets=  1 ] = 0.075\n",
            " Average Recall     (AR) @[ IoU=0.50:0.95 | area=   all | maxDets= 10 ] = 0.350\n",
            " Average Recall     (AR) @[ IoU=0.50:0.95 | area=   all | maxDets=100 ] = 0.431\n",
            " Average Recall     (AR) @[ IoU=0.50:0.95 | area= small | maxDets=100 ] = -1.000\n",
            " Average Recall     (AR) @[ IoU=0.50:0.95 | area=medium | maxDets=100 ] = -1.000\n",
            " Average Recall     (AR) @[ IoU=0.50:0.95 | area= large | maxDets=100 ] = 0.431\n",
            "IoU metric: segm\n",
            " Average Precision  (AP) @[ IoU=0.50:0.95 | area=   all | maxDets=100 ] = 0.141\n",
            " Average Precision  (AP) @[ IoU=0.50      | area=   all | maxDets=100 ] = 0.611\n",
            " Average Precision  (AP) @[ IoU=0.75      | area=   all | maxDets=100 ] = 0.020\n",
            " Average Precision  (AP) @[ IoU=0.50:0.95 | area= small | maxDets=100 ] = -1.000\n",
            " Average Precision  (AP) @[ IoU=0.50:0.95 | area=medium | maxDets=100 ] = -1.000\n",
            " Average Precision  (AP) @[ IoU=0.50:0.95 | area= large | maxDets=100 ] = 0.141\n",
            " Average Recall     (AR) @[ IoU=0.50:0.95 | area=   all | maxDets=  1 ] = 0.062\n",
            " Average Recall     (AR) @[ IoU=0.50:0.95 | area=   all | maxDets= 10 ] = 0.244\n",
            " Average Recall     (AR) @[ IoU=0.50:0.95 | area=   all | maxDets=100 ] = 0.294\n",
            " Average Recall     (AR) @[ IoU=0.50:0.95 | area= small | maxDets=100 ] = -1.000\n",
            " Average Recall     (AR) @[ IoU=0.50:0.95 | area=medium | maxDets=100 ] = -1.000\n",
            " Average Recall     (AR) @[ IoU=0.50:0.95 | area= large | maxDets=100 ] = 0.294\n",
            "Epoch: [9]  [ 0/19]  eta: 0:00:26  lr: 0.000005  loss: 1.0218 (1.0218)  loss_classifier: 0.1210 (0.1210)  loss_box_reg: 0.3177 (0.3177)  loss_mask: 0.5760 (0.5760)  loss_objectness: 0.0031 (0.0031)  loss_rpn_box_reg: 0.0039 (0.0039)  time: 1.3887  data: 0.6884  max mem: 2573\n",
            "Epoch: [9]  [10/19]  eta: 0:00:06  lr: 0.000005  loss: 0.8772 (0.8843)  loss_classifier: 0.1210 (0.1272)  loss_box_reg: 0.3154 (0.3063)  loss_mask: 0.4022 (0.4427)  loss_objectness: 0.0033 (0.0055)  loss_rpn_box_reg: 0.0025 (0.0026)  time: 0.7669  data: 0.0763  max mem: 2573\n",
            "Epoch: [9]  [18/19]  eta: 0:00:00  lr: 0.000005  loss: 0.8708 (0.8579)  loss_classifier: 0.1210 (0.1243)  loss_box_reg: 0.3075 (0.2847)  loss_mask: 0.3985 (0.4384)  loss_objectness: 0.0043 (0.0079)  loss_rpn_box_reg: 0.0024 (0.0027)  time: 0.7314  data: 0.0496  max mem: 2573\n",
            "Epoch: [9] Total time: 0:00:14 (0.7386 s / it)\n",
            "creating index...\n",
            "index created!\n",
            "Test:  [0/4]  eta: 0:00:06  model_time: 0.6631 (0.6631)  evaluator_time: 0.2657 (0.2657)  time: 1.6693  data: 0.7238  max mem: 2573\n",
            "Test:  [3/4]  eta: 0:00:00  model_time: 0.5473 (0.5349)  evaluator_time: 0.2292 (0.2470)  time: 0.9884  data: 0.1883  max mem: 2573\n",
            "Test: Total time: 0:00:04 (1.0255 s / it)\n",
            "Averaged stats: model_time: 0.5473 (0.5349)  evaluator_time: 0.2292 (0.2470)\n",
            "Accumulating evaluation results...\n",
            "DONE (t=0.01s).\n",
            "Accumulating evaluation results...\n",
            "DONE (t=0.01s).\n",
            "IoU metric: bbox\n",
            " Average Precision  (AP) @[ IoU=0.50:0.95 | area=   all | maxDets=100 ] = 0.247\n",
            " Average Precision  (AP) @[ IoU=0.50      | area=   all | maxDets=100 ] = 0.791\n",
            " Average Precision  (AP) @[ IoU=0.75      | area=   all | maxDets=100 ] = 0.036\n",
            " Average Precision  (AP) @[ IoU=0.50:0.95 | area= small | maxDets=100 ] = -1.000\n",
            " Average Precision  (AP) @[ IoU=0.50:0.95 | area=medium | maxDets=100 ] = -1.000\n",
            " Average Precision  (AP) @[ IoU=0.50:0.95 | area= large | maxDets=100 ] = 0.247\n",
            " Average Recall     (AR) @[ IoU=0.50:0.95 | area=   all | maxDets=  1 ] = 0.075\n",
            " Average Recall     (AR) @[ IoU=0.50:0.95 | area=   all | maxDets= 10 ] = 0.350\n",
            " Average Recall     (AR) @[ IoU=0.50:0.95 | area=   all | maxDets=100 ] = 0.431\n",
            " Average Recall     (AR) @[ IoU=0.50:0.95 | area= small | maxDets=100 ] = -1.000\n",
            " Average Recall     (AR) @[ IoU=0.50:0.95 | area=medium | maxDets=100 ] = -1.000\n",
            " Average Recall     (AR) @[ IoU=0.50:0.95 | area= large | maxDets=100 ] = 0.431\n",
            "IoU metric: segm\n",
            " Average Precision  (AP) @[ IoU=0.50:0.95 | area=   all | maxDets=100 ] = 0.140\n",
            " Average Precision  (AP) @[ IoU=0.50      | area=   all | maxDets=100 ] = 0.609\n",
            " Average Precision  (AP) @[ IoU=0.75      | area=   all | maxDets=100 ] = 0.020\n",
            " Average Precision  (AP) @[ IoU=0.50:0.95 | area= small | maxDets=100 ] = -1.000\n",
            " Average Precision  (AP) @[ IoU=0.50:0.95 | area=medium | maxDets=100 ] = -1.000\n",
            " Average Precision  (AP) @[ IoU=0.50:0.95 | area= large | maxDets=100 ] = 0.140\n",
            " Average Recall     (AR) @[ IoU=0.50:0.95 | area=   all | maxDets=  1 ] = 0.062\n",
            " Average Recall     (AR) @[ IoU=0.50:0.95 | area=   all | maxDets= 10 ] = 0.237\n",
            " Average Recall     (AR) @[ IoU=0.50:0.95 | area=   all | maxDets=100 ] = 0.294\n",
            " Average Recall     (AR) @[ IoU=0.50:0.95 | area= small | maxDets=100 ] = -1.000\n",
            " Average Recall     (AR) @[ IoU=0.50:0.95 | area=medium | maxDets=100 ] = -1.000\n",
            " Average Recall     (AR) @[ IoU=0.50:0.95 | area= large | maxDets=100 ] = 0.294\n"
          ],
          "name": "stdout"
        }
      ]
    },
    {
      "cell_type": "code",
      "metadata": {
        "id": "0c3fJk2ArkzC"
      },
      "source": [
        "# pick one image from the test set\n",
        "img, _ = dataset_test[0]\n",
        "# put the model in evaluation mode\n",
        "model.eval()\n",
        "with torch.no_grad():\n",
        "    prediction = model([img.to(device)])"
      ],
      "execution_count": null,
      "outputs": []
    },
    {
      "cell_type": "code",
      "metadata": {
        "id": "zPxh5hHj0Akp",
        "colab": {
          "base_uri": "https://localhost:8080/",
          "height": 269
        },
        "outputId": "ef3a199d-709c-4959-beec-82665cff50c3"
      },
      "source": [
        "img1 = Image.fromarray(img.mul(255).permute(1, 2, 0).byte().numpy())\n",
        "\n",
        "plt.imshow(img1)\n",
        "ax = plt.gca()\n",
        "ax.grid(True, color='r', linestyle='--')\n",
        "plt.draw()\n",
        "plt.show()"
      ],
      "execution_count": null,
      "outputs": [
        {
          "output_type": "display_data",
          "data": {
            "image/png": "[encoded data removed]",
            "text/plain": [
              "<Figure size 432x288 with 1 Axes>"
            ]
          },
          "metadata": {
            "tags": [],
            "needs_background": "light"
          }
        }
      ]
    },
    {
      "cell_type": "code",
      "metadata": {
        "id": "Gt13tXtM2XB7",
        "colab": {
          "base_uri": "https://localhost:8080/",
          "height": 269
        },
        "outputId": "8eba9d0c-23f7-4ccc-f12a-a1fbb6244de2"
      },
      "source": [
        "pred1 = Image.fromarray(prediction[0]['masks'][0, 0].mul(255).byte().cpu().numpy())\n",
        "\n",
        "plt.imshow(pred1)\n",
        "ax = plt.gca()\n",
        "ax.grid(True, color='w', linestyle='--')\n",
        "plt.draw()\n",
        "plt.show()"
      ],
      "execution_count": null,
      "outputs": [
        {
          "output_type": "display_data",
          "data": {
            "image/png": "[encoded data removed]",
            "text/plain": [
              "<Figure size 432x288 with 1 Axes>"
            ]
          },
          "metadata": {
            "tags": [],
            "needs_background": "light"
          }
        }
      ]
    },
    {
      "cell_type": "code",
      "metadata": {
        "id": "zchsuEsx2dXB",
        "colab": {
          "base_uri": "https://localhost:8080/",
          "height": 269
        },
        "outputId": "aa4b61ca-e694-49d6-8550-70e189bd3b97"
      },
      "source": [
        "pred1 = Image.fromarray(prediction[0]['masks'][1, 0].mul(255).byte().cpu().numpy())\n",
        "\n",
        "plt.imshow(pred1)\n",
        "ax = plt.gca()\n",
        "ax.grid(True, color='w', linestyle='--')\n",
        "plt.draw()\n",
        "plt.show()"
      ],
      "execution_count": null,
      "outputs": [
        {
          "output_type": "display_data",
          "data": {
            "image/png": "[encoded data removed]",
            "text/plain": [
              "<Figure size 432x288 with 1 Axes>"
            ]
          },
          "metadata": {
            "tags": [],
            "needs_background": "light"
          }
        }
      ]
    },
    {
      "cell_type": "code",
      "metadata": {
        "id": "52RAVvnG2h1F",
        "colab": {
          "base_uri": "https://localhost:8080/",
          "height": 269
        },
        "outputId": "99d9ccdc-35d6-44b2-9ea8-8344a97710d1"
      },
      "source": [
        "pred1 = Image.fromarray(prediction[0]['masks'][2, 0].mul(255).byte().cpu().numpy())\n",
        "\n",
        "plt.imshow(pred1)\n",
        "ax = plt.gca()\n",
        "ax.grid(True, color='w', linestyle='--')\n",
        "plt.draw()\n",
        "plt.show()"
      ],
      "execution_count": null,
      "outputs": [
        {
          "output_type": "display_data",
          "data": {
            "image/png": "[encoded data removed]",
            "text/plain": [
              "<Figure size 432x288 with 1 Axes>"
            ]
          },
          "metadata": {
            "tags": [],
            "needs_background": "light"
          }
        }
      ]
    },
    {
      "cell_type": "code",
      "metadata": {
        "id": "IpfhYZ-q2qIN",
        "colab": {
          "base_uri": "https://localhost:8080/",
          "height": 269
        },
        "outputId": "a4d355d5-fa88-45b3-af8b-860a5a363ba7"
      },
      "source": [
        "pred1 = Image.fromarray(prediction[0]['masks'][3, 0].mul(255).byte().cpu().numpy())\n",
        "\n",
        "plt.imshow(pred1)\n",
        "ax = plt.gca()\n",
        "ax.grid(True, color='w', linestyle='--')\n",
        "plt.draw()\n",
        "plt.show()"
      ],
      "execution_count": null,
      "outputs": [
        {
          "output_type": "display_data",
          "data": {
            "image/png": "[encoded data removed]",
            "text/plain": [
              "<Figure size 432x288 with 1 Axes>"
            ]
          },
          "metadata": {
            "tags": [],
            "needs_background": "light"
          }
        }
      ]
    },
    {
      "cell_type": "code",
      "metadata": {
        "id": "xPmU322wENhE"
      },
      "source": [
        "# https://pytorch.org/tutorials/beginner/saving_loading_models.html\n",
        "# Save the model and its settings:\n",
        "\n",
        "# state_dict holds the model parameters. Not sure if necessary due to next command,\n",
        "# but this won't hurt.  \n",
        "torch.save(model.state_dict(), \"/content/drive/MyDrive/APHIS Farm Bill (2020Milestones)/Protocols/For John/images/New set for John/collection/four_chambers/model/MaskModelParams.pth\")\n",
        "\n",
        "# Save \"the whole model\"\n",
        "# \"This save/load process uses the most intuitive syntax and involves the least \n",
        "# amount of code. Saving a model in this way will save the entire module using \n",
        "# Python’s pickle module. The disadvantage of this approach is that the \n",
        "# serialized data is bound to the specific classes and the exact directory \n",
        "# structure used when the model is saved. The reason for this is because pickle \n",
        "# does not save the model class itself. Rather, it saves a path to the file \n",
        "# containing the class, which is used during load time. Because of this, your \n",
        "# code can break in various ways when used in other projects or after refactors.\"\n",
        "# Call \"model.eval()\" before saving. \n",
        "torch.save(model, \"/content/drive/MyDrive/APHIS Farm Bill (2020Milestones)/Protocols/For John/images/New set for John/collection/four_chambers/model/MaskInstanceModel.pth\")\n"
      ],
      "execution_count": null,
      "outputs": []
    }
  ]
}